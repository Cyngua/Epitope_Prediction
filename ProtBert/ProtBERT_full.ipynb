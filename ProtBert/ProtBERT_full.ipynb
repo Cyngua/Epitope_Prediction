{
  "cells": [
    {
      "cell_type": "markdown",
      "source": [
        "### Baseline Model"
      ],
      "metadata": {
        "id": "ND46RQEG9xC8"
      }
    },
    {
      "cell_type": "code",
      "execution_count": 1,
      "metadata": {
        "colab": {
          "base_uri": "https://localhost:8080/",
          "height": 424
        },
        "id": "Zp2mad_uuusx",
        "outputId": "696b1661-bba0-4d77-e36e-15d171f7a677"
      },
      "outputs": [
        {
          "output_type": "execute_result",
          "data": {
            "text/plain": [
              "                  Sequence  Label\n",
              "0     PTRAETREERMERKRREKIE      1\n",
              "1                    ERKRR      1\n",
              "3          AEEEEDDDMGFGLFD      1\n",
              "4      ASAPTAAAAASGGAAAPAA      0\n",
              "5            EEEDDDMGFGLFD      1\n",
              "...                    ...    ...\n",
              "5498          NSLLNLEKTMVR      1\n",
              "5499          DSTCPMVTAPCS      1\n",
              "5500          GLYHSNASFRVP      1\n",
              "5501          LTNPGLGSSPKA      1\n",
              "5502          SCYPAVPQCSTT      1\n",
              "\n",
              "[4451 rows x 2 columns]"
            ],
            "text/html": [
              "\n",
              "  <div id=\"df-e9f74789-347a-4cb4-b642-bfc70ba72e59\" class=\"colab-df-container\">\n",
              "    <div>\n",
              "<style scoped>\n",
              "    .dataframe tbody tr th:only-of-type {\n",
              "        vertical-align: middle;\n",
              "    }\n",
              "\n",
              "    .dataframe tbody tr th {\n",
              "        vertical-align: top;\n",
              "    }\n",
              "\n",
              "    .dataframe thead th {\n",
              "        text-align: right;\n",
              "    }\n",
              "</style>\n",
              "<table border=\"1\" class=\"dataframe\">\n",
              "  <thead>\n",
              "    <tr style=\"text-align: right;\">\n",
              "      <th></th>\n",
              "      <th>Sequence</th>\n",
              "      <th>Label</th>\n",
              "    </tr>\n",
              "  </thead>\n",
              "  <tbody>\n",
              "    <tr>\n",
              "      <th>0</th>\n",
              "      <td>PTRAETREERMERKRREKIE</td>\n",
              "      <td>1</td>\n",
              "    </tr>\n",
              "    <tr>\n",
              "      <th>1</th>\n",
              "      <td>ERKRR</td>\n",
              "      <td>1</td>\n",
              "    </tr>\n",
              "    <tr>\n",
              "      <th>3</th>\n",
              "      <td>AEEEEDDDMGFGLFD</td>\n",
              "      <td>1</td>\n",
              "    </tr>\n",
              "    <tr>\n",
              "      <th>4</th>\n",
              "      <td>ASAPTAAAAASGGAAAPAA</td>\n",
              "      <td>0</td>\n",
              "    </tr>\n",
              "    <tr>\n",
              "      <th>5</th>\n",
              "      <td>EEEDDDMGFGLFD</td>\n",
              "      <td>1</td>\n",
              "    </tr>\n",
              "    <tr>\n",
              "      <th>...</th>\n",
              "      <td>...</td>\n",
              "      <td>...</td>\n",
              "    </tr>\n",
              "    <tr>\n",
              "      <th>5498</th>\n",
              "      <td>NSLLNLEKTMVR</td>\n",
              "      <td>1</td>\n",
              "    </tr>\n",
              "    <tr>\n",
              "      <th>5499</th>\n",
              "      <td>DSTCPMVTAPCS</td>\n",
              "      <td>1</td>\n",
              "    </tr>\n",
              "    <tr>\n",
              "      <th>5500</th>\n",
              "      <td>GLYHSNASFRVP</td>\n",
              "      <td>1</td>\n",
              "    </tr>\n",
              "    <tr>\n",
              "      <th>5501</th>\n",
              "      <td>LTNPGLGSSPKA</td>\n",
              "      <td>1</td>\n",
              "    </tr>\n",
              "    <tr>\n",
              "      <th>5502</th>\n",
              "      <td>SCYPAVPQCSTT</td>\n",
              "      <td>1</td>\n",
              "    </tr>\n",
              "  </tbody>\n",
              "</table>\n",
              "<p>4451 rows × 2 columns</p>\n",
              "</div>\n",
              "    <div class=\"colab-df-buttons\">\n",
              "\n",
              "  <div class=\"colab-df-container\">\n",
              "    <button class=\"colab-df-convert\" onclick=\"convertToInteractive('df-e9f74789-347a-4cb4-b642-bfc70ba72e59')\"\n",
              "            title=\"Convert this dataframe to an interactive table.\"\n",
              "            style=\"display:none;\">\n",
              "\n",
              "  <svg xmlns=\"http://www.w3.org/2000/svg\" height=\"24px\" viewBox=\"0 -960 960 960\">\n",
              "    <path d=\"M120-120v-720h720v720H120Zm60-500h600v-160H180v160Zm220 220h160v-160H400v160Zm0 220h160v-160H400v160ZM180-400h160v-160H180v160Zm440 0h160v-160H620v160ZM180-180h160v-160H180v160Zm440 0h160v-160H620v160Z\"/>\n",
              "  </svg>\n",
              "    </button>\n",
              "\n",
              "  <style>\n",
              "    .colab-df-container {\n",
              "      display:flex;\n",
              "      gap: 12px;\n",
              "    }\n",
              "\n",
              "    .colab-df-convert {\n",
              "      background-color: #E8F0FE;\n",
              "      border: none;\n",
              "      border-radius: 50%;\n",
              "      cursor: pointer;\n",
              "      display: none;\n",
              "      fill: #1967D2;\n",
              "      height: 32px;\n",
              "      padding: 0 0 0 0;\n",
              "      width: 32px;\n",
              "    }\n",
              "\n",
              "    .colab-df-convert:hover {\n",
              "      background-color: #E2EBFA;\n",
              "      box-shadow: 0px 1px 2px rgba(60, 64, 67, 0.3), 0px 1px 3px 1px rgba(60, 64, 67, 0.15);\n",
              "      fill: #174EA6;\n",
              "    }\n",
              "\n",
              "    .colab-df-buttons div {\n",
              "      margin-bottom: 4px;\n",
              "    }\n",
              "\n",
              "    [theme=dark] .colab-df-convert {\n",
              "      background-color: #3B4455;\n",
              "      fill: #D2E3FC;\n",
              "    }\n",
              "\n",
              "    [theme=dark] .colab-df-convert:hover {\n",
              "      background-color: #434B5C;\n",
              "      box-shadow: 0px 1px 3px 1px rgba(0, 0, 0, 0.15);\n",
              "      filter: drop-shadow(0px 1px 2px rgba(0, 0, 0, 0.3));\n",
              "      fill: #FFFFFF;\n",
              "    }\n",
              "  </style>\n",
              "\n",
              "    <script>\n",
              "      const buttonEl =\n",
              "        document.querySelector('#df-e9f74789-347a-4cb4-b642-bfc70ba72e59 button.colab-df-convert');\n",
              "      buttonEl.style.display =\n",
              "        google.colab.kernel.accessAllowed ? 'block' : 'none';\n",
              "\n",
              "      async function convertToInteractive(key) {\n",
              "        const element = document.querySelector('#df-e9f74789-347a-4cb4-b642-bfc70ba72e59');\n",
              "        const dataTable =\n",
              "          await google.colab.kernel.invokeFunction('convertToInteractive',\n",
              "                                                    [key], {});\n",
              "        if (!dataTable) return;\n",
              "\n",
              "        const docLinkHtml = 'Like what you see? Visit the ' +\n",
              "          '<a target=\"_blank\" href=https://colab.research.google.com/notebooks/data_table.ipynb>data table notebook</a>'\n",
              "          + ' to learn more about interactive tables.';\n",
              "        element.innerHTML = '';\n",
              "        dataTable['output_type'] = 'display_data';\n",
              "        await google.colab.output.renderOutput(dataTable, element);\n",
              "        const docLink = document.createElement('div');\n",
              "        docLink.innerHTML = docLinkHtml;\n",
              "        element.appendChild(docLink);\n",
              "      }\n",
              "    </script>\n",
              "  </div>\n",
              "\n",
              "\n",
              "<div id=\"df-4361723c-25f1-4b10-bb9c-c9be8c342d6d\">\n",
              "  <button class=\"colab-df-quickchart\" onclick=\"quickchart('df-4361723c-25f1-4b10-bb9c-c9be8c342d6d')\"\n",
              "            title=\"Suggest charts\"\n",
              "            style=\"display:none;\">\n",
              "\n",
              "<svg xmlns=\"http://www.w3.org/2000/svg\" height=\"24px\"viewBox=\"0 0 24 24\"\n",
              "     width=\"24px\">\n",
              "    <g>\n",
              "        <path d=\"M19 3H5c-1.1 0-2 .9-2 2v14c0 1.1.9 2 2 2h14c1.1 0 2-.9 2-2V5c0-1.1-.9-2-2-2zM9 17H7v-7h2v7zm4 0h-2V7h2v10zm4 0h-2v-4h2v4z\"/>\n",
              "    </g>\n",
              "</svg>\n",
              "  </button>\n",
              "\n",
              "<style>\n",
              "  .colab-df-quickchart {\n",
              "      --bg-color: #E8F0FE;\n",
              "      --fill-color: #1967D2;\n",
              "      --hover-bg-color: #E2EBFA;\n",
              "      --hover-fill-color: #174EA6;\n",
              "      --disabled-fill-color: #AAA;\n",
              "      --disabled-bg-color: #DDD;\n",
              "  }\n",
              "\n",
              "  [theme=dark] .colab-df-quickchart {\n",
              "      --bg-color: #3B4455;\n",
              "      --fill-color: #D2E3FC;\n",
              "      --hover-bg-color: #434B5C;\n",
              "      --hover-fill-color: #FFFFFF;\n",
              "      --disabled-bg-color: #3B4455;\n",
              "      --disabled-fill-color: #666;\n",
              "  }\n",
              "\n",
              "  .colab-df-quickchart {\n",
              "    background-color: var(--bg-color);\n",
              "    border: none;\n",
              "    border-radius: 50%;\n",
              "    cursor: pointer;\n",
              "    display: none;\n",
              "    fill: var(--fill-color);\n",
              "    height: 32px;\n",
              "    padding: 0;\n",
              "    width: 32px;\n",
              "  }\n",
              "\n",
              "  .colab-df-quickchart:hover {\n",
              "    background-color: var(--hover-bg-color);\n",
              "    box-shadow: 0 1px 2px rgba(60, 64, 67, 0.3), 0 1px 3px 1px rgba(60, 64, 67, 0.15);\n",
              "    fill: var(--button-hover-fill-color);\n",
              "  }\n",
              "\n",
              "  .colab-df-quickchart-complete:disabled,\n",
              "  .colab-df-quickchart-complete:disabled:hover {\n",
              "    background-color: var(--disabled-bg-color);\n",
              "    fill: var(--disabled-fill-color);\n",
              "    box-shadow: none;\n",
              "  }\n",
              "\n",
              "  .colab-df-spinner {\n",
              "    border: 2px solid var(--fill-color);\n",
              "    border-color: transparent;\n",
              "    border-bottom-color: var(--fill-color);\n",
              "    animation:\n",
              "      spin 1s steps(1) infinite;\n",
              "  }\n",
              "\n",
              "  @keyframes spin {\n",
              "    0% {\n",
              "      border-color: transparent;\n",
              "      border-bottom-color: var(--fill-color);\n",
              "      border-left-color: var(--fill-color);\n",
              "    }\n",
              "    20% {\n",
              "      border-color: transparent;\n",
              "      border-left-color: var(--fill-color);\n",
              "      border-top-color: var(--fill-color);\n",
              "    }\n",
              "    30% {\n",
              "      border-color: transparent;\n",
              "      border-left-color: var(--fill-color);\n",
              "      border-top-color: var(--fill-color);\n",
              "      border-right-color: var(--fill-color);\n",
              "    }\n",
              "    40% {\n",
              "      border-color: transparent;\n",
              "      border-right-color: var(--fill-color);\n",
              "      border-top-color: var(--fill-color);\n",
              "    }\n",
              "    60% {\n",
              "      border-color: transparent;\n",
              "      border-right-color: var(--fill-color);\n",
              "    }\n",
              "    80% {\n",
              "      border-color: transparent;\n",
              "      border-right-color: var(--fill-color);\n",
              "      border-bottom-color: var(--fill-color);\n",
              "    }\n",
              "    90% {\n",
              "      border-color: transparent;\n",
              "      border-bottom-color: var(--fill-color);\n",
              "    }\n",
              "  }\n",
              "</style>\n",
              "\n",
              "  <script>\n",
              "    async function quickchart(key) {\n",
              "      const quickchartButtonEl =\n",
              "        document.querySelector('#' + key + ' button');\n",
              "      quickchartButtonEl.disabled = true;  // To prevent multiple clicks.\n",
              "      quickchartButtonEl.classList.add('colab-df-spinner');\n",
              "      try {\n",
              "        const charts = await google.colab.kernel.invokeFunction(\n",
              "            'suggestCharts', [key], {});\n",
              "      } catch (error) {\n",
              "        console.error('Error during call to suggestCharts:', error);\n",
              "      }\n",
              "      quickchartButtonEl.classList.remove('colab-df-spinner');\n",
              "      quickchartButtonEl.classList.add('colab-df-quickchart-complete');\n",
              "    }\n",
              "    (() => {\n",
              "      let quickchartButtonEl =\n",
              "        document.querySelector('#df-4361723c-25f1-4b10-bb9c-c9be8c342d6d button');\n",
              "      quickchartButtonEl.style.display =\n",
              "        google.colab.kernel.accessAllowed ? 'block' : 'none';\n",
              "    })();\n",
              "  </script>\n",
              "</div>\n",
              "    </div>\n",
              "  </div>\n"
            ],
            "application/vnd.google.colaboratory.intrinsic+json": {
              "type": "dataframe",
              "variable_name": "final_df",
              "summary": "{\n  \"name\": \"final_df\",\n  \"rows\": 4451,\n  \"fields\": [\n    {\n      \"column\": \"Sequence\",\n      \"properties\": {\n        \"dtype\": \"string\",\n        \"num_unique_values\": 4451,\n        \"samples\": [\n          \"IEDGRGCE\",\n          \"TDFVDEVRAIIPRVP\",\n          \"KDYYQKWMEE\"\n        ],\n        \"semantic_type\": \"\",\n        \"description\": \"\"\n      }\n    },\n    {\n      \"column\": \"Label\",\n      \"properties\": {\n        \"dtype\": \"number\",\n        \"std\": 0,\n        \"min\": 0,\n        \"max\": 1,\n        \"num_unique_values\": 2,\n        \"samples\": [\n          0,\n          1\n        ],\n        \"semantic_type\": \"\",\n        \"description\": \"\"\n      }\n    }\n  ]\n}"
            }
          },
          "metadata": {},
          "execution_count": 1
        }
      ],
      "source": [
        "import pandas as pd\n",
        "\n",
        "# Load the data with low_memory=False to avoid DtypeWarning\n",
        "df = pd.read_csv('clean_data.csv', low_memory=False)\n",
        "\n",
        "df = df.drop_duplicates(subset=['Epitope - Name'])\n",
        "\n",
        "# Filter rows where 'Epitope - Object Type' is 'Linear peptide'\n",
        "filtered_df = df[df['Epitope - Object Type'] == 'Linear peptide']\n",
        "\n",
        "# Rename the columns\n",
        "filtered_df.rename(columns={'Assay - Qualitative Measure': 'Label', 'Epitope - Name': 'Sequence'}, inplace=True)\n",
        "\n",
        "# Ensure you're operating on a copy to avoid SettingWithCopyWarning\n",
        "final_df = filtered_df[['Sequence', 'Label']].copy()\n",
        "\n",
        "# Display the final DataFrame to verify\n",
        "final_df"
      ]
    },
    {
      "cell_type": "code",
      "execution_count": 2,
      "metadata": {
        "colab": {
          "base_uri": "https://localhost:8080/",
          "height": 565
        },
        "id": "7vBiXmlXu8yv",
        "outputId": "8eb07247-4962-4bbd-c278-d152e6cf53cb"
      },
      "outputs": [
        {
          "output_type": "stream",
          "name": "stdout",
          "text": [
            "Using device: cuda\n"
          ]
        },
        {
          "output_type": "stream",
          "name": "stderr",
          "text": [
            "/usr/local/lib/python3.10/dist-packages/huggingface_hub/utils/_token.py:88: UserWarning: \n",
            "The secret `HF_TOKEN` does not exist in your Colab secrets.\n",
            "To authenticate with the Hugging Face Hub, create a token in your settings tab (https://huggingface.co/settings/tokens), set it as secret in your Google Colab and restart your session.\n",
            "You will be able to reuse this secret in all of your notebooks.\n",
            "Please note that authentication is recommended but still optional to access public models or datasets.\n",
            "  warnings.warn(\n"
          ]
        },
        {
          "output_type": "execute_result",
          "data": {
            "text/plain": [
              "                  Sequence  Label                                  Encoded\n",
              "0     PTRAETREERMERKRREKIE      1  P T R A E T R E E R M E R K R R E K I E\n",
              "1                    ERKRR      1                                E R K R R\n",
              "3          AEEEEDDDMGFGLFD      1            A E E E E D D D M G F G L F D\n",
              "4      ASAPTAAAAASGGAAAPAA      0    A S A P T A A A A A S G G A A A P A A\n",
              "5            EEEDDDMGFGLFD      1                E E E D D D M G F G L F D\n",
              "...                    ...    ...                                      ...\n",
              "5498          NSLLNLEKTMVR      1                  N S L L N L E K T M V R\n",
              "5499          DSTCPMVTAPCS      1                  D S T C P M V T A P C S\n",
              "5500          GLYHSNASFRVP      1                  G L Y H S N A S F R V P\n",
              "5501          LTNPGLGSSPKA      1                  L T N P G L G S S P K A\n",
              "5502          SCYPAVPQCSTT      1                  S C Y P A V P Q C S T T\n",
              "\n",
              "[4451 rows x 3 columns]"
            ],
            "text/html": [
              "\n",
              "  <div id=\"df-78b65006-df8a-4897-81d6-c5be5110f7cb\" class=\"colab-df-container\">\n",
              "    <div>\n",
              "<style scoped>\n",
              "    .dataframe tbody tr th:only-of-type {\n",
              "        vertical-align: middle;\n",
              "    }\n",
              "\n",
              "    .dataframe tbody tr th {\n",
              "        vertical-align: top;\n",
              "    }\n",
              "\n",
              "    .dataframe thead th {\n",
              "        text-align: right;\n",
              "    }\n",
              "</style>\n",
              "<table border=\"1\" class=\"dataframe\">\n",
              "  <thead>\n",
              "    <tr style=\"text-align: right;\">\n",
              "      <th></th>\n",
              "      <th>Sequence</th>\n",
              "      <th>Label</th>\n",
              "      <th>Encoded</th>\n",
              "    </tr>\n",
              "  </thead>\n",
              "  <tbody>\n",
              "    <tr>\n",
              "      <th>0</th>\n",
              "      <td>PTRAETREERMERKRREKIE</td>\n",
              "      <td>1</td>\n",
              "      <td>P T R A E T R E E R M E R K R R E K I E</td>\n",
              "    </tr>\n",
              "    <tr>\n",
              "      <th>1</th>\n",
              "      <td>ERKRR</td>\n",
              "      <td>1</td>\n",
              "      <td>E R K R R</td>\n",
              "    </tr>\n",
              "    <tr>\n",
              "      <th>3</th>\n",
              "      <td>AEEEEDDDMGFGLFD</td>\n",
              "      <td>1</td>\n",
              "      <td>A E E E E D D D M G F G L F D</td>\n",
              "    </tr>\n",
              "    <tr>\n",
              "      <th>4</th>\n",
              "      <td>ASAPTAAAAASGGAAAPAA</td>\n",
              "      <td>0</td>\n",
              "      <td>A S A P T A A A A A S G G A A A P A A</td>\n",
              "    </tr>\n",
              "    <tr>\n",
              "      <th>5</th>\n",
              "      <td>EEEDDDMGFGLFD</td>\n",
              "      <td>1</td>\n",
              "      <td>E E E D D D M G F G L F D</td>\n",
              "    </tr>\n",
              "    <tr>\n",
              "      <th>...</th>\n",
              "      <td>...</td>\n",
              "      <td>...</td>\n",
              "      <td>...</td>\n",
              "    </tr>\n",
              "    <tr>\n",
              "      <th>5498</th>\n",
              "      <td>NSLLNLEKTMVR</td>\n",
              "      <td>1</td>\n",
              "      <td>N S L L N L E K T M V R</td>\n",
              "    </tr>\n",
              "    <tr>\n",
              "      <th>5499</th>\n",
              "      <td>DSTCPMVTAPCS</td>\n",
              "      <td>1</td>\n",
              "      <td>D S T C P M V T A P C S</td>\n",
              "    </tr>\n",
              "    <tr>\n",
              "      <th>5500</th>\n",
              "      <td>GLYHSNASFRVP</td>\n",
              "      <td>1</td>\n",
              "      <td>G L Y H S N A S F R V P</td>\n",
              "    </tr>\n",
              "    <tr>\n",
              "      <th>5501</th>\n",
              "      <td>LTNPGLGSSPKA</td>\n",
              "      <td>1</td>\n",
              "      <td>L T N P G L G S S P K A</td>\n",
              "    </tr>\n",
              "    <tr>\n",
              "      <th>5502</th>\n",
              "      <td>SCYPAVPQCSTT</td>\n",
              "      <td>1</td>\n",
              "      <td>S C Y P A V P Q C S T T</td>\n",
              "    </tr>\n",
              "  </tbody>\n",
              "</table>\n",
              "<p>4451 rows × 3 columns</p>\n",
              "</div>\n",
              "    <div class=\"colab-df-buttons\">\n",
              "\n",
              "  <div class=\"colab-df-container\">\n",
              "    <button class=\"colab-df-convert\" onclick=\"convertToInteractive('df-78b65006-df8a-4897-81d6-c5be5110f7cb')\"\n",
              "            title=\"Convert this dataframe to an interactive table.\"\n",
              "            style=\"display:none;\">\n",
              "\n",
              "  <svg xmlns=\"http://www.w3.org/2000/svg\" height=\"24px\" viewBox=\"0 -960 960 960\">\n",
              "    <path d=\"M120-120v-720h720v720H120Zm60-500h600v-160H180v160Zm220 220h160v-160H400v160Zm0 220h160v-160H400v160ZM180-400h160v-160H180v160Zm440 0h160v-160H620v160ZM180-180h160v-160H180v160Zm440 0h160v-160H620v160Z\"/>\n",
              "  </svg>\n",
              "    </button>\n",
              "\n",
              "  <style>\n",
              "    .colab-df-container {\n",
              "      display:flex;\n",
              "      gap: 12px;\n",
              "    }\n",
              "\n",
              "    .colab-df-convert {\n",
              "      background-color: #E8F0FE;\n",
              "      border: none;\n",
              "      border-radius: 50%;\n",
              "      cursor: pointer;\n",
              "      display: none;\n",
              "      fill: #1967D2;\n",
              "      height: 32px;\n",
              "      padding: 0 0 0 0;\n",
              "      width: 32px;\n",
              "    }\n",
              "\n",
              "    .colab-df-convert:hover {\n",
              "      background-color: #E2EBFA;\n",
              "      box-shadow: 0px 1px 2px rgba(60, 64, 67, 0.3), 0px 1px 3px 1px rgba(60, 64, 67, 0.15);\n",
              "      fill: #174EA6;\n",
              "    }\n",
              "\n",
              "    .colab-df-buttons div {\n",
              "      margin-bottom: 4px;\n",
              "    }\n",
              "\n",
              "    [theme=dark] .colab-df-convert {\n",
              "      background-color: #3B4455;\n",
              "      fill: #D2E3FC;\n",
              "    }\n",
              "\n",
              "    [theme=dark] .colab-df-convert:hover {\n",
              "      background-color: #434B5C;\n",
              "      box-shadow: 0px 1px 3px 1px rgba(0, 0, 0, 0.15);\n",
              "      filter: drop-shadow(0px 1px 2px rgba(0, 0, 0, 0.3));\n",
              "      fill: #FFFFFF;\n",
              "    }\n",
              "  </style>\n",
              "\n",
              "    <script>\n",
              "      const buttonEl =\n",
              "        document.querySelector('#df-78b65006-df8a-4897-81d6-c5be5110f7cb button.colab-df-convert');\n",
              "      buttonEl.style.display =\n",
              "        google.colab.kernel.accessAllowed ? 'block' : 'none';\n",
              "\n",
              "      async function convertToInteractive(key) {\n",
              "        const element = document.querySelector('#df-78b65006-df8a-4897-81d6-c5be5110f7cb');\n",
              "        const dataTable =\n",
              "          await google.colab.kernel.invokeFunction('convertToInteractive',\n",
              "                                                    [key], {});\n",
              "        if (!dataTable) return;\n",
              "\n",
              "        const docLinkHtml = 'Like what you see? Visit the ' +\n",
              "          '<a target=\"_blank\" href=https://colab.research.google.com/notebooks/data_table.ipynb>data table notebook</a>'\n",
              "          + ' to learn more about interactive tables.';\n",
              "        element.innerHTML = '';\n",
              "        dataTable['output_type'] = 'display_data';\n",
              "        await google.colab.output.renderOutput(dataTable, element);\n",
              "        const docLink = document.createElement('div');\n",
              "        docLink.innerHTML = docLinkHtml;\n",
              "        element.appendChild(docLink);\n",
              "      }\n",
              "    </script>\n",
              "  </div>\n",
              "\n",
              "\n",
              "<div id=\"df-d291221f-f0d7-4e30-b0ca-4b998317d2b6\">\n",
              "  <button class=\"colab-df-quickchart\" onclick=\"quickchart('df-d291221f-f0d7-4e30-b0ca-4b998317d2b6')\"\n",
              "            title=\"Suggest charts\"\n",
              "            style=\"display:none;\">\n",
              "\n",
              "<svg xmlns=\"http://www.w3.org/2000/svg\" height=\"24px\"viewBox=\"0 0 24 24\"\n",
              "     width=\"24px\">\n",
              "    <g>\n",
              "        <path d=\"M19 3H5c-1.1 0-2 .9-2 2v14c0 1.1.9 2 2 2h14c1.1 0 2-.9 2-2V5c0-1.1-.9-2-2-2zM9 17H7v-7h2v7zm4 0h-2V7h2v10zm4 0h-2v-4h2v4z\"/>\n",
              "    </g>\n",
              "</svg>\n",
              "  </button>\n",
              "\n",
              "<style>\n",
              "  .colab-df-quickchart {\n",
              "      --bg-color: #E8F0FE;\n",
              "      --fill-color: #1967D2;\n",
              "      --hover-bg-color: #E2EBFA;\n",
              "      --hover-fill-color: #174EA6;\n",
              "      --disabled-fill-color: #AAA;\n",
              "      --disabled-bg-color: #DDD;\n",
              "  }\n",
              "\n",
              "  [theme=dark] .colab-df-quickchart {\n",
              "      --bg-color: #3B4455;\n",
              "      --fill-color: #D2E3FC;\n",
              "      --hover-bg-color: #434B5C;\n",
              "      --hover-fill-color: #FFFFFF;\n",
              "      --disabled-bg-color: #3B4455;\n",
              "      --disabled-fill-color: #666;\n",
              "  }\n",
              "\n",
              "  .colab-df-quickchart {\n",
              "    background-color: var(--bg-color);\n",
              "    border: none;\n",
              "    border-radius: 50%;\n",
              "    cursor: pointer;\n",
              "    display: none;\n",
              "    fill: var(--fill-color);\n",
              "    height: 32px;\n",
              "    padding: 0;\n",
              "    width: 32px;\n",
              "  }\n",
              "\n",
              "  .colab-df-quickchart:hover {\n",
              "    background-color: var(--hover-bg-color);\n",
              "    box-shadow: 0 1px 2px rgba(60, 64, 67, 0.3), 0 1px 3px 1px rgba(60, 64, 67, 0.15);\n",
              "    fill: var(--button-hover-fill-color);\n",
              "  }\n",
              "\n",
              "  .colab-df-quickchart-complete:disabled,\n",
              "  .colab-df-quickchart-complete:disabled:hover {\n",
              "    background-color: var(--disabled-bg-color);\n",
              "    fill: var(--disabled-fill-color);\n",
              "    box-shadow: none;\n",
              "  }\n",
              "\n",
              "  .colab-df-spinner {\n",
              "    border: 2px solid var(--fill-color);\n",
              "    border-color: transparent;\n",
              "    border-bottom-color: var(--fill-color);\n",
              "    animation:\n",
              "      spin 1s steps(1) infinite;\n",
              "  }\n",
              "\n",
              "  @keyframes spin {\n",
              "    0% {\n",
              "      border-color: transparent;\n",
              "      border-bottom-color: var(--fill-color);\n",
              "      border-left-color: var(--fill-color);\n",
              "    }\n",
              "    20% {\n",
              "      border-color: transparent;\n",
              "      border-left-color: var(--fill-color);\n",
              "      border-top-color: var(--fill-color);\n",
              "    }\n",
              "    30% {\n",
              "      border-color: transparent;\n",
              "      border-left-color: var(--fill-color);\n",
              "      border-top-color: var(--fill-color);\n",
              "      border-right-color: var(--fill-color);\n",
              "    }\n",
              "    40% {\n",
              "      border-color: transparent;\n",
              "      border-right-color: var(--fill-color);\n",
              "      border-top-color: var(--fill-color);\n",
              "    }\n",
              "    60% {\n",
              "      border-color: transparent;\n",
              "      border-right-color: var(--fill-color);\n",
              "    }\n",
              "    80% {\n",
              "      border-color: transparent;\n",
              "      border-right-color: var(--fill-color);\n",
              "      border-bottom-color: var(--fill-color);\n",
              "    }\n",
              "    90% {\n",
              "      border-color: transparent;\n",
              "      border-bottom-color: var(--fill-color);\n",
              "    }\n",
              "  }\n",
              "</style>\n",
              "\n",
              "  <script>\n",
              "    async function quickchart(key) {\n",
              "      const quickchartButtonEl =\n",
              "        document.querySelector('#' + key + ' button');\n",
              "      quickchartButtonEl.disabled = true;  // To prevent multiple clicks.\n",
              "      quickchartButtonEl.classList.add('colab-df-spinner');\n",
              "      try {\n",
              "        const charts = await google.colab.kernel.invokeFunction(\n",
              "            'suggestCharts', [key], {});\n",
              "      } catch (error) {\n",
              "        console.error('Error during call to suggestCharts:', error);\n",
              "      }\n",
              "      quickchartButtonEl.classList.remove('colab-df-spinner');\n",
              "      quickchartButtonEl.classList.add('colab-df-quickchart-complete');\n",
              "    }\n",
              "    (() => {\n",
              "      let quickchartButtonEl =\n",
              "        document.querySelector('#df-d291221f-f0d7-4e30-b0ca-4b998317d2b6 button');\n",
              "      quickchartButtonEl.style.display =\n",
              "        google.colab.kernel.accessAllowed ? 'block' : 'none';\n",
              "    })();\n",
              "  </script>\n",
              "</div>\n",
              "    </div>\n",
              "  </div>\n"
            ],
            "application/vnd.google.colaboratory.intrinsic+json": {
              "type": "dataframe",
              "variable_name": "df",
              "summary": "{\n  \"name\": \"df\",\n  \"rows\": 4451,\n  \"fields\": [\n    {\n      \"column\": \"Sequence\",\n      \"properties\": {\n        \"dtype\": \"string\",\n        \"num_unique_values\": 4451,\n        \"samples\": [\n          \"IEDGRGCE\",\n          \"TDFVDEVRAIIPRVP\",\n          \"KDYYQKWMEE\"\n        ],\n        \"semantic_type\": \"\",\n        \"description\": \"\"\n      }\n    },\n    {\n      \"column\": \"Label\",\n      \"properties\": {\n        \"dtype\": \"number\",\n        \"std\": 0,\n        \"min\": 0,\n        \"max\": 1,\n        \"num_unique_values\": 2,\n        \"samples\": [\n          0,\n          1\n        ],\n        \"semantic_type\": \"\",\n        \"description\": \"\"\n      }\n    },\n    {\n      \"column\": \"Encoded\",\n      \"properties\": {\n        \"dtype\": \"string\",\n        \"num_unique_values\": 4451,\n        \"samples\": [\n          \"I E D G R G C E\",\n          \"T D F V D E V R A I I P R V P\"\n        ],\n        \"semantic_type\": \"\",\n        \"description\": \"\"\n      }\n    }\n  ]\n}"
            }
          },
          "metadata": {},
          "execution_count": 2
        }
      ],
      "source": [
        "import torch\n",
        "import torch.nn as nn\n",
        "import torch.optim as optim\n",
        "from sklearn.metrics import accuracy_score, f1_score, roc_auc_score, classification_report\n",
        "from sklearn.model_selection import train_test_split\n",
        "from torch.utils.data import DataLoader, TensorDataset\n",
        "from tqdm import tqdm\n",
        "from transformers import BertTokenizer, BertModel\n",
        "\n",
        "# Check for GPU availability and set the device\n",
        "device = torch.device(\"cuda\" if torch.cuda.is_available() else \"cpu\")\n",
        "print(f\"Using device: {device}\")\n",
        "\n",
        "# Load ProtBERT model and tokenizer\n",
        "tokenizer = BertTokenizer.from_pretrained(\"Rostlab/prot_bert\", do_lower_case=False)\n",
        "\n",
        "# Move the model to the specified device (GPU if available)\n",
        "model = BertModel.from_pretrained(\"Rostlab/prot_bert\").to(device)\n",
        "model.eval()  # Set the model to evaluation mode\n",
        "\n",
        "# Preprocessing and encoding functions\n",
        "def clean_sequence(seq):\n",
        "    \"\"\" Remove extra information after '+' in the sequence \"\"\"\n",
        "    return seq.split('+')[0].strip()\n",
        "\n",
        "def preprocess_sequence(seq):\n",
        "    return ' '.join(seq)  # Ensure each amino acid is separated by a space\n",
        "\n",
        "def encode_sequence(seq):\n",
        "    encoded_input = tokenizer(seq, return_tensors='pt').to(device)  # Move encoded input to GPU\n",
        "    with torch.no_grad():\n",
        "        outputs = model(**encoded_input)\n",
        "    return outputs.pooler_output\n",
        "\n",
        "\n",
        "# Encode sequences with progress bar\n",
        "df = final_df.copy()\n",
        "#df['Label'] = df['Label'].apply(lambda x: 1 if x == 'Positive' else 0)\n",
        "\n",
        "df['Sequence'] = df['Sequence'].apply(clean_sequence)  # Clean sequences\n",
        "\n",
        "# Detect duplicates and inconsistencies\n",
        "duplicates = df.duplicated(subset=['Sequence'], keep=False)\n",
        "inconsistencies = df[duplicates].groupby('Sequence').nunique()['Label'] > 1\n",
        "inconsistent_sequences = inconsistencies[inconsistencies].index\n",
        "\n",
        "if not inconsistent_sequences.empty:\n",
        "    print(f\"Warning: Removing {len(inconsistent_sequences)} inconsistent sequences with different labels: {inconsistent_sequences.tolist()}\")\n",
        "    df = df[~df['Sequence'].isin(inconsistent_sequences)]\n",
        "\n",
        "# Deduplicate entries after removing inconsistencies\n",
        "df = df.drop_duplicates(subset=['Sequence'], keep='first')\n",
        "\n",
        "# Encode sequences\n",
        "df['Encoded'] = [preprocess_sequence(seq) for seq in df['Sequence']]\n",
        "df"
      ]
    },
    {
      "cell_type": "code",
      "execution_count": 3,
      "metadata": {
        "colab": {
          "base_uri": "https://localhost:8080/"
        },
        "id": "BVWp69BK5ZWg",
        "outputId": "5f277194-2a60-4eff-d01f-9ea341952def"
      },
      "outputs": [
        {
          "output_type": "stream",
          "name": "stderr",
          "text": [
            "Encoding Sequences: 100%|██████████| 4451/4451 [02:17<00:00, 32.41it/s]\n"
          ]
        }
      ],
      "source": [
        "# feature extraction\n",
        "embeddings = torch.cat([encode_sequence(seq) for seq in tqdm(df['Encoded'], desc=\"Encoding Sequences\")]).to(device)\n",
        "labels = torch.tensor(df['Label'].tolist(),  dtype=torch.float).to(device)"
      ]
    },
    {
      "cell_type": "code",
      "execution_count": 4,
      "metadata": {
        "colab": {
          "base_uri": "https://localhost:8080/"
        },
        "id": "VU0O_BD44IuH",
        "outputId": "8d7d8056-00e6-4228-f6ec-12a9001a255e"
      },
      "outputs": [
        {
          "output_type": "execute_result",
          "data": {
            "text/plain": [
              "tensor([-0.2717,  0.2866, -0.2588,  ...,  0.2734,  0.2558, -0.2791],\n",
              "       device='cuda:0')"
            ]
          },
          "metadata": {},
          "execution_count": 4
        }
      ],
      "source": [
        "embeddings[1]"
      ]
    },
    {
      "cell_type": "code",
      "execution_count": 5,
      "metadata": {
        "colab": {
          "base_uri": "https://localhost:8080/"
        },
        "id": "z9y-EN5a-U9e",
        "outputId": "d312021a-61dd-4806-9511-c7d8280288bd"
      },
      "outputs": [
        {
          "output_type": "execute_result",
          "data": {
            "text/plain": [
              "tensor([1., 1., 1.,  ..., 1., 1., 1.], device='cuda:0')"
            ]
          },
          "metadata": {},
          "execution_count": 5
        }
      ],
      "source": [
        "labels"
      ]
    },
    {
      "cell_type": "code",
      "execution_count": 6,
      "metadata": {
        "id": "y8y_xQUzQUbJ"
      },
      "outputs": [],
      "source": [
        "# Define the neural network with added complexity\n",
        "class SimpleNNplus(nn.Module):\n",
        "    def __init__(self, input_dim):\n",
        "        super(SimpleNNplus, self).__init__()\n",
        "        self.layer1 = nn.Linear(input_dim, 512)\n",
        "        self.relu1 = nn.LeakyReLU()\n",
        "        self.batchnorm1 = nn.BatchNorm1d(512)\n",
        "        self.layer2 = nn.Linear(512, 128)\n",
        "        self.relu2 = nn.LeakyReLU()\n",
        "        self.batchnorm2 = nn.BatchNorm1d(128)\n",
        "        self.layer3 = nn.Linear(128, 64)\n",
        "        self.relu3 = nn.LeakyReLU()\n",
        "        self.batchnorm3 = nn.BatchNorm1d(64)\n",
        "        self.layer4 = nn.Linear(64, 1)\n",
        "        self.sigmoid = nn.Sigmoid()\n",
        "\n",
        "    def forward(self, x):\n",
        "        x = self.layer1(x)\n",
        "        x = self.relu1(x)\n",
        "        x = self.batchnorm1(x)\n",
        "        x = self.layer2(x)\n",
        "        x = self.relu2(x)\n",
        "        x = self.batchnorm2(x)\n",
        "        x = self.layer3(x)\n",
        "        x = self.relu3(x)\n",
        "        x = self.batchnorm3(x)\n",
        "        x = self.layer4(x)\n",
        "        x = self.sigmoid(x)\n",
        "        return x\n"
      ]
    },
    {
      "cell_type": "code",
      "execution_count": 10,
      "metadata": {
        "colab": {
          "base_uri": "https://localhost:8080/"
        },
        "id": "6vK62nN58qpd",
        "outputId": "644e9b4a-2df6-45c6-a432-85661489673a"
      },
      "outputs": [
        {
          "output_type": "stream",
          "name": "stderr",
          "text": [
            "Training Progress:   0%|          | 1/1000 [00:00<09:05,  1.83it/s]"
          ]
        },
        {
          "output_type": "stream",
          "name": "stdout",
          "text": [
            "Epoch 1, Average Loss: 0.6426975200218814\n"
          ]
        },
        {
          "output_type": "stream",
          "name": "stderr",
          "text": [
            "Training Progress:  10%|█         | 101/1000 [00:34<04:24,  3.40it/s]"
          ]
        },
        {
          "output_type": "stream",
          "name": "stdout",
          "text": [
            "Epoch 101, Average Loss: 0.517629226403577\n"
          ]
        },
        {
          "output_type": "stream",
          "name": "stderr",
          "text": [
            "Training Progress:  20%|██        | 201/1000 [01:05<04:01,  3.30it/s]"
          ]
        },
        {
          "output_type": "stream",
          "name": "stdout",
          "text": [
            "Epoch 201, Average Loss: 0.5216369663498232\n"
          ]
        },
        {
          "output_type": "stream",
          "name": "stderr",
          "text": [
            "Training Progress:  30%|███       | 301/1000 [01:37<03:56,  2.95it/s]"
          ]
        },
        {
          "output_type": "stream",
          "name": "stdout",
          "text": [
            "Epoch 301, Average Loss: 0.5198294336774519\n"
          ]
        },
        {
          "output_type": "stream",
          "name": "stderr",
          "text": [
            "Training Progress:  40%|████      | 401/1000 [02:09<03:02,  3.29it/s]"
          ]
        },
        {
          "output_type": "stream",
          "name": "stdout",
          "text": [
            "Epoch 401, Average Loss: 0.5191368569753\n"
          ]
        },
        {
          "output_type": "stream",
          "name": "stderr",
          "text": [
            "Training Progress:  50%|█████     | 501/1000 [02:41<02:31,  3.30it/s]"
          ]
        },
        {
          "output_type": "stream",
          "name": "stdout",
          "text": [
            "Epoch 501, Average Loss: 0.5222164650580713\n"
          ]
        },
        {
          "output_type": "stream",
          "name": "stderr",
          "text": [
            "Training Progress:  60%|██████    | 601/1000 [03:12<02:18,  2.88it/s]"
          ]
        },
        {
          "output_type": "stream",
          "name": "stdout",
          "text": [
            "Epoch 601, Average Loss: 0.5193492961781365\n"
          ]
        },
        {
          "output_type": "stream",
          "name": "stderr",
          "text": [
            "Training Progress:  70%|███████   | 701/1000 [03:43<01:34,  3.17it/s]"
          ]
        },
        {
          "output_type": "stream",
          "name": "stdout",
          "text": [
            "Epoch 701, Average Loss: 0.5186745968780347\n"
          ]
        },
        {
          "output_type": "stream",
          "name": "stderr",
          "text": [
            "Training Progress:  80%|████████  | 801/1000 [04:14<01:01,  3.26it/s]"
          ]
        },
        {
          "output_type": "stream",
          "name": "stdout",
          "text": [
            "Epoch 801, Average Loss: 0.52019567388509\n"
          ]
        },
        {
          "output_type": "stream",
          "name": "stderr",
          "text": [
            "Training Progress:  90%|█████████ | 901/1000 [04:45<00:29,  3.38it/s]"
          ]
        },
        {
          "output_type": "stream",
          "name": "stdout",
          "text": [
            "Epoch 901, Average Loss: 0.5220147733177457\n"
          ]
        },
        {
          "output_type": "stream",
          "name": "stderr",
          "text": [
            "Training Progress: 100%|██████████| 1000/1000 [05:16<00:00,  3.16it/s]"
          ]
        },
        {
          "output_type": "stream",
          "name": "stdout",
          "text": [
            "Accuracy: 0.7654320987654321\n",
            "F1 Score: 0.009478672985781991\n",
            "AU-ROC: 0.5023809523809524\n"
          ]
        },
        {
          "output_type": "stream",
          "name": "stderr",
          "text": [
            "\n"
          ]
        }
      ],
      "source": [
        "import torch\n",
        "import torch.nn as nn\n",
        "import torch.optim as optim\n",
        "from torch.utils.data import DataLoader, TensorDataset\n",
        "from sklearn.metrics import accuracy_score, f1_score, roc_auc_score\n",
        "from sklearn.model_selection import train_test_split\n",
        "from tqdm import tqdm\n",
        "from torch.optim.lr_scheduler import StepLR\n",
        "\n",
        "\n",
        "# Setup neural network\n",
        "device = torch.device(\"cuda\" if torch.cuda.is_available() else \"cpu\")\n",
        "input_dim = embeddings.shape[1]\n",
        "classifier = SimpleNNplus(input_dim)\n",
        "classifier.to(device)\n",
        "\n",
        "# Split data into training and testing sets\n",
        "#X_train, X_test, y_train, y_test = train_test_split(embeddings, labels, test_size=0.2, random_state=42, stratify= labels.to('cpu'))\n",
        "X_train, X_test, y_train, y_test = train_test_split(embeddings, labels, test_size=0.2, random_state=42)\n",
        "\n",
        "# Convert to dataloaders\n",
        "train_dataset = TensorDataset(X_train, y_train)\n",
        "train_loader = DataLoader(train_dataset, batch_size=32, shuffle=True)\n",
        "test_dataset = TensorDataset(X_test, y_test)\n",
        "test_loader = DataLoader(test_dataset, batch_size=32, shuffle=False)\n",
        "\n",
        "# Initialize the optimizer\n",
        "\n",
        "# Binary Cross Entropy Loss for binary classification\n",
        "criterion = nn.BCELoss()\n",
        "optimizer = optim.AdamW(classifier.parameters(), lr=0.001)\n",
        "scheduler = StepLR(optimizer, step_size=25, gamma=0.1)  # Decreases the LR by a factor of 0.1 every 25 epochs\n",
        "\n",
        "# Training loop\n",
        "total_epochs = 1000\n",
        "for epoch in tqdm(range(total_epochs), desc=\"Training Progress\"):\n",
        "    epoch_losses = []\n",
        "    classifier.train()\n",
        "    for inputs, batch_labels in train_loader:\n",
        "        inputs, batch_labels = inputs.to(device), batch_labels.to(device)\n",
        "        optimizer.zero_grad()\n",
        "        outputs = classifier(inputs)\n",
        "        loss = criterion(outputs.squeeze(), batch_labels)\n",
        "        loss.backward()\n",
        "        optimizer.step()\n",
        "        epoch_losses.append(loss.item())\n",
        "    scheduler.step()  # Update the learning rate\n",
        "    if epoch % 100 == 0:\n",
        "        print(f'Epoch {epoch+1}, Average Loss: {sum(epoch_losses)/len(epoch_losses)}')\n",
        "\n",
        "# Evaluation\n",
        "classifier.eval()\n",
        "with torch.no_grad():\n",
        "    y_preds = []\n",
        "    for inputs, _ in test_loader:\n",
        "        inputs = inputs.to(device)\n",
        "        outputs = classifier(inputs)\n",
        "        y_preds.extend(outputs.squeeze().tolist())\n",
        "    y_preds = torch.tensor(y_preds).to('cpu')\n",
        "\n",
        "    y_preds_np = y_preds.round().numpy()\n",
        "    y_test_np = y_test.to('cpu').numpy()\n",
        "    accuracy = accuracy_score(y_test_np, y_preds_np)\n",
        "    f1 = f1_score(y_test_np, y_preds_np)\n",
        "    auc_roc = roc_auc_score(y_test_np, y_preds_np)\n",
        "\n",
        "print(f\"Accuracy: {accuracy}\")\n",
        "print(f\"F1 Score: {f1}\")\n",
        "print(f\"AU-ROC: {auc_roc}\")\n"
      ]
    },
    {
      "cell_type": "code",
      "execution_count": null,
      "metadata": {
        "id": "R1DuowsranMT"
      },
      "outputs": [],
      "source": [
        "# Split dataset into training and validation sets\n",
        "train_indices, val_indices = train_test_split(range(len(dataset)), test_size=0.2, random_state=42)\n",
        "batch_size = 16\n",
        "# Create DataLoader for training set\n",
        "train_sampler = torch.utils.data.SubsetRandomSampler (train_indices)\n",
        "train_loader = DataLoader (dataset, batch_size-batch_size, sampler=train_sampler)\n",
        "# Create DataLoader for validation set\n",
        "val_sampler = torch.utils.data.SubsetRandomSampler(val_indices)\n",
        "val_loader = DataLoader(dataset, batch_size-batch_size, sampler=val\n",
        "_sampler)"
      ]
    },
    {
      "cell_type": "code",
      "execution_count": null,
      "metadata": {
        "id": "xu9IlhHe4RHw",
        "outputId": "fd8037c7-5e46-475a-dbab-040a1399e096"
      },
      "outputs": [
        {
          "name": "stdout",
          "output_type": "stream",
          "text": [
            "{'batch_size': 8, 'epochs': 50}\n",
            "{'batch_size': 8, 'epochs': 100}\n",
            "{'batch_size': 8, 'epochs': 500}\n",
            "{'batch_size': 8, 'epochs': 1000}\n",
            "{'batch_size': 16, 'epochs': 50}\n",
            "{'batch_size': 16, 'epochs': 100}\n",
            "{'batch_size': 16, 'epochs': 500}\n",
            "{'batch_size': 16, 'epochs': 1000}\n",
            "{'batch_size': 32, 'epochs': 50}\n",
            "{'batch_size': 32, 'epochs': 100}\n",
            "{'batch_size': 32, 'epochs': 500}\n",
            "{'batch_size': 32, 'epochs': 1000}\n"
          ]
        }
      ],
      "source": [
        "import itertools\n",
        "\n",
        "def generate_configurations(batch_sizes, epochs):\n",
        "    # Use itertools.product to create all combinations of batch_sizes and epochs\n",
        "    product = itertools.product(batch_sizes, epochs)\n",
        "    # Convert each combination into a dictionary and return as a list\n",
        "    configurations = [{'batch_size': b, 'epochs': e} for b, e in product]\n",
        "    return configurations\n",
        "\n",
        "# Example usage\n",
        "batch_sizes = [8, 16, 32]\n",
        "epochs = [50, 100, 500, 1000]\n",
        "configs = generate_configurations(batch_sizes, epochs)\n",
        "\n",
        "# Print configurations to verify\n",
        "for config in configs:\n",
        "    print(config)"
      ]
    },
    {
      "cell_type": "markdown",
      "metadata": {
        "id": "qcvGYN-Bj9PR"
      },
      "source": [
        "test 004"
      ]
    },
    {
      "cell_type": "code",
      "execution_count": null,
      "metadata": {
        "id": "5VdOfCFP4RHz",
        "outputId": "6def8f0a-2b4a-402a-ea19-7eeee222aa1f"
      },
      "outputs": [
        {
          "data": {
            "text/plain": [
              "0.1699593117309672"
            ]
          },
          "execution_count": 15,
          "metadata": {},
          "output_type": "execute_result"
        }
      ],
      "source": [
        "3467/20399"
      ]
    },
    {
      "cell_type": "code",
      "execution_count": null,
      "metadata": {
        "colab": {
          "base_uri": "https://localhost:8080/",
          "height": 207
        },
        "id": "mTH66Y4ej_RF",
        "outputId": "edb5bbd6-ddff-47bf-b25b-1f2b3dcb5bed"
      },
      "outputs": [
        {
          "name": "stderr",
          "output_type": "stream",
          "text": [
            "Training with batch size=8: 100%|██████████| 50/50 [00:39<00:00,  1.26it/s]\n",
            "Training with batch size=8: 100%|██████████| 100/100 [01:19<00:00,  1.26it/s]\n",
            "Training with batch size=8: 100%|██████████| 500/500 [06:35<00:00,  1.26it/s]\n",
            "Training with batch size=8: 100%|██████████| 1000/1000 [13:17<00:00,  1.25it/s]\n",
            "Training with batch size=16: 100%|██████████| 50/50 [00:20<00:00,  2.43it/s]\n",
            "Training with batch size=16: 100%|██████████| 100/100 [00:41<00:00,  2.43it/s]\n",
            "Training with batch size=16: 100%|██████████| 500/500 [03:24<00:00,  2.45it/s]\n",
            "Training with batch size=16: 100%|██████████| 1000/1000 [06:47<00:00,  2.46it/s]\n",
            "Training with batch size=32: 100%|██████████| 50/50 [00:10<00:00,  4.61it/s]\n",
            "Training with batch size=32: 100%|██████████| 100/100 [00:21<00:00,  4.60it/s]\n",
            "Training with batch size=32: 100%|██████████| 500/500 [01:48<00:00,  4.60it/s]\n",
            "Training with batch size=32: 100%|██████████| 1000/1000 [03:37<00:00,  4.59it/s]\n",
            "Training with batch size=64: 100%|██████████| 50/50 [00:06<00:00,  8.17it/s]\n",
            "Training with batch size=64: 100%|██████████| 100/100 [00:12<00:00,  8.18it/s]\n",
            "Training with batch size=64: 100%|██████████| 500/500 [01:01<00:00,  8.15it/s]\n",
            "Training with batch size=64: 100%|██████████| 1000/1000 [02:02<00:00,  8.16it/s]"
          ]
        },
        {
          "name": "stdout",
          "output_type": "stream",
          "text": [
            "    batch_size  epochs  train_accuracy  final_accuracy  F1_score   roc_auc\n",
            "0            8      50        0.791820        0.757785  0.045455  0.506708\n",
            "1            8     100        0.795212        0.755479  0.009346  0.498610\n",
            "2            8     500        0.795212        0.755479  0.018519  0.500255\n",
            "3            8    1000        0.795212        0.758939  0.018779  0.502532\n",
            "4           16      50        0.795212        0.757785  0.009434  0.500128\n",
            "5           16     100        0.795212        0.761246  0.018957  0.504049\n",
            "6           16     500        0.795212        0.758939  0.000000  0.499241\n",
            "7           16    1000        0.795212        0.756632  0.000000  0.497724\n",
            "8           32      50        0.795212        0.757785  0.000000  0.498483\n",
            "9           32     100        0.795212        0.757785  0.000000  0.498483\n",
            "10          32     500        0.795212        0.758939  0.000000  0.499241\n",
            "11          32    1000        0.795212        0.756632  0.000000  0.497724\n",
            "12          64      50        0.795212        0.757785  0.000000  0.498483\n",
            "13          64     100        0.795212        0.758939  0.000000  0.499241\n",
            "14          64     500        0.795212        0.756632  0.000000  0.497724\n",
            "15          64    1000        0.795212        0.758939  0.000000  0.499241\n"
          ]
        },
        {
          "name": "stderr",
          "output_type": "stream",
          "text": [
            "\n"
          ]
        }
      ],
      "source": [
        "import torch\n",
        "import pandas as pd\n",
        "from torch.utils.data import DataLoader, TensorDataset\n",
        "from sklearn.metrics import accuracy_score, roc_auc_score\n",
        "from sklearn.model_selection import train_test_split\n",
        "from tqdm import tqdm\n",
        "import itertools\n",
        "from torch.optim.lr_scheduler import StepLR\n",
        "\n",
        "def generate_configurations(batch_sizes, epochs):\n",
        "    # Use itertools.product to create all combinations of batch_sizes and epochs\n",
        "    product = itertools.product(batch_sizes, epochs)\n",
        "    # Convert each combination into a dictionary and return as a list\n",
        "    configurations = [{'batch_size': b, 'epochs': e} for b, e in product]\n",
        "    return configurations\n",
        "\n",
        "# Example usage\n",
        "batch_sizes = [8, 16, 32, 64]\n",
        "epochs = [50, 100, 500, 1000]\n",
        "#batch_sizes = [8]\n",
        "#epochs = [10]\n",
        "configs = generate_configurations(batch_sizes, epochs)\n",
        "\n",
        "\n",
        "def run_experiment(config, train_dataset, test_dataset, classifier, criterion, optimizer, scheduler):\n",
        "    total_epochs = config['epochs']\n",
        "    batch_size = config['batch_size']\n",
        "    #train_loader.batch_size = batch_size  # Adjusting batch size for the DataLoader\n",
        "    train_loader = DataLoader(train_dataset, batch_size=batch_size, shuffle=True)\n",
        "    test_loader = DataLoader(test_dataset, batch_size=batch_size, shuffle=True)\n",
        "\n",
        "    # Lists to store metrics\n",
        "    epoch_losses = []\n",
        "    train_accuracies = []\n",
        "\n",
        "    for epoch in tqdm(range(total_epochs), desc=f\"Training with batch size={batch_size}\"):\n",
        "        # Training\n",
        "        classifier.train()\n",
        "        total = 0\n",
        "        correct = 0\n",
        "        for inputs, batch_labels in train_loader:\n",
        "            inputs, batch_labels = inputs.to(device), batch_labels.to(device)\n",
        "            optimizer.zero_grad()\n",
        "            outputs = classifier(inputs)\n",
        "            loss = criterion(outputs.squeeze(), batch_labels)\n",
        "            loss.backward()\n",
        "            optimizer.step()\n",
        "\n",
        "            # Calculate training accuracy\n",
        "            predicted = outputs.round().squeeze(-1)\n",
        "            total += batch_labels.size(0)\n",
        "            correct += (predicted == batch_labels).sum().item()\n",
        "            epoch_losses.append(loss.item())\n",
        "\n",
        "        train_accuracy = correct / total\n",
        "        train_accuracies.append(train_accuracy)\n",
        "        # print(f\"Training Accuracy: {train_accuracy:.2f}%\")  # Print as a formatted percentage\n",
        "\n",
        "        scheduler.step()  # Update learning rate\n",
        "\n",
        "    # Evaluation\n",
        "    classifier.eval()\n",
        "    with torch.no_grad():\n",
        "        y_preds = []\n",
        "        for inputs, _ in test_loader:\n",
        "            inputs = inputs.to(device)\n",
        "            outputs = classifier(inputs)\n",
        "            y_preds.extend(outputs.squeeze().tolist())\n",
        "\n",
        "    y_preds = torch.tensor(y_preds).to('cpu')\n",
        "    y_preds_np = y_preds.round().numpy()\n",
        "    y_test_np = y_test.to('cpu').numpy()\n",
        "    accuracy = accuracy_score(y_test_np, y_preds_np)\n",
        "    f1 = f1_score(y_test_np, y_preds_np)\n",
        "    roc_auc = roc_auc_score(y_test_np, y_preds_np)\n",
        "\n",
        "    return {\n",
        "        'batch_size': batch_size,\n",
        "        'epochs': total_epochs,\n",
        "        'train_accuracy': sum(train_accuracies) / len(train_accuracies),\n",
        "        'final_accuracy': accuracy,\n",
        "        'F1_score': f1,\n",
        "        'roc_auc': roc_auc\n",
        "    }\n",
        "\n",
        "\n",
        "# Setup neural network\n",
        "device = torch.device(\"cuda\" if torch.cuda.is_available() else \"cpu\")\n",
        "input_dim = embeddings.shape[1]\n",
        "classifier = SimpleNNplus(input_dim)\n",
        "classifier.to(device)\n",
        "\n",
        "# Split data into training and testing sets\n",
        "#X_train, X_test, y_train, y_test = train_test_split(embeddings, labels, test_size=0.2, random_state=42, stratify= labels.to('cpu'))\n",
        "X_train, X_test, y_train, y_test = train_test_split(embeddings, labels, test_size=0.2, random_state=42)\n",
        "\n",
        "# Convert to dataloaders\n",
        "train_dataset = TensorDataset(X_train, y_train)\n",
        "#train_loader = DataLoader(train_dataset, batch_size=32, shuffle=True)\n",
        "test_dataset = TensorDataset(X_test, y_test)\n",
        "#test_loader = DataLoader(test_dataset, batch_size=32, shuffle=False)\n",
        "\n",
        "# Binary Cross Entropy Loss for binary classification\n",
        "criterion = nn.BCELoss()\n",
        "optimizer = optim.AdamW(classifier.parameters(), lr=0.0001)\n",
        "scheduler = StepLR(optimizer, step_size=25, gamma=0.1)  # Decreases the LR by a factor of 0.1 every 25 epochs\n",
        "\n",
        "# Collect results from all configurations\n",
        "results = []\n",
        "for config in configs:\n",
        "    result = run_experiment(config, train_dataset, test_dataset, classifier, criterion, optimizer, scheduler)\n",
        "    results.append(result)\n",
        "\n",
        "# Convert results to DataFrame and print\n",
        "results_df = pd.DataFrame(results)\n",
        "print(results_df)\n",
        "#results_df.to_csv('experiment_results.csv', index=False)\n"
      ]
    },
    {
      "cell_type": "code",
      "execution_count": null,
      "metadata": {
        "id": "JdPleU5F4RH0"
      },
      "outputs": [],
      "source": [
        "results_df.to_csv('ProtBERT_experiment_results.csv', index=False)"
      ]
    },
    {
      "cell_type": "code",
      "execution_count": null,
      "metadata": {
        "id": "qn-JQmCG4RH1",
        "outputId": "b4771184-0d5f-4193-843f-778a34a66de5"
      },
      "outputs": [
        {
          "data": {
            "text/plain": [
              "'/gpfs/gibbs/project/cpsc477/cpsc477_ly349/DL_project/ProtBERT'"
            ]
          },
          "execution_count": 28,
          "metadata": {},
          "output_type": "execute_result"
        }
      ],
      "source": [
        "%pwd"
      ]
    },
    {
      "cell_type": "code",
      "execution_count": null,
      "metadata": {
        "id": "hNvoF22n4RH1"
      },
      "outputs": [],
      "source": []
    },
    {
      "cell_type": "markdown",
      "source": [
        "### Integrating Biological Information"
      ],
      "metadata": {
        "id": "-jc5UNJY9skI"
      }
    },
    {
      "cell_type": "code",
      "source": [
        "from sklearn.preprocessing import OneHotEncoder, StandardScaler\n",
        "from sklearn.impute import SimpleImputer"
      ],
      "metadata": {
        "id": "6FH5uJOI-zBE"
      },
      "execution_count": 7,
      "outputs": []
    },
    {
      "cell_type": "code",
      "source": [
        "df = pd.read_csv('clean_data.csv', low_memory=False)\n",
        "df = df.drop_duplicates(subset=['Epitope - Name'])"
      ],
      "metadata": {
        "id": "tTc4SlLk9u1j"
      },
      "execution_count": 8,
      "outputs": []
    },
    {
      "cell_type": "code",
      "source": [
        "# Rename the columns\n",
        "df.rename(columns={'Assay - Qualitative Measure': 'Label', 'Epitope - Name': 'Sequence'}, inplace=True)"
      ],
      "metadata": {
        "id": "3yQ7ZE0O_mL9"
      },
      "execution_count": 9,
      "outputs": []
    },
    {
      "cell_type": "code",
      "source": [
        "categorical_cols = ['Epitope - Source Molecule', 'Epitope - Source Organism', 'Host - Name', 'Host - Age',\n",
        "                    '1st in vivo Process - Process Type', '1st in vivo Process - Disease',\n",
        "                    '1st in vivo Process - Disease Stage', 'Assay - Method', 'Assay - Response measured',\n",
        "                    'Assay Antibody - Antibody Source Material', 'Assay Antibody - Immunoglobulin Domain',\n",
        "                    'Assay Antibody - Purification Status', 'Assay Antibody - Heavy chain isotype',\n",
        "                    'Assay Antigen - Epitope Relation', 'Assay Antigen - Object Type',\n",
        "                    'Assay Antigen - Source Organism', 'Assay Antigen - Species']\n",
        "\n",
        "continuous_cols = ['Epitope - Starting Position', 'Epitope - Ending Position',\n",
        "                   'Adoptive Transfer - Flag', 'Assay - Response Frequency (%)']"
      ],
      "metadata": {
        "id": "rJGjA3v--njQ"
      },
      "execution_count": 10,
      "outputs": []
    },
    {
      "cell_type": "code",
      "source": [
        "# Impute missing values for continuous columns\n",
        "imputer = SimpleImputer(strategy='mean')\n",
        "df[continuous_cols] = imputer.fit_transform(df[continuous_cols])\n",
        "\n",
        "# One-hot encode categorical columns\n",
        "encoder = OneHotEncoder(sparse=False)\n",
        "encoded_categorical = encoder.fit_transform(df[categorical_cols])\n",
        "encoded_categorical_df = pd.DataFrame(encoded_categorical, columns=encoder.get_feature_names_out(categorical_cols))\n",
        "\n",
        "# Standardize continuous columns\n",
        "scaler = StandardScaler()\n",
        "df[continuous_cols] = scaler.fit_transform(df[continuous_cols])"
      ],
      "metadata": {
        "colab": {
          "base_uri": "https://localhost:8080/"
        },
        "id": "CNxONaRb-rnG",
        "outputId": "382d6c63-6bb1-4998-bf61-07d8df224632"
      },
      "execution_count": 11,
      "outputs": [
        {
          "output_type": "stream",
          "name": "stderr",
          "text": [
            "/usr/local/lib/python3.10/dist-packages/sklearn/preprocessing/_encoders.py:868: FutureWarning: `sparse` was renamed to `sparse_output` in version 1.2 and will be removed in 1.4. `sparse_output` is ignored unless you leave `sparse` to its default value.\n",
            "  warnings.warn(\n"
          ]
        }
      ]
    },
    {
      "cell_type": "code",
      "source": [
        "# Check the number of rows in each dataset\n",
        "print(\"Number of rows in embeddings tensor:\", embeddings.shape[0])\n",
        "print(\"Number of rows in encoded_categorical_df:\", encoded_categorical_df.shape[0])\n",
        "print(\"Number of rows in continuous features dataframe:\", df[continuous_cols].shape[0])"
      ],
      "metadata": {
        "colab": {
          "base_uri": "https://localhost:8080/"
        },
        "id": "iw2dgD3o_D_H",
        "outputId": "a40ca6d2-8688-4de3-f7ef-3b25f7eeca35"
      },
      "execution_count": 12,
      "outputs": [
        {
          "output_type": "stream",
          "name": "stdout",
          "text": [
            "Number of rows in embeddings tensor: 4451\n",
            "Number of rows in encoded_categorical_df: 4451\n",
            "Number of rows in continuous features dataframe: 4451\n"
          ]
        }
      ]
    },
    {
      "cell_type": "code",
      "source": [
        "# Combine encoded categorical features, continuous features, and sequence embeddings\n",
        "combined_features = torch.cat([embeddings, torch.tensor(encoded_categorical_df.values, dtype=torch.float).to(device),\n",
        "                               torch.tensor(df[continuous_cols].values, dtype=torch.float).to(device)], dim=1)"
      ],
      "metadata": {
        "id": "nXR_u6rA-wxe"
      },
      "execution_count": 13,
      "outputs": []
    },
    {
      "cell_type": "code",
      "source": [
        "# Split data into training and testing sets\n",
        "X_train, X_test, y_train, y_test = train_test_split(combined_features, labels, test_size=0.2, random_state=42)\n",
        "\n",
        "# Convert to dataloaders\n",
        "train_dataset = TensorDataset(X_train, y_train)\n",
        "train_loader = DataLoader(train_dataset, batch_size=32, shuffle=True)\n",
        "test_dataset = TensorDataset(X_test, y_test)\n",
        "test_loader = DataLoader(test_dataset, batch_size=32, shuffle=False)"
      ],
      "metadata": {
        "id": "t6gm1VPW-2tf"
      },
      "execution_count": 14,
      "outputs": []
    },
    {
      "cell_type": "code",
      "source": [
        "# Initialize the model\n",
        "input_dim = combined_features.shape[1]\n",
        "classifier = SimpleNNplus(input_dim)\n",
        "classifier.to(device)"
      ],
      "metadata": {
        "colab": {
          "base_uri": "https://localhost:8080/"
        },
        "id": "XCCmpXCzD5wR",
        "outputId": "cbbf0e0e-64b2-4961-d9c0-e5f67f737f6b"
      },
      "execution_count": 15,
      "outputs": [
        {
          "output_type": "execute_result",
          "data": {
            "text/plain": [
              "SimpleNNplus(\n",
              "  (layer1): Linear(in_features=1371, out_features=512, bias=True)\n",
              "  (relu1): LeakyReLU(negative_slope=0.01)\n",
              "  (batchnorm1): BatchNorm1d(512, eps=1e-05, momentum=0.1, affine=True, track_running_stats=True)\n",
              "  (layer2): Linear(in_features=512, out_features=128, bias=True)\n",
              "  (relu2): LeakyReLU(negative_slope=0.01)\n",
              "  (batchnorm2): BatchNorm1d(128, eps=1e-05, momentum=0.1, affine=True, track_running_stats=True)\n",
              "  (layer3): Linear(in_features=128, out_features=64, bias=True)\n",
              "  (relu3): LeakyReLU(negative_slope=0.01)\n",
              "  (batchnorm3): BatchNorm1d(64, eps=1e-05, momentum=0.1, affine=True, track_running_stats=True)\n",
              "  (layer4): Linear(in_features=64, out_features=1, bias=True)\n",
              "  (sigmoid): Sigmoid()\n",
              ")"
            ]
          },
          "metadata": {},
          "execution_count": 15
        }
      ]
    },
    {
      "cell_type": "code",
      "source": [
        "# Define the optimizer and loss function\n",
        "criterion = nn.BCELoss()\n",
        "optimizer = optim.Adam(classifier.parameters(), lr=0.001)\n",
        "#scheduler = optim.lr_scheduler.StepLR(optimizer, step_size=25, gamma=0.1)"
      ],
      "metadata": {
        "id": "OZ2oB_NaD8YK"
      },
      "execution_count": 16,
      "outputs": []
    },
    {
      "cell_type": "code",
      "source": [
        "# Training loop\n",
        "total_epochs = 100\n",
        "for epoch in tqdm(range(total_epochs), desc=\"Training Progress\"):\n",
        "    epoch_losses = []\n",
        "    classifier.train()\n",
        "    for inputs, batch_labels in train_loader:\n",
        "        inputs, batch_labels = inputs.to(device), batch_labels.to(device)\n",
        "        optimizer.zero_grad()\n",
        "        outputs = classifier(inputs)\n",
        "        loss = criterion(outputs.squeeze(), batch_labels)\n",
        "        loss.backward()\n",
        "        optimizer.step()\n",
        "        epoch_losses.append(loss.item())\n",
        "    #scheduler.step()  # Update the learning rate\n",
        "    if epoch % 100 == 0:\n",
        "        print(f'Epoch {epoch+1}, Average Loss: {sum(epoch_losses)/len(epoch_losses)}')"
      ],
      "metadata": {
        "colab": {
          "base_uri": "https://localhost:8080/"
        },
        "id": "CGzdpscKD_1K",
        "outputId": "def95567-6d86-4c12-8813-c1cbfd5a770b"
      },
      "execution_count": 17,
      "outputs": [
        {
          "output_type": "stream",
          "name": "stderr",
          "text": [
            "Training Progress:   1%|          | 1/100 [00:00<00:43,  2.25it/s]"
          ]
        },
        {
          "output_type": "stream",
          "name": "stdout",
          "text": [
            "Epoch 1, Average Loss: 0.24428508853140687\n"
          ]
        },
        {
          "output_type": "stream",
          "name": "stderr",
          "text": [
            "Training Progress: 100%|██████████| 100/100 [00:32<00:00,  3.10it/s]\n"
          ]
        }
      ]
    },
    {
      "cell_type": "code",
      "source": [
        "# Evaluation\n",
        "classifier.eval()\n",
        "with torch.no_grad():\n",
        "    y_preds = []\n",
        "    for inputs, _ in test_loader:\n",
        "        inputs = inputs.to(device)\n",
        "        outputs = classifier(inputs)\n",
        "        y_preds.extend(outputs.squeeze().tolist())\n",
        "    y_preds = torch.tensor(y_preds).to('cpu')\n",
        "\n",
        "    y_preds_np = y_preds.round().numpy()\n",
        "    y_test_np = y_test.to('cpu').numpy()\n",
        "    accuracy = accuracy_score(y_test_np, y_preds_np)\n",
        "    f1 = f1_score(y_test_np, y_preds_np)\n",
        "    auc_roc = roc_auc_score(y_test_np, y_preds_np)\n",
        "\n",
        "print(f\"Accuracy: {accuracy}\")\n",
        "print(f\"F1 Score: {f1}\")\n",
        "print(f\"AU-ROC: {auc_roc}\")"
      ],
      "metadata": {
        "colab": {
          "base_uri": "https://localhost:8080/"
        },
        "id": "YTSv4Ef2ECyG",
        "outputId": "9eea1a4c-56a2-425d-fe56-e34a1ac5da81"
      },
      "execution_count": 18,
      "outputs": [
        {
          "output_type": "stream",
          "name": "stdout",
          "text": [
            "Accuracy: 0.9180695847362514\n",
            "F1 Score: 0.8443496801705758\n",
            "AU-ROC: 0.926641493601846\n"
          ]
        }
      ]
    },
    {
      "cell_type": "code",
      "source": [],
      "metadata": {
        "id": "qbVdIvQ5EIUY"
      },
      "execution_count": null,
      "outputs": []
    }
  ],
  "metadata": {
    "accelerator": "GPU",
    "colab": {
      "gpuType": "T4",
      "provenance": [],
      "toc_visible": true
    },
    "kernelspec": {
      "display_name": "Python 3 (ipykernel)",
      "language": "python",
      "name": "python3"
    },
    "language_info": {
      "codemirror_mode": {
        "name": "ipython",
        "version": 3
      },
      "file_extension": ".py",
      "mimetype": "text/x-python",
      "name": "python",
      "nbconvert_exporter": "python",
      "pygments_lexer": "ipython3",
      "version": "3.12.3"
    }
  },
  "nbformat": 4,
  "nbformat_minor": 0
}
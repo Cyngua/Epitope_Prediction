{
 "cells": [
  {
   "cell_type": "markdown",
   "metadata": {},
   "source": [
    "# test_model"
   ]
  },
  {
   "cell_type": "code",
   "execution_count": 15,
   "metadata": {},
   "outputs": [],
   "source": [
    "# torch utils\n",
    "import torch\n",
    "import torch.nn as nn\n",
    "import torch.nn.functional as F\n",
    "import torch.optim as optim\n",
    "import torch.utils.data as data\n",
    "import math\n",
    "import copy\n",
    "# from MITNet.MITNet import MITNet\n",
    "\n",
    "# prot-bert tokenizer\n",
    "from transformers import BertForMaskedLM, BertTokenizer, pipeline\n",
    "from torch.nn.utils.rnn import pad_sequence\n",
    "\n",
    "# data analysis\n",
    "import pandas as pd\n",
    "import matplotlib.pyplot as plt\n",
    "\n",
    "# training\n",
    "from torch.utils.data import DataLoader, TensorDataset\n",
    "from sklearn.model_selection import train_test_split\n",
    "import tqdm"
   ]
  },
  {
   "cell_type": "code",
   "execution_count": 2,
   "metadata": {},
   "outputs": [
    {
     "name": "stdout",
     "output_type": "stream",
     "text": [
      "CUDA is available! Running on GPU.\n"
     ]
    }
   ],
   "source": [
    "# run on gpu\n",
    "if torch.cuda.is_available():\n",
    "    device = torch.device(\"cuda\")\n",
    "    DEVICE_NAME = 'cuda'\n",
    "    print(\"CUDA is available! Running on GPU.\")\n",
    "else:\n",
    "    device = torch.device(\"cpu\")\n",
    "    DEVICE_NAME = 'cpu'\n",
    "    print(\"CUDA is not available. Running on CPU.\")"
   ]
  },
  {
   "cell_type": "markdown",
   "metadata": {},
   "source": [
    "## Our MITNet"
   ]
  },
  {
   "cell_type": "code",
   "execution_count": 3,
   "metadata": {},
   "outputs": [],
   "source": [
    "class MultiHeadAttention(nn.Module):\n",
    "    def __init__(self, d_model, num_heads):\n",
    "        super(MultiHeadAttention, self).__init__()\n",
    "        # Ensure that the model dimension (d_model) is divisible by the number of heads\n",
    "        assert d_model % num_heads == 0, \"d_model must be divisible by num_heads\"\n",
    "        \n",
    "        # Initialize dimensions\n",
    "        self.d_model = d_model # Model's dimension\n",
    "        self.num_heads = num_heads # Number of attention heads\n",
    "        self.d_k = d_model // num_heads # Dimension of each head's key, query, and value\n",
    "        \n",
    "        # Linear layers for transforming inputs\n",
    "        self.W_q = nn.Linear(d_model, d_model) # Query transformation\n",
    "        self.W_k = nn.Linear(d_model, d_model) # Key transformation\n",
    "        self.W_v = nn.Linear(d_model, d_model) # Value transformation\n",
    "        self.W_o = nn.Linear(d_model, d_model) # Output transformation\n",
    "        \n",
    "    def scaled_dot_product_attention(self, Q, K, V, mask=None):\n",
    "        # Calculate attention scores\n",
    "        attn_scores = torch.matmul(Q, K.transpose(-2, -1)) / math.sqrt(self.d_k)\n",
    "        \n",
    "        # Apply mask if provided (useful for preventing attention to certain parts like padding)\n",
    "        if mask is not None:\n",
    "            attn_scores = attn_scores.masked_fill(mask == 0, -1e9)\n",
    "        \n",
    "        # Softmax is applied to obtain attention probabilities\n",
    "        attn_probs = torch.softmax(attn_scores, dim=-1)\n",
    "        \n",
    "        # Multiply by values to obtain the final output\n",
    "        output = torch.matmul(attn_probs, V)\n",
    "        return output\n",
    "        \n",
    "    def split_heads(self, x):\n",
    "        # Reshape the input to have num_heads for multi-head attention\n",
    "        batch_size, seq_length, d_model = x.size()\n",
    "        return x.view(batch_size, seq_length, self.num_heads, self.d_k).transpose(1, 2)\n",
    "        \n",
    "    def combine_heads(self, x):\n",
    "        # Combine the multiple heads back to original shape\n",
    "        batch_size, _, seq_length, d_k = x.size()\n",
    "        return x.transpose(1, 2).contiguous().view(batch_size, seq_length, self.d_model)\n",
    "        \n",
    "    def forward(self, Q, K, V, mask=None):\n",
    "        # Apply linear transformations and split heads\n",
    "        Q = self.split_heads(self.W_q(Q))\n",
    "        K = self.split_heads(self.W_k(K))\n",
    "        V = self.split_heads(self.W_v(V))\n",
    "        \n",
    "        # Perform scaled dot-product attention\n",
    "        attn_output = self.scaled_dot_product_attention(Q, K, V, mask)\n",
    "        \n",
    "        # Combine heads and apply output transformation\n",
    "        output = self.W_o(self.combine_heads(attn_output))\n",
    "        return output\n",
    "    \n",
    "# NOTE: Redefine FF for MITNet\n",
    "class CovFeedForward(nn.Module):\n",
    "    def __init__(self, d_model, d_ff, in_channel, eps = 1e-6, dropout=0.2, ):\n",
    "        super(CovFeedForward, self).__init__()\n",
    "        self.norm1 = nn.LayerNorm(d_model, eps=eps)\n",
    "        # First convolutional filters, kernel size and activation: 4, 1, 'relu'\n",
    "        self.cov1 = nn.Conv1d(in_channel, d_ff, kernel_size=1)\n",
    "        # Second convolutional filters and kernel size: number of channel inputs, 1\n",
    "        self.cov2 = nn.Conv1d(d_ff, in_channel, kernel_size=1)\n",
    "        self.channel_input = d_ff\n",
    "        self.dropout = nn.Dropout(dropout)\n",
    "        self.relu = nn.ReLU()\n",
    "        \n",
    "    def forward(self, x):\n",
    "        # Layer normalization\n",
    "        x = self.norm1(x)\n",
    "        # First convolutional layer\n",
    "        x = self.cov1(x)\n",
    "        # ReLU activation\n",
    "        x = self.relu(x)\n",
    "        # Dropout\n",
    "        x = self.dropout(x)\n",
    "        # Second convolutional layer\n",
    "        x = self.cov2(x)\n",
    "        return x"
   ]
  },
  {
   "cell_type": "code",
   "execution_count": 4,
   "metadata": {},
   "outputs": [],
   "source": [
    "# NOTE: transformer block in figure 4\n",
    "class TransformerBlock(nn.Module):\n",
    "    def __init__(self, d_model, num_heads, d_ff, in_channel, dropout=0.25, eps=1e-6):\n",
    "        super(TransformerBlock, self).__init__()\n",
    "        self.norm1 = nn.LayerNorm(d_model, eps=eps)\n",
    "        self.self_attn = MultiHeadAttention(d_model, num_heads)\n",
    "        self.dropout = nn.Dropout(dropout)\n",
    "        self.cov_ff = CovFeedForward(d_model, d_ff, in_channel, eps=1e-6, dropout=0.2)\n",
    "    \n",
    "    def forward(self, x, mask):\n",
    "        res = x\n",
    "        # Layer normalization\n",
    "        x = self.norm1(x)\n",
    "        # Multihead Attention\n",
    "        x = self.self_attn(x, x, x, mask)\n",
    "        # Dropout\n",
    "        x = self.dropout(x)\n",
    "        x += res\n",
    "\n",
    "        # FeedFoward\n",
    "        res = x\n",
    "        x = self.cov_ff(x)\n",
    "        return x + res\n",
    "    \n",
    "class ClassificationBlock(nn.Module):\n",
    "    def __init__(self, input_dim, dropout, output_class=2, hidden_dim=128):\n",
    "        super(ClassificationBlock, self).__init__()\n",
    "        # TODO: \n",
    "        self.global_avg_pooling = nn.AdaptiveAvgPool1d(1)  # Global Average Pooling\n",
    "        self.mlp1 = nn.Sequential(\n",
    "            nn.Linear(input_dim, hidden_dim),  # MLP Layer 1\n",
    "            nn.ReLU(),\n",
    "            nn.Dropout(dropout)\n",
    "        )\n",
    "        self.mlp2 = nn.Linear(hidden_dim, output_class)  # Output MLP\n",
    "        \n",
    "    def forward(self, x):\n",
    "        # Global Average Pooling\n",
    "        out = self.global_avg_pooling(x.permute(0, 2, 1)).squeeze(2) \n",
    "        # MLP\n",
    "        out = self.mlp1(out)\n",
    "        # Output MLP\n",
    "        out = self.mlp2(out)\n",
    "        return F.softmax(out, dim=1)  # Softmax activation for classification\n",
    "    \n",
    "class TransformerMITNet(nn.Module):\n",
    "    def __init__(self, src_vocab_size, d_model, num_heads, num_layers, d_ff, in_channel, trans_dropout, class_dropout, max_seq_length=64):\n",
    "        super(TransformerMITNet, self).__init__()\n",
    "        '''\n",
    "        Transformer head MITNet:\n",
    "        (1) Embedding (one-hot/our choice)\n",
    "        (2) Transformer blocks * 4\n",
    "        (3) Classification block\n",
    "        '''\n",
    "        # TODO: replace this with our own encoding method\n",
    "        self.embedding = nn.Embedding(src_vocab_size, d_model)\n",
    "        # NOTE: may not need positional encoding for our project\n",
    "        # self.positional_encoding = PositionalEncoding(d_model, max_seq_length)\n",
    "\n",
    "        # Transformer blocks\n",
    "        self.transformer_blocks = nn.ModuleList([TransformerBlock(d_model, num_heads, d_ff, in_channel, dropout=trans_dropout) for _ in range(num_layers)])\n",
    "        # Classification\n",
    "        self.classification_block = ClassificationBlock(d_model, dropout=class_dropout, output_class=2, hidden_dim=128)\n",
    "\n",
    "    def generate_mask(self, src):\n",
    "        src_mask = (src != torch.tensor(0, dtype=src.dtype)).unsqueeze(1).unsqueeze(2)\n",
    "        return src_mask\n",
    "    \n",
    "    def forward(self, src):\n",
    "        # src_embedded = self.positional_encoding(self.encoder_embedding(src))\n",
    "        src_embedded = self.embedding(src)\n",
    "        src_mask = self.generate_mask(src)\n",
    "        tran_output = src_embedded\n",
    "        for tran_layer in self.transformer_blocks:\n",
    "            tran_output = tran_layer(tran_output, src_mask)\n",
    "        return self.classification_block(tran_output)"
   ]
  },
  {
   "cell_type": "code",
   "execution_count": 5,
   "metadata": {},
   "outputs": [],
   "source": [
    "class DenseLayer(nn.Module):\n",
    "    def __init__(self, input_dim, hidden_dims=[16, 64, 16]):\n",
    "        super(DenseLayer, self).__init__()\n",
    "        self.dense_1 = nn.Linear(input_dim, hidden_dims[0])\n",
    "        self.dense_2 = nn.Linear(hidden_dims[0],  hidden_dims[1])\n",
    "        self.dense_3 = nn.Linear(hidden_dims[1],  hidden_dims[2])\n",
    "        self.activation = nn.LeakyReLU()\n",
    "    \n",
    "    def forward(self, x):\n",
    "        x = self.activation(self.dense_1(x))\n",
    "        x = self.activation(self.dense_2(x))\n",
    "        x = self.activation(self.dense_3(x))\n",
    "        return x\n",
    "\n",
    "class DenseNetwork(nn.Module):\n",
    "    def __init__(self, input_dim, n_stack=1, hidden_dims=[16, 64, 16]):\n",
    "        super(DenseNetwork, self).__init__()\n",
    "        self.DenseNet = nn.ModuleList([DenseLayer(input_dim, hidden_dims) for _ in range(n_stack)])\n",
    "        self.BatchNorm = nn.BatchNorm1d(hidden_dims[-1])\n",
    "\n",
    "    def forward(self, x):\n",
    "        for module in self.DenseNet:\n",
    "            x = module(x)\n",
    "        x = self.BatchNorm(x)\n",
    "        return x"
   ]
  },
  {
   "cell_type": "code",
   "execution_count": 6,
   "metadata": {},
   "outputs": [],
   "source": [
    "class ClassificationNet(nn.Module):\n",
    "    def __init__(self, input_dim, hidden_dim=2):\n",
    "        super(ClassificationNet, self).__init__()\n",
    "        self.dense = nn.Linear(input_dim, hidden_dim)\n",
    "        self.output = nn.Softmax(dim=1)\n",
    "    \n",
    "    def forward(self, x):\n",
    "        return self.output(self.dense(x))"
   ]
  },
  {
   "cell_type": "code",
   "execution_count": 7,
   "metadata": {},
   "outputs": [],
   "source": [
    "class MITNet(nn.Module):\n",
    "    def __init__(self, src_vocab_size, in_channel, d_model=32, num_heads=4, num_layers=4, d_ff=4, trans_dropout=0.25, class_dropout=0.1):\n",
    "        super(MITNet, self).__init__()\n",
    "        # transformer: output class 0 or 1\n",
    "        self.transformer = TransformerMITNet(src_vocab_size, d_model, num_heads, num_layers, d_ff, in_channel, trans_dropout, class_dropout)\n",
    "        # dense network\n",
    "        self.dense = DenseNetwork(input_dim=2, n_stack=1, hidden_dims=[16, 64, 16])\n",
    "        # classification network: input 16, output 2\n",
    "        self.classification = ClassificationNet(input_dim=16, hidden_dim=2)\n",
    "\n",
    "    def forward(self, x):\n",
    "        x = self.transformer(x)\n",
    "        x = self.dense(x)\n",
    "        return self.classification(x)"
   ]
  },
  {
   "cell_type": "markdown",
   "metadata": {},
   "source": [
    "## Cleaned dataset"
   ]
  },
  {
   "cell_type": "code",
   "execution_count": 9,
   "metadata": {},
   "outputs": [
    {
     "name": "stdout",
     "output_type": "stream",
     "text": [
      "(5503, 24)\n"
     ]
    }
   ],
   "source": [
    "# Load the CSV file\n",
    "file_path = \"clean_data.csv\"\n",
    "data = pd.read_csv(file_path)\n",
    "\n",
    "# Display the first few rows of the loaded data\n",
    "print(data.shape)"
   ]
  },
  {
   "cell_type": "code",
   "execution_count": 10,
   "metadata": {},
   "outputs": [
    {
     "data": {
      "text/html": [
       "<div>\n",
       "<style scoped>\n",
       "    .dataframe tbody tr th:only-of-type {\n",
       "        vertical-align: middle;\n",
       "    }\n",
       "\n",
       "    .dataframe tbody tr th {\n",
       "        vertical-align: top;\n",
       "    }\n",
       "\n",
       "    .dataframe thead th {\n",
       "        text-align: right;\n",
       "    }\n",
       "</style>\n",
       "<table border=\"1\" class=\"dataframe\">\n",
       "  <thead>\n",
       "    <tr style=\"text-align: right;\">\n",
       "      <th></th>\n",
       "      <th>Epitope - Name</th>\n",
       "      <th>Assay - Qualitative Measure</th>\n",
       "      <th>Epitope - Object Type</th>\n",
       "      <th>Epitope - Starting Position</th>\n",
       "      <th>Epitope - Ending Position</th>\n",
       "      <th>Epitope - Source Molecule</th>\n",
       "      <th>Epitope - Source Organism</th>\n",
       "      <th>Host - Name</th>\n",
       "      <th>Host - Age</th>\n",
       "      <th>1st in vivo Process - Process Type</th>\n",
       "      <th>...</th>\n",
       "      <th>Assay - Response measured</th>\n",
       "      <th>Assay - Response Frequency (%)</th>\n",
       "      <th>Assay Antibody - Antibody Source Material</th>\n",
       "      <th>Assay Antibody - Immunoglobulin Domain</th>\n",
       "      <th>Assay Antibody - Purification Status</th>\n",
       "      <th>Assay Antibody - Heavy chain isotype</th>\n",
       "      <th>Assay Antigen - Epitope Relation</th>\n",
       "      <th>Assay Antigen - Object Type</th>\n",
       "      <th>Assay Antigen - Source Organism</th>\n",
       "      <th>Assay Antigen - Species</th>\n",
       "    </tr>\n",
       "  </thead>\n",
       "  <tbody>\n",
       "    <tr>\n",
       "      <th>0</th>\n",
       "      <td>PTRAETREERMERKRREKIE</td>\n",
       "      <td>1</td>\n",
       "      <td>Linear peptide</td>\n",
       "      <td>57.0</td>\n",
       "      <td>76.0</td>\n",
       "      <td>U1 small nuclear ribonucleoprotein 70 kDa</td>\n",
       "      <td>Homo sapiens</td>\n",
       "      <td>Homo sapiens</td>\n",
       "      <td>Seniors (65+ years)</td>\n",
       "      <td>Occurrence of autoimmune disease</td>\n",
       "      <td>...</td>\n",
       "      <td>qualitative binding</td>\n",
       "      <td>NaN</td>\n",
       "      <td>Serum</td>\n",
       "      <td>NaN</td>\n",
       "      <td>Polyclonal</td>\n",
       "      <td>NaN</td>\n",
       "      <td>Epitope</td>\n",
       "      <td>Linear peptide</td>\n",
       "      <td>Homo sapiens</td>\n",
       "      <td>Homo sapiens</td>\n",
       "    </tr>\n",
       "    <tr>\n",
       "      <th>1</th>\n",
       "      <td>ERKRR</td>\n",
       "      <td>1</td>\n",
       "      <td>Linear peptide</td>\n",
       "      <td>68.0</td>\n",
       "      <td>72.0</td>\n",
       "      <td>U1 small nuclear ribonucleoprotein 70 kDa</td>\n",
       "      <td>Homo sapiens</td>\n",
       "      <td>Homo sapiens</td>\n",
       "      <td>Seniors (65+ years)</td>\n",
       "      <td>Occurrence of autoimmune disease</td>\n",
       "      <td>...</td>\n",
       "      <td>qualitative binding</td>\n",
       "      <td>NaN</td>\n",
       "      <td>Serum</td>\n",
       "      <td>NaN</td>\n",
       "      <td>Polyclonal</td>\n",
       "      <td>NaN</td>\n",
       "      <td>Epitope</td>\n",
       "      <td>Linear peptide</td>\n",
       "      <td>Homo sapiens</td>\n",
       "      <td>Homo sapiens</td>\n",
       "    </tr>\n",
       "    <tr>\n",
       "      <th>2</th>\n",
       "      <td>ERKRR</td>\n",
       "      <td>1</td>\n",
       "      <td>Linear peptide</td>\n",
       "      <td>68.0</td>\n",
       "      <td>72.0</td>\n",
       "      <td>U1 small nuclear ribonucleoprotein 70 kDa</td>\n",
       "      <td>Homo sapiens</td>\n",
       "      <td>Homo sapiens</td>\n",
       "      <td>Seniors (65+ years)</td>\n",
       "      <td>Occurrence of autoimmune disease</td>\n",
       "      <td>...</td>\n",
       "      <td>qualitative binding</td>\n",
       "      <td>NaN</td>\n",
       "      <td>Serum</td>\n",
       "      <td>NaN</td>\n",
       "      <td>Polyclonal</td>\n",
       "      <td>NaN</td>\n",
       "      <td>Other</td>\n",
       "      <td>Protein</td>\n",
       "      <td>Influenza B virus (B/Singapore/222/79)</td>\n",
       "      <td>Influenza B virus</td>\n",
       "    </tr>\n",
       "    <tr>\n",
       "      <th>3</th>\n",
       "      <td>AEEEEDDDMGFGLFD</td>\n",
       "      <td>1</td>\n",
       "      <td>Linear peptide</td>\n",
       "      <td>93.0</td>\n",
       "      <td>107.0</td>\n",
       "      <td>ribosomal protein P-JL5</td>\n",
       "      <td>Trypanosoma cruzi</td>\n",
       "      <td>Homo sapiens</td>\n",
       "      <td>Seniors (65+ years)</td>\n",
       "      <td>Occurrence of autoimmune disease</td>\n",
       "      <td>...</td>\n",
       "      <td>qualitative binding</td>\n",
       "      <td>100.0</td>\n",
       "      <td>Serum</td>\n",
       "      <td>Entire Antibody</td>\n",
       "      <td>Polyclonal</td>\n",
       "      <td>IgG</td>\n",
       "      <td>Epitope</td>\n",
       "      <td>Linear peptide</td>\n",
       "      <td>Trypanosoma cruzi</td>\n",
       "      <td>Trypanosoma cruzi</td>\n",
       "    </tr>\n",
       "    <tr>\n",
       "      <th>4</th>\n",
       "      <td>ASAPTAAAAASGGAAAPAA</td>\n",
       "      <td>0</td>\n",
       "      <td>Linear peptide</td>\n",
       "      <td>73.0</td>\n",
       "      <td>91.0</td>\n",
       "      <td>ribosomal protein P-JL5</td>\n",
       "      <td>Trypanosoma cruzi</td>\n",
       "      <td>Homo sapiens</td>\n",
       "      <td>Seniors (65+ years)</td>\n",
       "      <td>Occurrence of autoimmune disease</td>\n",
       "      <td>...</td>\n",
       "      <td>qualitative binding</td>\n",
       "      <td>0.0</td>\n",
       "      <td>Serum</td>\n",
       "      <td>Entire Antibody</td>\n",
       "      <td>Polyclonal</td>\n",
       "      <td>IgG</td>\n",
       "      <td>Epitope</td>\n",
       "      <td>Linear peptide</td>\n",
       "      <td>Trypanosoma cruzi</td>\n",
       "      <td>Trypanosoma cruzi</td>\n",
       "    </tr>\n",
       "  </tbody>\n",
       "</table>\n",
       "<p>5 rows × 24 columns</p>\n",
       "</div>"
      ],
      "text/plain": [
       "         Epitope - Name  Assay - Qualitative Measure Epitope - Object Type  \\\n",
       "0  PTRAETREERMERKRREKIE                            1        Linear peptide   \n",
       "1                 ERKRR                            1        Linear peptide   \n",
       "2                 ERKRR                            1        Linear peptide   \n",
       "3       AEEEEDDDMGFGLFD                            1        Linear peptide   \n",
       "4   ASAPTAAAAASGGAAAPAA                            0        Linear peptide   \n",
       "\n",
       "   Epitope - Starting Position  Epitope - Ending Position  \\\n",
       "0                         57.0                       76.0   \n",
       "1                         68.0                       72.0   \n",
       "2                         68.0                       72.0   \n",
       "3                         93.0                      107.0   \n",
       "4                         73.0                       91.0   \n",
       "\n",
       "                   Epitope - Source Molecule Epitope - Source Organism  \\\n",
       "0  U1 small nuclear ribonucleoprotein 70 kDa              Homo sapiens   \n",
       "1  U1 small nuclear ribonucleoprotein 70 kDa              Homo sapiens   \n",
       "2  U1 small nuclear ribonucleoprotein 70 kDa              Homo sapiens   \n",
       "3                    ribosomal protein P-JL5         Trypanosoma cruzi   \n",
       "4                    ribosomal protein P-JL5         Trypanosoma cruzi   \n",
       "\n",
       "    Host - Name           Host - Age 1st in vivo Process - Process Type  ...  \\\n",
       "0  Homo sapiens  Seniors (65+ years)   Occurrence of autoimmune disease  ...   \n",
       "1  Homo sapiens  Seniors (65+ years)   Occurrence of autoimmune disease  ...   \n",
       "2  Homo sapiens  Seniors (65+ years)   Occurrence of autoimmune disease  ...   \n",
       "3  Homo sapiens  Seniors (65+ years)   Occurrence of autoimmune disease  ...   \n",
       "4  Homo sapiens  Seniors (65+ years)   Occurrence of autoimmune disease  ...   \n",
       "\n",
       "  Assay - Response measured Assay - Response Frequency (%)  \\\n",
       "0       qualitative binding                            NaN   \n",
       "1       qualitative binding                            NaN   \n",
       "2       qualitative binding                            NaN   \n",
       "3       qualitative binding                          100.0   \n",
       "4       qualitative binding                            0.0   \n",
       "\n",
       "   Assay Antibody - Antibody Source Material  \\\n",
       "0                                      Serum   \n",
       "1                                      Serum   \n",
       "2                                      Serum   \n",
       "3                                      Serum   \n",
       "4                                      Serum   \n",
       "\n",
       "  Assay Antibody - Immunoglobulin Domain Assay Antibody - Purification Status  \\\n",
       "0                                    NaN                           Polyclonal   \n",
       "1                                    NaN                           Polyclonal   \n",
       "2                                    NaN                           Polyclonal   \n",
       "3                        Entire Antibody                           Polyclonal   \n",
       "4                        Entire Antibody                           Polyclonal   \n",
       "\n",
       "   Assay Antibody - Heavy chain isotype Assay Antigen - Epitope Relation  \\\n",
       "0                                   NaN                          Epitope   \n",
       "1                                   NaN                          Epitope   \n",
       "2                                   NaN                            Other   \n",
       "3                                   IgG                          Epitope   \n",
       "4                                   IgG                          Epitope   \n",
       "\n",
       "  Assay Antigen - Object Type         Assay Antigen - Source Organism  \\\n",
       "0              Linear peptide                            Homo sapiens   \n",
       "1              Linear peptide                            Homo sapiens   \n",
       "2                     Protein  Influenza B virus (B/Singapore/222/79)   \n",
       "3              Linear peptide                       Trypanosoma cruzi   \n",
       "4              Linear peptide                       Trypanosoma cruzi   \n",
       "\n",
       "  Assay Antigen - Species  \n",
       "0            Homo sapiens  \n",
       "1            Homo sapiens  \n",
       "2       Influenza B virus  \n",
       "3       Trypanosoma cruzi  \n",
       "4       Trypanosoma cruzi  \n",
       "\n",
       "[5 rows x 24 columns]"
      ]
     },
     "execution_count": 10,
     "metadata": {},
     "output_type": "execute_result"
    }
   ],
   "source": [
    "data.head(5)"
   ]
  },
  {
   "cell_type": "code",
   "execution_count": 11,
   "metadata": {},
   "outputs": [
    {
     "data": {
      "text/html": [
       "<div>\n",
       "<style scoped>\n",
       "    .dataframe tbody tr th:only-of-type {\n",
       "        vertical-align: middle;\n",
       "    }\n",
       "\n",
       "    .dataframe tbody tr th {\n",
       "        vertical-align: top;\n",
       "    }\n",
       "\n",
       "    .dataframe thead th {\n",
       "        text-align: right;\n",
       "    }\n",
       "</style>\n",
       "<table border=\"1\" class=\"dataframe\">\n",
       "  <thead>\n",
       "    <tr style=\"text-align: right;\">\n",
       "      <th></th>\n",
       "      <th>Epitope - Name</th>\n",
       "      <th>Assay - Qualitative Measure</th>\n",
       "    </tr>\n",
       "  </thead>\n",
       "  <tbody>\n",
       "    <tr>\n",
       "      <th>0</th>\n",
       "      <td>PTRAETREERMERKRREKIE</td>\n",
       "      <td>1</td>\n",
       "    </tr>\n",
       "    <tr>\n",
       "      <th>1</th>\n",
       "      <td>ERKRR</td>\n",
       "      <td>1</td>\n",
       "    </tr>\n",
       "    <tr>\n",
       "      <th>2</th>\n",
       "      <td>ERKRR</td>\n",
       "      <td>1</td>\n",
       "    </tr>\n",
       "    <tr>\n",
       "      <th>3</th>\n",
       "      <td>AEEEEDDDMGFGLFD</td>\n",
       "      <td>1</td>\n",
       "    </tr>\n",
       "    <tr>\n",
       "      <th>4</th>\n",
       "      <td>ASAPTAAAAASGGAAAPAA</td>\n",
       "      <td>0</td>\n",
       "    </tr>\n",
       "  </tbody>\n",
       "</table>\n",
       "</div>"
      ],
      "text/plain": [
       "         Epitope - Name  Assay - Qualitative Measure\n",
       "0  PTRAETREERMERKRREKIE                            1\n",
       "1                 ERKRR                            1\n",
       "2                 ERKRR                            1\n",
       "3       AEEEEDDDMGFGLFD                            1\n",
       "4   ASAPTAAAAASGGAAAPAA                            0"
      ]
     },
     "execution_count": 11,
     "metadata": {},
     "output_type": "execute_result"
    }
   ],
   "source": [
    "target_col = \"Assay - Qualitative Measure\"\n",
    "feature_col = \"Epitope - Name\"\n",
    "filtered_df = data[[feature_col, target_col]]\n",
    "filtered_df.head(5)"
   ]
  },
  {
   "cell_type": "code",
   "execution_count": 12,
   "metadata": {},
   "outputs": [],
   "source": [
    "# # self tokenizer\n",
    "# from torch.nn.utils.rnn import pad_sequence\n",
    "\n",
    "# amino_acids = \"ACDEFGHIKLMNPQRSTVWY\"  # List of amino acids\n",
    "# vocab = {amino: i+1 for i, amino in enumerate(amino_acids)}  # Mapping amino acids to tokens\n",
    "# vocab_size = len(vocab) + 1  # Add 1 for padding token\n",
    "# pad_token = 0\n",
    "# def tokenize(sequence, vocab):\n",
    "#     return [vocab.get(aa, vocab_size) for aa in sequence]\n",
    "\n",
    "# # Tokenize sequences\n",
    "# filtered_df['Tokenized_Epitope'] = filtered_df['Epitope - Name'].apply(lambda x: tokenize(x, vocab))\n",
    "# pad_sequences = pad_sequence([torch.tensor(seq) for seq in filtered_df['Tokenized_Epitope']], padding_value=pad_token, batch_first=True)"
   ]
  },
  {
   "cell_type": "code",
   "execution_count": 13,
   "metadata": {},
   "outputs": [
    {
     "name": "stdout",
     "output_type": "stream",
     "text": [
      "PTRAETREERMERKRREKIE\n",
      "P T R A E T R E E R M E R K R R E K I E\n"
     ]
    },
    {
     "data": {
      "application/vnd.jupyter.widget-view+json": {
       "model_id": "9f4975eabf424c27836fccce532fb7a0",
       "version_major": 2,
       "version_minor": 0
      },
      "text/plain": [
       "tokenizer_config.json:   0%|          | 0.00/86.0 [00:00<?, ?B/s]"
      ]
     },
     "metadata": {},
     "output_type": "display_data"
    },
    {
     "data": {
      "application/vnd.jupyter.widget-view+json": {
       "model_id": "177f50b335054841afa5e9e1e1122e54",
       "version_major": 2,
       "version_minor": 0
      },
      "text/plain": [
       "vocab.txt:   0%|          | 0.00/81.0 [00:00<?, ?B/s]"
      ]
     },
     "metadata": {},
     "output_type": "display_data"
    },
    {
     "data": {
      "application/vnd.jupyter.widget-view+json": {
       "model_id": "3ad0a536e4a845b6bc15346a025536e7",
       "version_major": 2,
       "version_minor": 0
      },
      "text/plain": [
       "special_tokens_map.json:   0%|          | 0.00/112 [00:00<?, ?B/s]"
      ]
     },
     "metadata": {},
     "output_type": "display_data"
    },
    {
     "data": {
      "application/vnd.jupyter.widget-view+json": {
       "model_id": "2cbef4791a2d4a9a9a47b17fda96a412",
       "version_major": 2,
       "version_minor": 0
      },
      "text/plain": [
       "config.json:   0%|          | 0.00/361 [00:00<?, ?B/s]"
      ]
     },
     "metadata": {},
     "output_type": "display_data"
    },
    {
     "data": {
      "text/plain": [
       "{'input_ids': [2, 16, 15, 13, 6, 9, 15, 13, 9, 9, 13, 21, 9, 13, 12, 13, 13, 9, 12, 11, 9, 3], 'token_type_ids': [0, 0, 0, 0, 0, 0, 0, 0, 0, 0, 0, 0, 0, 0, 0, 0, 0, 0, 0, 0, 0, 0], 'attention_mask': [1, 1, 1, 1, 1, 1, 1, 1, 1, 1, 1, 1, 1, 1, 1, 1, 1, 1, 1, 1, 1, 1]}"
      ]
     },
     "execution_count": 13,
     "metadata": {},
     "output_type": "execute_result"
    }
   ],
   "source": [
    "print(filtered_df['Epitope - Name'][0])\n",
    "print(\" \".join(filtered_df['Epitope - Name'][0]))\n",
    "tokenizer = BertTokenizer.from_pretrained(\"Rostlab/prot_bert\", do_lower_case=False )\n",
    "tokenizer(\" \".join(filtered_df['Epitope - Name'][0]))"
   ]
  },
  {
   "cell_type": "code",
   "execution_count": 19,
   "metadata": {},
   "outputs": [],
   "source": [
    "# pro_bert tokenizer\n",
    "filtered_df['Tokenized_Epitope'] = filtered_df['Epitope - Name'].apply(lambda x: tokenizer(\" \".join(x))['input_ids'])\n",
    "pad_sequences = pad_sequence([torch.tensor(seq) for seq in filtered_df['Tokenized_Epitope']], padding_value=tokenizer.vocab[\"[PAD]\"], batch_first=True)"
   ]
  },
  {
   "cell_type": "code",
   "execution_count": 20,
   "metadata": {},
   "outputs": [
    {
     "data": {
      "text/plain": [
       "torch.Size([5503, 27])"
      ]
     },
     "execution_count": 20,
     "metadata": {},
     "output_type": "execute_result"
    }
   ],
   "source": [
    "pad_sequences.shape"
   ]
  },
  {
   "cell_type": "code",
   "execution_count": 21,
   "metadata": {},
   "outputs": [],
   "source": [
    "# test\n",
    "src_vocab_size = len(tokenizer.vocab)\n",
    "in_channel = pad_sequences.shape[1]\n",
    "model = MITNet(src_vocab_size, in_channel)\n",
    "pred = model(pad_sequences)"
   ]
  },
  {
   "cell_type": "code",
   "execution_count": 24,
   "metadata": {},
   "outputs": [],
   "source": [
    "# label_mapping = {'Positive': 1, 'Negative': 0}\n",
    "# filtered_df['Label'] = filtered_df['Assay - Qualitative Measurement'].map(label_mapping)\n",
    "target_tensor = torch.tensor(filtered_df[\"Assay - Qualitative Measure\"].values, dtype=torch.long)"
   ]
  },
  {
   "cell_type": "code",
   "execution_count": 23,
   "metadata": {},
   "outputs": [],
   "source": [
    "# filtered_df.to_csv(\"tokenized_labelled_tcell.csv\")"
   ]
  },
  {
   "cell_type": "markdown",
   "metadata": {},
   "source": [
    "## Training Experiment I\n",
    "\n",
    "Training details:\n",
    "* Optimizer Adam: lr = 1e-4\n",
    "* Training Epochs: 80\n",
    "* Loss Function: Cross Entropy Loss\n",
    "* Traing validation split: 8:2\n",
    "* Batch Size: 16"
   ]
  },
  {
   "cell_type": "code",
   "execution_count": 69,
   "metadata": {},
   "outputs": [],
   "source": [
    "src_vocab_size = len(tokenizer.vocab)\n",
    "in_channel = pad_sequences.shape[1]\n",
    "# change to cuda\n",
    "model = MITNet(src_vocab_size, in_channel).to(device)\n",
    "target_tensor = target_tensor.to(device)\n",
    "pad_sequences = pad_sequences.to(device)\n",
    "\n",
    "# Define your loss function and optimizer\n",
    "criterion = nn.CrossEntropyLoss()\n",
    "learning_rate = 1e-4\n",
    "optimizer = optim.Adam(model.parameters(), lr=learning_rate)\n",
    "\n",
    "# Create a TensorDataset\n",
    "dataset = TensorDataset(pad_sequences, target_tensor)\n",
    "\n",
    "\n",
    "# Split dataset into training and validation sets\n",
    "train_indices, val_indices = train_test_split(range(len(dataset)), test_size=0.2, random_state=42)\n",
    "\n",
    "batch_size = 16\n",
    "# Create DataLoader for training set\n",
    "train_sampler = torch.utils.data.SubsetRandomSampler(train_indices)\n",
    "train_loader = DataLoader(dataset, batch_size=batch_size, sampler=train_sampler)\n",
    "# Create DataLoader for validation set\n",
    "val_sampler = torch.utils.data.SubsetRandomSampler(val_indices)\n",
    "val_loader = DataLoader(dataset, batch_size=batch_size, sampler=val_sampler)\n"
   ]
  },
  {
   "cell_type": "code",
   "execution_count": 70,
   "metadata": {},
   "outputs": [
    {
     "name": "stdout",
     "output_type": "stream",
     "text": [
      "Epoch 1, Loss: 0.6397, Accuracy: 0.6786\n",
      "Epoch 6, Loss: 0.4994, Accuracy: 0.8224\n",
      "Epoch 11, Loss: 0.4755, Accuracy: 0.8396\n",
      "Epoch 16, Loss: 0.4631, Accuracy: 0.8496\n",
      "Epoch 21, Loss: 0.4595, Accuracy: 0.8544\n",
      "Epoch 26, Loss: 0.4570, Accuracy: 0.8539\n",
      "Epoch 31, Loss: 0.4515, Accuracy: 0.8601\n",
      "Epoch 36, Loss: 0.4500, Accuracy: 0.8614\n",
      "Epoch 41, Loss: 0.4537, Accuracy: 0.8587\n",
      "Epoch 46, Loss: 0.4443, Accuracy: 0.8694\n",
      "Epoch 51, Loss: 0.4430, Accuracy: 0.8696\n",
      "Epoch 56, Loss: 0.4409, Accuracy: 0.8705\n",
      "Epoch 61, Loss: 0.4409, Accuracy: 0.8705\n",
      "Epoch 66, Loss: 0.4391, Accuracy: 0.8719\n",
      "Epoch 71, Loss: 0.4375, Accuracy: 0.8746\n",
      "Epoch 76, Loss: 0.4343, Accuracy: 0.8778\n",
      "Training finished\n"
     ]
    }
   ],
   "source": [
    "# Training loop\n",
    "num_epochs = 80\n",
    "training_loss_list = []\n",
    "training_acc_list = []\n",
    "for epoch in range(num_epochs):\n",
    "    running_loss = 0.0\n",
    "    correct_predictions = 0\n",
    "    total_samples = 0\n",
    "    \n",
    "    for inputs, labels in train_loader:\n",
    "        # Zero the parameter gradients\n",
    "        optimizer.zero_grad()\n",
    "\n",
    "        # Forward pass\n",
    "        outputs = model(inputs)\n",
    "\n",
    "        # Compute the loss\n",
    "        loss = criterion(outputs, labels)\n",
    "\n",
    "        # Backward pass and optimization\n",
    "        loss.backward()\n",
    "        optimizer.step()\n",
    "\n",
    "        # Update running loss\n",
    "        running_loss += loss.item()\n",
    "\n",
    "        # Calculate training accuracy\n",
    "        _, predicted = torch.max(outputs, 1)\n",
    "        correct_predictions += (predicted == labels).sum().item()\n",
    "        total_samples += labels.size(0)\n",
    "    \n",
    "    epoch_loss = running_loss / len(train_loader)\n",
    "    epoch_accuracy = correct_predictions / total_samples\n",
    "    training_loss_list.append(epoch_loss)\n",
    "    training_acc_list.append(epoch_accuracy)\n",
    "    if epoch%5==0:\n",
    "        print(f'Epoch {epoch+1}, Loss: {epoch_loss:.4f}, Accuracy: {epoch_accuracy:.4f}')\n",
    "\n",
    "print('Training finished')"
   ]
  },
  {
   "cell_type": "code",
   "execution_count": 71,
   "metadata": {},
   "outputs": [
    {
     "data": {
      "text/plain": [
       "Text(0.5, 0, 'Epochs')"
      ]
     },
     "execution_count": 71,
     "metadata": {},
     "output_type": "execute_result"
    },
    {
     "data": {
      "image/png": "[encoded data removed]",
      "text/plain": [
       "<Figure size 1000x400 with 2 Axes>"
      ]
     },
     "metadata": {},
     "output_type": "display_data"
    }
   ],
   "source": [
    "# plot loss vs epochs\n",
    "fig = plt.figure(figsize = (10, 4))\n",
    "ax = fig.add_subplot(1, 2, 1)\n",
    "ax.plot(range(num_epochs), training_loss_list)\n",
    "ax.set_ylabel('Loss')\n",
    "ax.set_xlabel('Epochs')\n",
    "\n",
    "ax = fig.add_subplot(1, 2, 2)\n",
    "ax.plot(range(num_epochs), training_acc_list)\n",
    "ax.set_ylabel('Accuracy')\n",
    "ax.set_xlabel('Epochs')"
   ]
  },
  {
   "cell_type": "code",
   "execution_count": 72,
   "metadata": {},
   "outputs": [
    {
     "name": "stdout",
     "output_type": "stream",
     "text": [
      "Validation Accuracy: 0.8565\n",
      "ROC AUC Score: 0.7849\n",
      "F1 Score: 0.7063\n"
     ]
    }
   ],
   "source": [
    "from sklearn.metrics import roc_auc_score, f1_score\n",
    "\n",
    "# Evaluation function\n",
    "def evaluate(model, dataloader):\n",
    "    model.eval()\n",
    "    correct_predictions = 0\n",
    "    total_samples = 0\n",
    "    all_labels = []\n",
    "    all_preds = []\n",
    "\n",
    "    with torch.no_grad():\n",
    "        for inputs, labels in dataloader:\n",
    "            outputs = model(inputs)\n",
    "            _, predicted = torch.max(outputs, 1)\n",
    "            correct_predictions += (predicted == labels).sum().item()\n",
    "            total_samples += labels.size(0)\n",
    "\n",
    "            all_labels.extend(labels.tolist())\n",
    "            all_preds.extend(predicted.tolist())\n",
    "\n",
    "    accuracy = correct_predictions / total_samples\n",
    "    roc_auc = roc_auc_score(all_labels, all_preds)\n",
    "    f1 = f1_score(all_labels, all_preds)\n",
    "\n",
    "    return accuracy, roc_auc, f1\n",
    "\n",
    "# Perform validation\n",
    "val_accuracy, val_roc_auc, val_f1 = evaluate(model, val_loader)\n",
    "\n",
    "print(f'Validation Accuracy: {val_accuracy:.4f}')\n",
    "print(f'ROC AUC Score: {val_roc_auc:.4f}')\n",
    "print(f'F1 Score: {val_f1:.4f}')\n"
   ]
  },
  {
   "cell_type": "code",
   "execution_count": 73,
   "metadata": {},
   "outputs": [],
   "source": [
    "performance = {}\n",
    "performance[\"CTClassifier-Adam\"]={\n",
    "    \"Accuracy\": val_accuracy,\n",
    "    \"ROC-AUC Score\":val_roc_auc,\n",
    "    \"F1 Score\": val_f1\n",
    "    }"
   ]
  },
  {
   "cell_type": "markdown",
   "metadata": {},
   "source": [
    "## Training Experiment II\n",
    "\n",
    "Training details:\n",
    "* Optimizer AdamW: lr = 1e-4, weight decay = 1e-5\n",
    "* Training Epochs: 100\n",
    "* Loss Function: Cross Entropy Loss\n",
    "* Traing validation split: 8:2\n",
    "* Batch Size: 16"
   ]
  },
  {
   "cell_type": "code",
   "execution_count": 80,
   "metadata": {},
   "outputs": [],
   "source": [
    "src_vocab_size = len(tokenizer.vocab)\n",
    "in_channel = pad_sequences.shape[1]\n",
    "# change to cuda\n",
    "model = MITNet(src_vocab_size, in_channel).to(device)\n",
    "target_tensor = target_tensor.to(device)\n",
    "pad_sequences = pad_sequences.to(device)\n",
    "\n",
    "# Define your loss function and optimizer\n",
    "criterion = nn.CrossEntropyLoss()\n",
    "learning_rate = 1e-4\n",
    "optimizer = optim.AdamW(model.parameters(), lr=learning_rate, weight_decay=1e-5)\n",
    "\n",
    "# Create a TensorDataset\n",
    "dataset = TensorDataset(pad_sequences, target_tensor)\n",
    "\n",
    "\n",
    "# Split dataset into training and validation sets\n",
    "train_indices, val_indices = train_test_split(range(len(dataset)), test_size=0.2, random_state=42)\n",
    "\n",
    "batch_size = 16\n",
    "# Create DataLoader for training set\n",
    "train_sampler = torch.utils.data.SubsetRandomSampler(train_indices)\n",
    "train_loader = DataLoader(dataset, batch_size=batch_size, sampler=train_sampler)\n",
    "# Create DataLoader for validation set\n",
    "val_sampler = torch.utils.data.SubsetRandomSampler(val_indices)\n",
    "val_loader = DataLoader(dataset, batch_size=batch_size, sampler=val_sampler)"
   ]
  },
  {
   "cell_type": "code",
   "execution_count": 81,
   "metadata": {},
   "outputs": [
    {
     "name": "stdout",
     "output_type": "stream",
     "text": [
      "Epoch 1, Loss: 0.6693, Accuracy: 0.5881\n",
      "Epoch 6, Loss: 0.4929, Accuracy: 0.8321\n",
      "Epoch 11, Loss: 0.4728, Accuracy: 0.8430\n",
      "Epoch 16, Loss: 0.4627, Accuracy: 0.8507\n",
      "Epoch 21, Loss: 0.4609, Accuracy: 0.8521\n",
      "Epoch 26, Loss: 0.4587, Accuracy: 0.8542\n",
      "Epoch 31, Loss: 0.4579, Accuracy: 0.8539\n",
      "Epoch 36, Loss: 0.4552, Accuracy: 0.8562\n",
      "Epoch 41, Loss: 0.4528, Accuracy: 0.8619\n",
      "Epoch 46, Loss: 0.4528, Accuracy: 0.8612\n",
      "Epoch 51, Loss: 0.4500, Accuracy: 0.8619\n",
      "Epoch 56, Loss: 0.4463, Accuracy: 0.8664\n",
      "Epoch 61, Loss: 0.4482, Accuracy: 0.8637\n",
      "Epoch 66, Loss: 0.4479, Accuracy: 0.8651\n",
      "Epoch 71, Loss: 0.4442, Accuracy: 0.8673\n",
      "Epoch 76, Loss: 0.4415, Accuracy: 0.8712\n",
      "Epoch 81, Loss: 0.4408, Accuracy: 0.8712\n",
      "Epoch 86, Loss: 0.4386, Accuracy: 0.8741\n",
      "Epoch 91, Loss: 0.4414, Accuracy: 0.8728\n",
      "Epoch 96, Loss: 0.4377, Accuracy: 0.8757\n",
      "Training finished\n"
     ]
    }
   ],
   "source": [
    "# Training loop\n",
    "num_epochs = 100\n",
    "training_loss_list = []\n",
    "training_acc_list = []\n",
    "for epoch in range(num_epochs):\n",
    "    running_loss = 0.0\n",
    "    correct_predictions = 0\n",
    "    total_samples = 0\n",
    "    \n",
    "    for inputs, labels in train_loader:\n",
    "        # Zero the parameter gradients\n",
    "        optimizer.zero_grad()\n",
    "\n",
    "        # Forward pass\n",
    "        outputs = model(inputs)\n",
    "\n",
    "        # Compute the loss\n",
    "        loss = criterion(outputs, labels)\n",
    "\n",
    "        # Backward pass and optimization\n",
    "        loss.backward()\n",
    "        optimizer.step()\n",
    "\n",
    "        # Update running loss\n",
    "        running_loss += loss.item()\n",
    "\n",
    "        # Calculate training accuracy\n",
    "        _, predicted = torch.max(outputs, 1)\n",
    "        correct_predictions += (predicted == labels).sum().item()\n",
    "        total_samples += labels.size(0)\n",
    "    \n",
    "    epoch_loss = running_loss / len(train_loader)\n",
    "    epoch_accuracy = correct_predictions / total_samples\n",
    "    training_loss_list.append(epoch_loss)\n",
    "    training_acc_list.append(epoch_accuracy)\n",
    "    if epoch%5==0:\n",
    "        print(f'Epoch {epoch+1}, Loss: {epoch_loss:.4f}, Accuracy: {epoch_accuracy:.4f}')\n",
    "\n",
    "print('Training finished')"
   ]
  },
  {
   "cell_type": "code",
   "execution_count": 82,
   "metadata": {},
   "outputs": [
    {
     "data": {
      "text/plain": [
       "Text(0.5, 0, 'Epochs')"
      ]
     },
     "execution_count": 82,
     "metadata": {},
     "output_type": "execute_result"
    },
    {
     "data": {
      "image/png": "[encoded data removed]",
      "text/plain": [
       "<Figure size 1000x400 with 2 Axes>"
      ]
     },
     "metadata": {},
     "output_type": "display_data"
    }
   ],
   "source": [
    "# plot loss vs epochs\n",
    "fig = plt.figure(figsize = (10, 4))\n",
    "ax = fig.add_subplot(1, 2, 1)\n",
    "ax.plot(range(num_epochs), training_loss_list)\n",
    "ax.set_ylabel('Loss')\n",
    "ax.set_xlabel('Epochs')\n",
    "\n",
    "ax = fig.add_subplot(1, 2, 2)\n",
    "ax.plot(range(num_epochs), training_acc_list)\n",
    "ax.set_ylabel('Accuracy')\n",
    "ax.set_xlabel('Epochs')"
   ]
  },
  {
   "cell_type": "code",
   "execution_count": 83,
   "metadata": {},
   "outputs": [
    {
     "name": "stdout",
     "output_type": "stream",
     "text": [
      "Validation Accuracy: 0.8583\n",
      "ROC AUC Score: 0.7872\n",
      "F1 Score: 0.7100\n"
     ]
    }
   ],
   "source": [
    "# Perform validation\n",
    "val_accuracy, val_roc_auc, val_f1 = evaluate(model, val_loader)\n",
    "\n",
    "print(f'Validation Accuracy: {val_accuracy:.4f}')\n",
    "print(f'ROC AUC Score: {val_roc_auc:.4f}')\n",
    "print(f'F1 Score: {val_f1:.4f}')"
   ]
  },
  {
   "cell_type": "code",
   "execution_count": 84,
   "metadata": {},
   "outputs": [],
   "source": [
    "performance[\"CTClassifier-AdamW\"]={\n",
    "    \"Accuracy\": val_accuracy,\n",
    "    \"ROC-AUC Score\":val_roc_auc,\n",
    "    \"F1 Score\": val_f1\n",
    "    }"
   ]
  },
  {
   "cell_type": "code",
   "execution_count": 86,
   "metadata": {},
   "outputs": [],
   "source": [
    "performance_ctc_base = pd.DataFrame(performance)"
   ]
  },
  {
   "cell_type": "code",
   "execution_count": 91,
   "metadata": {},
   "outputs": [],
   "source": [
    "performance_ctc_base.rename(columns = {\n",
    "    \"CTClassifier-Adam\": \"MITNet-Adam\",\n",
    "    \"CTClassifier-AdamW\": \"MITNet-AdamW\"}, inplace=True)"
   ]
  },
  {
   "cell_type": "code",
   "execution_count": 92,
   "metadata": {},
   "outputs": [],
   "source": [
    "performance_ctc_base.to_csv(\"performance_ctc_base.csv\")"
   ]
  },
  {
   "cell_type": "code",
   "execution_count": 95,
   "metadata": {},
   "outputs": [],
   "source": [
    "# save model\n",
    "torch.save(model.state_dict(), 'mitnet_adamw_model.pth')"
   ]
  },
  {
   "cell_type": "code",
   "execution_count": 98,
   "metadata": {},
   "outputs": [
    {
     "name": "stdout",
     "output_type": "stream",
     "text": [
      "Validation Accuracy: 0.8583\n",
      "ROC AUC Score: 0.7872\n",
      "F1 Score: 0.7100\n"
     ]
    }
   ],
   "source": [
    "# load model\n",
    "src_vocab_size = len(tokenizer.vocab)\n",
    "in_channel = pad_sequences.shape[1]\n",
    "model = MITNet(src_vocab_size, in_channel).to(device)\n",
    "\n",
    "# Load the model's state dict from the saved file\n",
    "model.load_state_dict(torch.load('mitnet_adamw_model.pth'))\n",
    "\n",
    "# Put the model in evaluation mode\n",
    "val_accuracy, val_roc_auc, val_f1 = evaluate(model, val_loader)\n",
    "\n",
    "print(f'Validation Accuracy: {val_accuracy:.4f}')\n",
    "print(f'ROC AUC Score: {val_roc_auc:.4f}')\n",
    "print(f'F1 Score: {val_f1:.4f}')"
   ]
  }
 ],
 "metadata": {
  "kernelspec": {
   "display_name": "cpsc552",
   "language": "python",
   "name": "cpsc552"
  },
  "language_info": {
   "codemirror_mode": {
    "name": "ipython",
    "version": 3
   },
   "file_extension": ".py",
   "mimetype": "text/x-python",
   "name": "python",
   "nbconvert_exporter": "python",
   "pygments_lexer": "ipython3",
   "version": "3.12.2"
  }
 },
 "nbformat": 4,
 "nbformat_minor": 4
}

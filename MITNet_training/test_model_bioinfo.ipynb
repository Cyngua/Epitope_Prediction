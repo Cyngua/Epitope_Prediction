{
 "cells": [
  {
   "cell_type": "markdown",
   "id": "68e467b2-1307-46ed-9c56-4d9e8172db04",
   "metadata": {},
   "source": [
    "# test_model_bioinfo"
   ]
  },
  {
   "cell_type": "code",
   "execution_count": 1,
   "id": "4dd9f87b-95a0-43cd-8e0c-386ac47c1b7b",
   "metadata": {},
   "outputs": [
    {
     "name": "stderr",
     "output_type": "stream",
     "text": [
      "/home/cpsc452_xc392/.conda/envs/cpsc552/lib/python3.12/site-packages/transformers/utils/generic.py:441: UserWarning: torch.utils._pytree._register_pytree_node is deprecated. Please use torch.utils._pytree.register_pytree_node instead.\n",
      "  _torch_pytree._register_pytree_node(\n",
      "/home/cpsc452_xc392/.conda/envs/cpsc552/lib/python3.12/site-packages/transformers/utils/generic.py:309: UserWarning: torch.utils._pytree._register_pytree_node is deprecated. Please use torch.utils._pytree.register_pytree_node instead.\n",
      "  _torch_pytree._register_pytree_node(\n",
      "/home/cpsc452_xc392/.conda/envs/cpsc552/lib/python3.12/site-packages/transformers/utils/generic.py:309: UserWarning: torch.utils._pytree._register_pytree_node is deprecated. Please use torch.utils._pytree.register_pytree_node instead.\n",
      "  _torch_pytree._register_pytree_node(\n"
     ]
    }
   ],
   "source": [
    "# torch utils\n",
    "import torch\n",
    "import torch.nn as nn\n",
    "import torch.nn.functional as F\n",
    "import torch.optim as optim\n",
    "import torch.utils.data as data\n",
    "import math\n",
    "import copy\n",
    "# from MITNet.MITNet import MITNet\n",
    "\n",
    "# prot-bert tokenizer\n",
    "from transformers import BertForMaskedLM, BertTokenizerFast, pipeline, BertTokenizer\n",
    "from torch.nn.utils.rnn import pad_sequence\n",
    "\n",
    "# data analysis\n",
    "import pandas as pd\n",
    "import matplotlib.pyplot as plt\n",
    "\n",
    "# training\n",
    "from torch.utils.data import DataLoader, TensorDataset\n",
    "from sklearn.model_selection import train_test_split\n",
    "import tqdm"
   ]
  },
  {
   "cell_type": "code",
   "execution_count": 2,
   "id": "9fa93426-569d-4bd8-b4bf-32793cdc77bf",
   "metadata": {},
   "outputs": [
    {
     "name": "stdout",
     "output_type": "stream",
     "text": [
      "CUDA is available! Running on GPU.\n"
     ]
    }
   ],
   "source": [
    "# run on gpu\n",
    "if torch.cuda.is_available():\n",
    "    device = torch.device(\"cuda\")\n",
    "    DEVICE_NAME = 'cuda'\n",
    "    print(\"CUDA is available! Running on GPU.\")\n",
    "else:\n",
    "    device = torch.device(\"cpu\")\n",
    "    DEVICE_NAME = 'cpu'\n",
    "    print(\"CUDA is not available. Running on CPU.\")"
   ]
  },
  {
   "cell_type": "markdown",
   "id": "a6c6e6f9-c0a4-4ae2-b178-7f16f61dc126",
   "metadata": {},
   "source": [
    "## Encode bio info description"
   ]
  },
  {
   "cell_type": "code",
   "execution_count": 3,
   "id": "7e0e685f-8a0e-4803-827a-e520d2e3486b",
   "metadata": {},
   "outputs": [
    {
     "name": "stdout",
     "output_type": "stream",
     "text": [
      "(5503, 24)\n"
     ]
    }
   ],
   "source": [
    "# Load the CSV file\n",
    "file_path = \"clean_data.csv\"\n",
    "df = pd.read_csv(file_path)\n",
    "\n",
    "# Display the first few rows of the loaded data\n",
    "print(df.shape)"
   ]
  },
  {
   "cell_type": "code",
   "execution_count": 4,
   "id": "3de0b289-461b-4adf-ae23-b3587552de6b",
   "metadata": {},
   "outputs": [
    {
     "data": {
      "text/plain": [
       "Index(['Epitope - Name', 'Assay - Qualitative Measure',\n",
       "       'Epitope - Object Type', 'Epitope - Starting Position',\n",
       "       'Epitope - Ending Position', 'Epitope - Source Molecule',\n",
       "       'Epitope - Source Organism', 'Host - Name', 'Host - Age',\n",
       "       '1st in vivo Process - Process Type', '1st in vivo Process - Disease',\n",
       "       '1st in vivo Process - Disease Stage', 'Adoptive Transfer - Flag',\n",
       "       'Assay - Method', 'Assay - Response measured',\n",
       "       'Assay - Response Frequency (%)',\n",
       "       'Assay Antibody - Antibody Source Material',\n",
       "       'Assay Antibody - Immunoglobulin Domain',\n",
       "       'Assay Antibody - Purification Status',\n",
       "       'Assay Antibody - Heavy chain isotype',\n",
       "       'Assay Antigen - Epitope Relation', 'Assay Antigen - Object Type',\n",
       "       'Assay Antigen - Source Organism', 'Assay Antigen - Species'],\n",
       "      dtype='object')"
      ]
     },
     "execution_count": 4,
     "metadata": {},
     "output_type": "execute_result"
    }
   ],
   "source": [
    "df.columns"
   ]
  },
  {
   "cell_type": "code",
   "execution_count": 5,
   "id": "46f51ec0-ec93-402f-9861-50b25900a9f7",
   "metadata": {},
   "outputs": [],
   "source": [
    "description = []\n",
    "\n",
    "for index, row in df.iterrows():\n",
    "    desc = \"\"\n",
    "    for col in df.columns:\n",
    "        if col not in set(['Epitope - Name', 'Assay - Qualitative Measure']):\n",
    "            col_name = col.replace(\"- \", \"\")\n",
    "            desc += f\"{col_name} {row[col]} . \"\n",
    "    description.append(desc)\n",
    "\n",
    "df['description'] = description"
   ]
  },
  {
   "cell_type": "code",
   "execution_count": 6,
   "id": "63365b0b-a92d-4a4f-a865-1fd05917f71e",
   "metadata": {},
   "outputs": [
    {
     "data": {
      "text/plain": [
       "0       Epitope Object Type Linear peptide . Epitope S...\n",
       "1       Epitope Object Type Linear peptide . Epitope S...\n",
       "2       Epitope Object Type Linear peptide . Epitope S...\n",
       "3       Epitope Object Type Linear peptide . Epitope S...\n",
       "4       Epitope Object Type Linear peptide . Epitope S...\n",
       "                              ...                        \n",
       "5498    Epitope Object Type Linear peptide . Epitope S...\n",
       "5499    Epitope Object Type Linear peptide . Epitope S...\n",
       "5500    Epitope Object Type Linear peptide . Epitope S...\n",
       "5501    Epitope Object Type Linear peptide . Epitope S...\n",
       "5502    Epitope Object Type Linear peptide . Epitope S...\n",
       "Name: description, Length: 5503, dtype: object"
      ]
     },
     "execution_count": 6,
     "metadata": {},
     "output_type": "execute_result"
    }
   ],
   "source": [
    "df['description']"
   ]
  },
  {
   "cell_type": "code",
   "execution_count": 7,
   "id": "9d0fd418-557f-406a-be0a-848938823c2b",
   "metadata": {},
   "outputs": [],
   "source": [
    "# use bert tokenizer\n",
    "tokenizer = BertTokenizerFast.from_pretrained(\"google-bert/bert-base-uncased\")\n",
    "BERT_VOCAB = len(tokenizer.vocab)"
   ]
  },
  {
   "cell_type": "code",
   "execution_count": 8,
   "id": "bc6f8f82-d6c1-4cc5-a182-5c187e9380fc",
   "metadata": {},
   "outputs": [],
   "source": [
    "# pro_bert tokenizer\n",
    "df['Tokenized_description'] = df['description'].apply(lambda x: tokenizer(x)['input_ids'])\n",
    "pad_descriptions = pad_sequence([torch.tensor(seq) for seq in df['Tokenized_description']], padding_value=tokenizer.vocab[\"[PAD]\"], batch_first=True)"
   ]
  },
  {
   "cell_type": "code",
   "execution_count": 9,
   "id": "0ca7976c-3eec-4096-8f76-7e9190927e74",
   "metadata": {},
   "outputs": [
    {
     "data": {
      "text/plain": [
       "torch.Size([5503, 251])"
      ]
     },
     "execution_count": 9,
     "metadata": {},
     "output_type": "execute_result"
    }
   ],
   "source": [
    "pad_descriptions.shape"
   ]
  },
  {
   "cell_type": "markdown",
   "id": "a8c99d55-c602-43f0-8cb0-73c805830c71",
   "metadata": {},
   "source": [
    "## Epitope sequences"
   ]
  },
  {
   "cell_type": "code",
   "execution_count": 10,
   "id": "a6ce0c02-286f-43b9-9e33-dabcc2a7d653",
   "metadata": {},
   "outputs": [
    {
     "name": "stderr",
     "output_type": "stream",
     "text": [
      "/tmp/ipykernel_3347732/1875776390.py:8: SettingWithCopyWarning: \n",
      "A value is trying to be set on a copy of a slice from a DataFrame.\n",
      "Try using .loc[row_indexer,col_indexer] = value instead\n",
      "\n",
      "See the caveats in the documentation: https://pandas.pydata.org/pandas-docs/stable/user_guide/indexing.html#returning-a-view-versus-a-copy\n",
      "  filtered_df['Tokenized_Epitope'] = filtered_df['Epitope - Name'].apply(lambda x: tokenizer(\" \".join(x))['input_ids'])\n"
     ]
    }
   ],
   "source": [
    "target_col = \"Assay - Qualitative Measure\"\n",
    "feature_col = \"Epitope - Name\"\n",
    "filtered_df = df[[feature_col, target_col]]\n",
    "\n",
    "# pro_bert tokenizer\n",
    "tokenizer = BertTokenizer.from_pretrained(\"Rostlab/prot_bert\", do_lower_case=False )\n",
    "PROBERT_VOCAB = len(tokenizer.vocab)\n",
    "filtered_df['Tokenized_Epitope'] = filtered_df['Epitope - Name'].apply(lambda x: tokenizer(\" \".join(x))['input_ids'])\n",
    "pad_sequences = pad_sequence([torch.tensor(seq) for seq in filtered_df['Tokenized_Epitope']], padding_value=tokenizer.vocab[\"[PAD]\"], batch_first=True)"
   ]
  },
  {
   "cell_type": "markdown",
   "id": "ef253283-8a07-4b38-8bd6-68328965b9de",
   "metadata": {},
   "source": [
    "## BioFusion-MITNet"
   ]
  },
  {
   "cell_type": "code",
   "execution_count": 11,
   "id": "b56dbd74-5f3a-4788-9a76-31662434f721",
   "metadata": {},
   "outputs": [],
   "source": [
    "class MultiHeadAttention(nn.Module):\n",
    "    def __init__(self, d_model, num_heads):\n",
    "        super(MultiHeadAttention, self).__init__()\n",
    "        # Ensure that the model dimension (d_model) is divisible by the number of heads\n",
    "        assert d_model % num_heads == 0, \"d_model must be divisible by num_heads\"\n",
    "        \n",
    "        # Initialize dimensions\n",
    "        self.d_model = d_model # Model's dimension\n",
    "        self.num_heads = num_heads # Number of attention heads\n",
    "        self.d_k = d_model // num_heads # Dimension of each head's key, query, and value\n",
    "        \n",
    "        # Linear layers for transforming inputs\n",
    "        self.W_q = nn.Linear(d_model, d_model) # Query transformation\n",
    "        self.W_k = nn.Linear(d_model, d_model) # Key transformation\n",
    "        self.W_v = nn.Linear(d_model, d_model) # Value transformation\n",
    "        self.W_o = nn.Linear(d_model, d_model) # Output transformation\n",
    "        \n",
    "    def scaled_dot_product_attention(self, Q, K, V, mask=None):\n",
    "        # Calculate attention scores\n",
    "        attn_scores = torch.matmul(Q, K.transpose(-2, -1)) / math.sqrt(self.d_k)\n",
    "        \n",
    "        # Apply mask if provided (useful for preventing attention to certain parts like padding)\n",
    "        if mask is not None:\n",
    "            attn_scores = attn_scores.masked_fill(mask == 0, -1e9)\n",
    "        \n",
    "        # Softmax is applied to obtain attention probabilities\n",
    "        attn_probs = torch.softmax(attn_scores, dim=-1)\n",
    "        \n",
    "        # Multiply by values to obtain the final output\n",
    "        output = torch.matmul(attn_probs, V)\n",
    "        return output\n",
    "        \n",
    "    def split_heads(self, x):\n",
    "        # Reshape the input to have num_heads for multi-head attention\n",
    "        batch_size, seq_length, d_model = x.size()\n",
    "        return x.view(batch_size, seq_length, self.num_heads, self.d_k).transpose(1, 2)\n",
    "        \n",
    "    def combine_heads(self, x):\n",
    "        # Combine the multiple heads back to original shape\n",
    "        batch_size, _, seq_length, d_k = x.size()\n",
    "        return x.transpose(1, 2).contiguous().view(batch_size, seq_length, self.d_model)\n",
    "        \n",
    "    def forward(self, Q, K, V, mask=None):\n",
    "        # Apply linear transformations and split heads\n",
    "        Q = self.split_heads(self.W_q(Q))\n",
    "        K = self.split_heads(self.W_k(K))\n",
    "        V = self.split_heads(self.W_v(V))\n",
    "        \n",
    "        # Perform scaled dot-product attention\n",
    "        attn_output = self.scaled_dot_product_attention(Q, K, V, mask)\n",
    "        \n",
    "        # Combine heads and apply output transformation\n",
    "        output = self.W_o(self.combine_heads(attn_output))\n",
    "        return output\n",
    "    \n",
    "# NOTE: Redefine FF for MITNet\n",
    "class CovFeedForward(nn.Module):\n",
    "    def __init__(self, d_model, d_ff, in_channel, eps = 1e-6, dropout=0.2, ):\n",
    "        super(CovFeedForward, self).__init__()\n",
    "        self.norm1 = nn.LayerNorm(d_model, eps=eps)\n",
    "        # First convolutional filters, kernel size and activation: 4, 1, 'relu'\n",
    "        self.cov1 = nn.Conv1d(in_channel, d_ff, kernel_size=1)\n",
    "        # Second convolutional filters and kernel size: number of channel inputs, 1\n",
    "        self.cov2 = nn.Conv1d(d_ff, in_channel, kernel_size=1)\n",
    "        self.channel_input = d_ff\n",
    "        self.dropout = nn.Dropout(dropout)\n",
    "        self.relu = nn.ReLU()\n",
    "        \n",
    "    def forward(self, x):\n",
    "        # Layer normalization\n",
    "        x = self.norm1(x)\n",
    "        # First convolutional layer\n",
    "        x = self.cov1(x)\n",
    "        # ReLU activation\n",
    "        x = self.relu(x)\n",
    "        # Dropout\n",
    "        x = self.dropout(x)\n",
    "        # Second convolutional layer\n",
    "        x = self.cov2(x)\n",
    "        return x"
   ]
  },
  {
   "cell_type": "code",
   "execution_count": 12,
   "id": "2cccfa9a-52ae-4830-a203-efa259c69943",
   "metadata": {},
   "outputs": [],
   "source": [
    "# NOTE: transformer block in figure 4\n",
    "class TransformerBlock(nn.Module):\n",
    "    def __init__(self, d_model, num_heads, d_ff, in_channel, dropout=0.25, eps=1e-6):\n",
    "        super(TransformerBlock, self).__init__()\n",
    "        self.norm1 = nn.LayerNorm(d_model, eps=eps)\n",
    "        self.self_attn = MultiHeadAttention(d_model, num_heads)\n",
    "        self.dropout = nn.Dropout(dropout)\n",
    "        self.cov_ff = CovFeedForward(d_model, d_ff, in_channel, eps=1e-6, dropout=0.2)\n",
    "    \n",
    "    def forward(self, x, mask):\n",
    "        res = x\n",
    "        # Layer normalization\n",
    "        x = self.norm1(x)\n",
    "        # Multihead Attention\n",
    "        x = self.self_attn(x, x, x, mask)\n",
    "        # Dropout\n",
    "        x = self.dropout(x)\n",
    "        x += res\n",
    "\n",
    "        # FeedFoward\n",
    "        res = x\n",
    "        x = self.cov_ff(x)\n",
    "        return x + res\n",
    "    \n",
    "class ClassificationBlock(nn.Module):\n",
    "    def __init__(self, input_dim, dropout, output_class=2, hidden_dim=128):\n",
    "        super(ClassificationBlock, self).__init__()\n",
    "        # TODO: \n",
    "        self.global_avg_pooling = nn.AdaptiveAvgPool1d(1)  # Global Average Pooling\n",
    "        self.mlp1 = nn.Sequential(\n",
    "            nn.Linear(input_dim, hidden_dim),  # MLP Layer 1\n",
    "            nn.ReLU(),\n",
    "            nn.Dropout(dropout)\n",
    "        )\n",
    "        self.mlp2 = nn.Linear(hidden_dim, output_class)  # Output MLP\n",
    "        \n",
    "    def forward(self, x):\n",
    "        # Global Average Pooling\n",
    "        out = self.global_avg_pooling(x.permute(0, 2, 1)).squeeze(2) \n",
    "        # MLP\n",
    "        out = self.mlp1(out)\n",
    "        # Output MLP\n",
    "        out = self.mlp2(out)\n",
    "        return F.softmax(out, dim=1)  # Softmax activation for classification\n",
    "    \n",
    "class TransformerMITNet(nn.Module):\n",
    "    def __init__(self, src_vocab_size, d_model, num_heads, num_layers, d_ff, in_channel, trans_dropout, class_dropout, max_seq_length=64):\n",
    "        super(TransformerMITNet, self).__init__()\n",
    "        '''\n",
    "        Transformer head MITNet:\n",
    "        (1) Embedding (one-hot/our choice)\n",
    "        (2) Transformer blocks * 4\n",
    "        (3) Classification block\n",
    "        '''\n",
    "        # TODO: replace this with our own encoding method\n",
    "        self.embedding = nn.Embedding(src_vocab_size, d_model)\n",
    "        # NOTE: may not need positional encoding for our project\n",
    "        # self.positional_encoding = PositionalEncoding(d_model, max_seq_length)\n",
    "\n",
    "        # Transformer blocks\n",
    "        self.transformer_blocks = nn.ModuleList([TransformerBlock(d_model, num_heads, d_ff, in_channel, dropout=trans_dropout) for _ in range(num_layers)])\n",
    "        # Classification\n",
    "        self.classification_block = ClassificationBlock(d_model, dropout=class_dropout, output_class=2, hidden_dim=128)\n",
    "\n",
    "    def generate_mask(self, src):\n",
    "        src_mask = (src != torch.tensor(0, dtype=src.dtype)).unsqueeze(1).unsqueeze(2)\n",
    "        return src_mask\n",
    "    \n",
    "    def forward(self, src):\n",
    "        # src_embedded = self.positional_encoding(self.encoder_embedding(src))\n",
    "        src_embedded = self.embedding(src)\n",
    "        src_mask = self.generate_mask(src)\n",
    "        tran_output = src_embedded\n",
    "        for tran_layer in self.transformer_blocks:\n",
    "            tran_output = tran_layer(tran_output, src_mask)\n",
    "        return self.classification_block(tran_output)"
   ]
  },
  {
   "cell_type": "code",
   "execution_count": 13,
   "id": "4bbf14e1-cc17-41af-a3dc-3ad27cdc7d05",
   "metadata": {},
   "outputs": [],
   "source": [
    "class DenseLayer(nn.Module):\n",
    "    def __init__(self, input_dim, hidden_dims=[16, 64, 16]):\n",
    "        super(DenseLayer, self).__init__()\n",
    "        self.dense_1 = nn.Linear(input_dim, hidden_dims[0])\n",
    "        self.dense_2 = nn.Linear(hidden_dims[0],  hidden_dims[1])\n",
    "        self.dense_3 = nn.Linear(hidden_dims[1],  hidden_dims[2])\n",
    "        self.activation = nn.LeakyReLU()\n",
    "    \n",
    "    def forward(self, x):\n",
    "        x = self.activation(self.dense_1(x))\n",
    "        x = self.activation(self.dense_2(x))\n",
    "        x = self.activation(self.dense_3(x))\n",
    "        return x\n",
    "\n",
    "class DenseNetwork(nn.Module):\n",
    "    def __init__(self, input_dim, n_stack=1, hidden_dims=[16, 64, 16]):\n",
    "        super(DenseNetwork, self).__init__()\n",
    "        self.DenseNet = nn.ModuleList([DenseLayer(input_dim, hidden_dims) for _ in range(n_stack)])\n",
    "        self.BatchNorm = nn.BatchNorm1d(hidden_dims[-1])\n",
    "\n",
    "    def forward(self, x):\n",
    "        for module in self.DenseNet:\n",
    "            x = module(x)\n",
    "        x = self.BatchNorm(x)\n",
    "        return x"
   ]
  },
  {
   "cell_type": "code",
   "execution_count": 14,
   "id": "5e2a72f8-05b9-4298-92fd-3cd8d4b6e695",
   "metadata": {},
   "outputs": [],
   "source": [
    "class ClassificationNet(nn.Module):\n",
    "    def __init__(self, input_dim, hidden_dim=2):\n",
    "        super(ClassificationNet, self).__init__()\n",
    "        self.dense = nn.Linear(input_dim, hidden_dim)\n",
    "        self.output = nn.Softmax(dim=1)\n",
    "    \n",
    "    def forward(self, x):\n",
    "        return self.output(self.dense(x))"
   ]
  },
  {
   "cell_type": "code",
   "execution_count": 37,
   "id": "b4ad28f4-91c8-4bd3-86b5-7db05e2da459",
   "metadata": {},
   "outputs": [],
   "source": [
    "class MITNet_bio(nn.Module):\n",
    "    def __init__(self, src_vocab_sizes, in_channel, d_model=[32, 128], num_heads=4, num_layers=4, d_ff=4, trans_dropout=0.25, class_dropout=0.1):\n",
    "        super(MITNet_bio, self).__init__()\n",
    "        # transformer: output class 0 or 1\n",
    "        self.transformer = TransformerMITNet(src_vocab_sizes[0], d_model[0], num_heads, num_layers, d_ff, in_channel[0], trans_dropout, class_dropout)\n",
    "        self.transformer_2 = TransformerMITNet(src_vocab_sizes[1], d_model[1], 16, 1, d_ff, in_channel[1], trans_dropout, class_dropout)\n",
    "        # dense network\n",
    "        self.dense = DenseNetwork(input_dim=4, n_stack=1, hidden_dims=[16, 64, 16])\n",
    "        # classification network: input 16, output 2\n",
    "        self.classification = ClassificationNet(input_dim=16, hidden_dim=2)\n",
    "\n",
    "    def forward(self, input, sequence_len):\n",
    "        input_1 = input[:, :sequence_len]\n",
    "        input_2 = input[:, sequence_len:]\n",
    "        x = self.transformer(input_1)\n",
    "        y = self.transformer_2(input_2)\n",
    "        out = torch.cat((x, y), dim=1) # concatenate two outputs\n",
    "        out = self.dense(out)\n",
    "        return self.classification(out)"
   ]
  },
  {
   "cell_type": "code",
   "execution_count": 16,
   "id": "fbbc8130-bdcc-4a8e-9f05-040fffddb650",
   "metadata": {},
   "outputs": [],
   "source": [
    "# # test forward\n",
    "# target_tensor = torch.tensor(filtered_df[\"Assay - Qualitative Measure\"].values, dtype=torch.long)\n",
    "\n",
    "# src_vocab_size = [PROBERT_VOCAB, BERT_VOCAB]\n",
    "# in_channel = [pad_sequences.shape[1], pad_descriptions.shape[1]]\n",
    "# model = MITNet_bio(src_vocab_size, in_channel).to(device)\n",
    "# pred = model(pad_sequences.to(device), pad_descriptions.to(device))"
   ]
  },
  {
   "cell_type": "markdown",
   "id": "c7031846-ea5a-43c4-8b6f-0881c01efe81",
   "metadata": {},
   "source": [
    "## Training Experiment I\n",
    "\n",
    "Training details:\n",
    "* Model: BioMITNet\n",
    "* Optimizer Adam: lr = 1e-4\n",
    "* Training Epochs: 30\n",
    "* Loss Function: Cross Entropy Loss\n",
    "* Traing validation split: 8:2\n",
    "* Batch Size: 16"
   ]
  },
  {
   "cell_type": "code",
   "execution_count": 69,
   "id": "15215a28-bbca-43a2-87e2-50e014ca511e",
   "metadata": {},
   "outputs": [],
   "source": [
    "# change to cuda\n",
    "src_vocab_size = [PROBERT_VOCAB, BERT_VOCAB]\n",
    "SEQ_LEN = pad_sequences.shape[1]\n",
    "in_channel = [pad_sequences.shape[1], pad_descriptions.shape[1]]\n",
    "target_tensor = torch.tensor(filtered_df[\"Assay - Qualitative Measure\"].values, dtype=torch.long)\n",
    "input_ids = torch.cat((pad_sequences, pad_descriptions), dim=1).to(device)\n",
    "target_tensor = target_tensor.to(device)\n",
    "\n",
    "# Create a TensorDataset\n",
    "dataset = TensorDataset(input_ids, target_tensor)\n",
    "\n",
    "# Split dataset into training and validation sets\n",
    "train_indices, val_indices = train_test_split(range(len(dataset)), test_size=0.2, random_state=42)\n",
    "\n",
    "batch_size = 16\n",
    "# Create DataLoader for training set\n",
    "train_sampler = torch.utils.data.SubsetRandomSampler(train_indices)\n",
    "train_loader = DataLoader(dataset, batch_size=batch_size, sampler=train_sampler)\n",
    "# Create DataLoader for validation set\n",
    "val_sampler = torch.utils.data.SubsetRandomSampler(val_indices)\n",
    "val_loader = DataLoader(dataset, batch_size=batch_size, sampler=val_sampler)"
   ]
  },
  {
   "cell_type": "code",
   "execution_count": 70,
   "id": "934e93b7-cd56-4f39-9a46-55525b64ec12",
   "metadata": {},
   "outputs": [],
   "source": [
    "# Define your loss function and optimizer\n",
    "model = MITNet_bio(src_vocab_size, in_channel).to(device)\n",
    "criterion = nn.CrossEntropyLoss()\n",
    "learning_rate = 1e-4\n",
    "optimizer = optim.Adam(model.parameters(), lr=learning_rate)"
   ]
  },
  {
   "cell_type": "code",
   "execution_count": 71,
   "id": "0e4a3ff0-6193-41f6-98ce-c5e513e1c97a",
   "metadata": {},
   "outputs": [
    {
     "name": "stdout",
     "output_type": "stream",
     "text": [
      "Epoch 1, Loss: 0.5971, Accuracy: 0.7099\n",
      "Epoch 6, Loss: 0.3777, Accuracy: 0.9425\n",
      "Epoch 11, Loss: 0.3678, Accuracy: 0.9480\n",
      "Epoch 16, Loss: 0.3733, Accuracy: 0.9418\n",
      "Epoch 21, Loss: 0.3699, Accuracy: 0.9439\n",
      "Epoch 26, Loss: 0.3669, Accuracy: 0.9478\n",
      "Training finished\n"
     ]
    }
   ],
   "source": [
    "# Training loop\n",
    "num_epochs = 30\n",
    "training_loss_list = []\n",
    "training_acc_list = []\n",
    "for epoch in range(num_epochs):\n",
    "    running_loss = 0.0\n",
    "    correct_predictions = 0\n",
    "    total_samples = 0\n",
    "    \n",
    "    for inputs, labels in train_loader:\n",
    "        # Zero the parameter gradients\n",
    "        optimizer.zero_grad()\n",
    "\n",
    "        # Forward pass\n",
    "        outputs = model(inputs, SEQ_LEN)\n",
    "\n",
    "        # Compute the loss\n",
    "        loss = criterion(outputs, labels)\n",
    "\n",
    "        # Backward pass and optimization\n",
    "        loss.backward()\n",
    "        optimizer.step()\n",
    "\n",
    "        # Update running loss\n",
    "        running_loss += loss.item()\n",
    "\n",
    "        # Calculate training accuracy\n",
    "        _, predicted = torch.max(outputs, 1)\n",
    "        correct_predictions += (predicted == labels).sum().item()\n",
    "        total_samples += labels.size(0)\n",
    "    \n",
    "    epoch_loss = running_loss / len(train_loader)\n",
    "    epoch_accuracy = correct_predictions / total_samples\n",
    "    training_loss_list.append(epoch_loss)\n",
    "    training_acc_list.append(epoch_accuracy)\n",
    "    if epoch%5==0:\n",
    "        print(f'Epoch {epoch+1}, Loss: {epoch_loss:.4f}, Accuracy: {epoch_accuracy:.4f}')\n",
    "\n",
    "print('Training finished')"
   ]
  },
  {
   "cell_type": "code",
   "execution_count": 72,
   "id": "f9558e3d-6c0c-4186-8233-215ef595027a",
   "metadata": {},
   "outputs": [
    {
     "data": {
      "text/plain": [
       "Text(0.5, 0, 'Epochs')"
      ]
     },
     "execution_count": 72,
     "metadata": {},
     "output_type": "execute_result"
    },
    {
     "data": {
      "image/png": "[encoded data removed]",
      "text/plain": [
       "<Figure size 1000x400 with 2 Axes>"
      ]
     },
     "metadata": {},
     "output_type": "display_data"
    }
   ],
   "source": [
    "# plot loss vs epochs\n",
    "fig = plt.figure(figsize = (10, 4))\n",
    "ax = fig.add_subplot(1, 2, 1)\n",
    "ax.plot(range(num_epochs), training_loss_list)\n",
    "ax.set_ylabel('Loss')\n",
    "ax.set_xlabel('Epochs')\n",
    "\n",
    "ax = fig.add_subplot(1, 2, 2)\n",
    "ax.plot(range(num_epochs), training_acc_list)\n",
    "ax.set_ylabel('Accuracy')\n",
    "ax.set_xlabel('Epochs')"
   ]
  },
  {
   "cell_type": "code",
   "execution_count": 73,
   "id": "1be45da6-8d00-4f8f-821e-310830e8ad50",
   "metadata": {},
   "outputs": [
    {
     "name": "stdout",
     "output_type": "stream",
     "text": [
      "Validation Accuracy: 0.9500\n",
      "ROC AUC Score: 0.9655\n",
      "F1 Score: 0.9170\n"
     ]
    }
   ],
   "source": [
    "from sklearn.metrics import roc_auc_score, f1_score\n",
    "\n",
    "# Evaluation function\n",
    "def evaluate(model, dataloader):\n",
    "    model.eval()\n",
    "    correct_predictions = 0\n",
    "    total_samples = 0\n",
    "    all_labels = []\n",
    "    all_preds = []\n",
    "\n",
    "    with torch.no_grad():\n",
    "        for inputs, labels in dataloader:\n",
    "            outputs = model(inputs, SEQ_LEN)\n",
    "            _, predicted = torch.max(outputs, 1)\n",
    "            correct_predictions += (predicted == labels).sum().item()\n",
    "            total_samples += labels.size(0)\n",
    "\n",
    "            all_labels.extend(labels.tolist())\n",
    "            all_preds.extend(predicted.tolist())\n",
    "\n",
    "    accuracy = correct_predictions / total_samples\n",
    "    roc_auc = roc_auc_score(all_labels, all_preds)\n",
    "    f1 = f1_score(all_labels, all_preds)\n",
    "\n",
    "    return accuracy, roc_auc, f1\n",
    "\n",
    "# Perform validation\n",
    "val_accuracy, val_roc_auc, val_f1 = evaluate(model, val_loader)\n",
    "\n",
    "print(f'Validation Accuracy: {val_accuracy:.4f}')\n",
    "print(f'ROC AUC Score: {val_roc_auc:.4f}')\n",
    "print(f'F1 Score: {val_f1:.4f}')"
   ]
  },
  {
   "cell_type": "code",
   "execution_count": 74,
   "id": "d5bcc709-e59e-46b6-a563-8f47fa4d27ee",
   "metadata": {},
   "outputs": [],
   "source": [
    "# save model\n",
    "torch.save(model.state_dict(), 'biomitnet_adam_model.pth')"
   ]
  },
  {
   "cell_type": "code",
   "execution_count": 75,
   "id": "bf630976-54c5-4ab4-bb14-cbabb10d8de2",
   "metadata": {},
   "outputs": [
    {
     "name": "stdout",
     "output_type": "stream",
     "text": [
      "Validation Accuracy: 0.9500\n",
      "ROC AUC Score: 0.9655\n",
      "F1 Score: 0.9170\n"
     ]
    }
   ],
   "source": [
    "# load model\n",
    "src_vocab_size = [PROBERT_VOCAB, BERT_VOCAB]\n",
    "SEQ_LEN = pad_sequences.shape[1]\n",
    "in_channel = [pad_sequences.shape[1], pad_descriptions.shape[1]]\n",
    "model = MITNet_bio(src_vocab_size, in_channel).to(device)\n",
    "\n",
    "# Load the model's state dict from the saved file\n",
    "model.load_state_dict(torch.load('biomitnet_adam_model.pth'))\n",
    "\n",
    "# Put the model in evaluation mode\n",
    "val_accuracy, val_roc_auc, val_f1 = evaluate(model, val_loader)\n",
    "\n",
    "print(f'Validation Accuracy: {val_accuracy:.4f}')\n",
    "print(f'ROC AUC Score: {val_roc_auc:.4f}')\n",
    "print(f'F1 Score: {val_f1:.4f}')"
   ]
  },
  {
   "cell_type": "code",
   "execution_count": 76,
   "id": "62dd463a-5dfe-4470-9f60-b36dd40e527a",
   "metadata": {},
   "outputs": [],
   "source": [
    "performance = {}\n",
    "performance[\"BioMITNet-Adam\"]={\n",
    "    \"Accuracy\": val_accuracy,\n",
    "    \"ROC-AUC Score\":val_roc_auc,\n",
    "    \"F1 Score\": val_f1\n",
    "    }"
   ]
  },
  {
   "cell_type": "markdown",
   "id": "04504c83-aa82-4d6b-8a7b-7a54fd5c2eee",
   "metadata": {},
   "source": [
    "## Training Experiment II\n",
    "\n",
    "Training details:\n",
    "* Model: BioMITNet\n",
    "* Optimizer AdamW: lr = 1e-4, weight decay = 1e-5\n",
    "* Training Epochs: 50\n",
    "* Loss Function: Cross Entropy Loss\n",
    "* Traing validation split: 8:2\n",
    "* Batch Size: 16"
   ]
  },
  {
   "cell_type": "code",
   "execution_count": 77,
   "id": "4d5cf534-8554-4f73-9589-794f93096156",
   "metadata": {},
   "outputs": [],
   "source": [
    "# Define your loss function and optimizer\n",
    "model = MITNet_bio(src_vocab_size, in_channel).to(device)\n",
    "criterion = nn.CrossEntropyLoss()\n",
    "learning_rate = 1e-4\n",
    "optimizer = optim.AdamW(model.parameters(), lr=learning_rate, weight_decay=1e-5)"
   ]
  },
  {
   "cell_type": "code",
   "execution_count": 78,
   "id": "348e05b5-06d5-4c4e-8d21-ef332d0e90aa",
   "metadata": {},
   "outputs": [
    {
     "name": "stdout",
     "output_type": "stream",
     "text": [
      "Epoch 1, Loss: 0.5986, Accuracy: 0.8137\n",
      "Epoch 6, Loss: 0.3745, Accuracy: 0.9478\n",
      "Epoch 11, Loss: 0.3684, Accuracy: 0.9475\n",
      "Epoch 16, Loss: 0.3492, Accuracy: 0.9650\n",
      "Epoch 21, Loss: 0.3499, Accuracy: 0.9648\n",
      "Epoch 26, Loss: 0.3483, Accuracy: 0.9652\n",
      "Training finished\n"
     ]
    }
   ],
   "source": [
    "# Training loop\n",
    "num_epochs = 30\n",
    "training_loss_list = []\n",
    "training_acc_list = []\n",
    "for epoch in range(num_epochs):\n",
    "    running_loss = 0.0\n",
    "    correct_predictions = 0\n",
    "    total_samples = 0\n",
    "    \n",
    "    for inputs, labels in train_loader:\n",
    "        # Zero the parameter gradients\n",
    "        optimizer.zero_grad()\n",
    "\n",
    "        # Forward pass\n",
    "        outputs = model(inputs, SEQ_LEN)\n",
    "\n",
    "        # Compute the loss\n",
    "        loss = criterion(outputs, labels)\n",
    "\n",
    "        # Backward pass and optimization\n",
    "        loss.backward()\n",
    "        optimizer.step()\n",
    "\n",
    "        # Update running loss\n",
    "        running_loss += loss.item()\n",
    "\n",
    "        # Calculate training accuracy\n",
    "        _, predicted = torch.max(outputs, 1)\n",
    "        correct_predictions += (predicted == labels).sum().item()\n",
    "        total_samples += labels.size(0)\n",
    "    \n",
    "    epoch_loss = running_loss / len(train_loader)\n",
    "    epoch_accuracy = correct_predictions / total_samples\n",
    "    training_loss_list.append(epoch_loss)\n",
    "    training_acc_list.append(epoch_accuracy)\n",
    "    if epoch%5==0:\n",
    "        print(f'Epoch {epoch+1}, Loss: {epoch_loss:.4f}, Accuracy: {epoch_accuracy:.4f}')\n",
    "\n",
    "print('Training finished')"
   ]
  },
  {
   "cell_type": "code",
   "execution_count": 79,
   "id": "38d6d30e-bf69-4263-b59d-53160461839e",
   "metadata": {},
   "outputs": [
    {
     "data": {
      "text/plain": [
       "Text(0.5, 0, 'Epochs')"
      ]
     },
     "execution_count": 79,
     "metadata": {},
     "output_type": "execute_result"
    },
    {
     "data": {
      "image/png": "[encoded data removed]",
      "text/plain": [
       "<Figure size 1000x400 with 2 Axes>"
      ]
     },
     "metadata": {},
     "output_type": "display_data"
    }
   ],
   "source": [
    "# plot loss vs epochs\n",
    "fig = plt.figure(figsize = (10, 4))\n",
    "ax = fig.add_subplot(1, 2, 1)\n",
    "ax.plot(range(num_epochs), training_loss_list)\n",
    "ax.set_ylabel('Loss')\n",
    "ax.set_xlabel('Epochs')\n",
    "\n",
    "ax = fig.add_subplot(1, 2, 2)\n",
    "ax.plot(range(num_epochs), training_acc_list)\n",
    "ax.set_ylabel('Accuracy')\n",
    "ax.set_xlabel('Epochs')"
   ]
  },
  {
   "cell_type": "code",
   "execution_count": 80,
   "id": "8c22901a-4cd9-4a4a-bddb-5e0e7cedf14b",
   "metadata": {},
   "outputs": [
    {
     "name": "stdout",
     "output_type": "stream",
     "text": [
      "Validation Accuracy: 0.9637\n",
      "ROC AUC Score: 0.9749\n",
      "F1 Score: 0.9383\n"
     ]
    }
   ],
   "source": [
    "# Perform validation\n",
    "val_accuracy, val_roc_auc, val_f1 = evaluate(model, val_loader)\n",
    "\n",
    "print(f'Validation Accuracy: {val_accuracy:.4f}')\n",
    "print(f'ROC AUC Score: {val_roc_auc:.4f}')\n",
    "print(f'F1 Score: {val_f1:.4f}')"
   ]
  },
  {
   "cell_type": "code",
   "execution_count": 81,
   "id": "39026815-3cf1-4c30-b6cb-3e6fb036a969",
   "metadata": {},
   "outputs": [],
   "source": [
    "# save model\n",
    "torch.save(model.state_dict(), 'biomitnet_adamW_model.pth')"
   ]
  },
  {
   "cell_type": "code",
   "execution_count": 82,
   "id": "f0e9a896-b9ab-486e-b85c-593a1596cea5",
   "metadata": {},
   "outputs": [
    {
     "name": "stdout",
     "output_type": "stream",
     "text": [
      "Validation Accuracy: 0.9637\n",
      "ROC AUC Score: 0.9749\n",
      "F1 Score: 0.9383\n"
     ]
    }
   ],
   "source": [
    "# load model\n",
    "src_vocab_size = [PROBERT_VOCAB, BERT_VOCAB]\n",
    "SEQ_LEN = pad_sequences.shape[1]\n",
    "in_channel = [pad_sequences.shape[1], pad_descriptions.shape[1]]\n",
    "model = MITNet_bio(src_vocab_size, in_channel).to(device)\n",
    "\n",
    "# Load the model's state dict from the saved file\n",
    "model.load_state_dict(torch.load('biomitnet_adamW_model.pth'))\n",
    "\n",
    "# Put the model in evaluation mode\n",
    "val_accuracy, val_roc_auc, val_f1 = evaluate(model, val_loader)\n",
    "\n",
    "print(f'Validation Accuracy: {val_accuracy:.4f}')\n",
    "print(f'ROC AUC Score: {val_roc_auc:.4f}')\n",
    "print(f'F1 Score: {val_f1:.4f}')"
   ]
  },
  {
   "cell_type": "code",
   "execution_count": 83,
   "id": "bd65374b-7109-4a8b-9b7c-c89204363cce",
   "metadata": {},
   "outputs": [],
   "source": [
    "performance[\"BioMITNet-AdamW\"]={\n",
    "    \"Accuracy\": val_accuracy,\n",
    "    \"ROC-AUC Score\":val_roc_auc,\n",
    "    \"F1 Score\": val_f1\n",
    "    }"
   ]
  },
  {
   "cell_type": "code",
   "execution_count": 84,
   "id": "65b9a4d9-8ab5-463d-8ef8-04ed120f6039",
   "metadata": {},
   "outputs": [
    {
     "data": {
      "text/html": [
       "<div>\n",
       "<style scoped>\n",
       "    .dataframe tbody tr th:only-of-type {\n",
       "        vertical-align: middle;\n",
       "    }\n",
       "\n",
       "    .dataframe tbody tr th {\n",
       "        vertical-align: top;\n",
       "    }\n",
       "\n",
       "    .dataframe thead th {\n",
       "        text-align: right;\n",
       "    }\n",
       "</style>\n",
       "<table border=\"1\" class=\"dataframe\">\n",
       "  <thead>\n",
       "    <tr style=\"text-align: right;\">\n",
       "      <th></th>\n",
       "      <th>MITNet-Adam</th>\n",
       "      <th>MITNet-AdamW</th>\n",
       "    </tr>\n",
       "  </thead>\n",
       "  <tbody>\n",
       "    <tr>\n",
       "      <th>Accuracy</th>\n",
       "      <td>0.856494</td>\n",
       "      <td>0.858311</td>\n",
       "    </tr>\n",
       "    <tr>\n",
       "      <th>ROC-AUC Score</th>\n",
       "      <td>0.784896</td>\n",
       "      <td>0.787169</td>\n",
       "    </tr>\n",
       "    <tr>\n",
       "      <th>F1 Score</th>\n",
       "      <td>0.706320</td>\n",
       "      <td>0.710037</td>\n",
       "    </tr>\n",
       "  </tbody>\n",
       "</table>\n",
       "</div>"
      ],
      "text/plain": [
       "               MITNet-Adam  MITNet-AdamW\n",
       "Accuracy          0.856494      0.858311\n",
       "ROC-AUC Score     0.784896      0.787169\n",
       "F1 Score          0.706320      0.710037"
      ]
     },
     "execution_count": 84,
     "metadata": {},
     "output_type": "execute_result"
    }
   ],
   "source": [
    "performance_df = pd.read_csv(\"performance_ctc_base.csv\", index_col = 0)\n",
    "performance_df"
   ]
  },
  {
   "cell_type": "code",
   "execution_count": 85,
   "id": "fb550a45-5d79-4f50-b212-6aa7f58f7dd4",
   "metadata": {},
   "outputs": [
    {
     "data": {
      "text/html": [
       "<div>\n",
       "<style scoped>\n",
       "    .dataframe tbody tr th:only-of-type {\n",
       "        vertical-align: middle;\n",
       "    }\n",
       "\n",
       "    .dataframe tbody tr th {\n",
       "        vertical-align: top;\n",
       "    }\n",
       "\n",
       "    .dataframe thead th {\n",
       "        text-align: right;\n",
       "    }\n",
       "</style>\n",
       "<table border=\"1\" class=\"dataframe\">\n",
       "  <thead>\n",
       "    <tr style=\"text-align: right;\">\n",
       "      <th></th>\n",
       "      <th>BioMITNet-Adam</th>\n",
       "      <th>BioMITNet-AdamW</th>\n",
       "    </tr>\n",
       "  </thead>\n",
       "  <tbody>\n",
       "    <tr>\n",
       "      <th>Accuracy</th>\n",
       "      <td>0.950045</td>\n",
       "      <td>0.963669</td>\n",
       "    </tr>\n",
       "    <tr>\n",
       "      <th>ROC-AUC Score</th>\n",
       "      <td>0.965496</td>\n",
       "      <td>0.974906</td>\n",
       "    </tr>\n",
       "    <tr>\n",
       "      <th>F1 Score</th>\n",
       "      <td>0.917044</td>\n",
       "      <td>0.938272</td>\n",
       "    </tr>\n",
       "  </tbody>\n",
       "</table>\n",
       "</div>"
      ],
      "text/plain": [
       "               BioMITNet-Adam  BioMITNet-AdamW\n",
       "Accuracy             0.950045         0.963669\n",
       "ROC-AUC Score        0.965496         0.974906\n",
       "F1 Score             0.917044         0.938272"
      ]
     },
     "execution_count": 85,
     "metadata": {},
     "output_type": "execute_result"
    }
   ],
   "source": [
    "performance_df_bio = pd.DataFrame(performance)\n",
    "performance_df_bio"
   ]
  },
  {
   "cell_type": "code",
   "execution_count": 86,
   "id": "6a0d5aa8-4ec9-4b19-ab0b-90cc4c870178",
   "metadata": {},
   "outputs": [
    {
     "data": {
      "text/html": [
       "<div>\n",
       "<style scoped>\n",
       "    .dataframe tbody tr th:only-of-type {\n",
       "        vertical-align: middle;\n",
       "    }\n",
       "\n",
       "    .dataframe tbody tr th {\n",
       "        vertical-align: top;\n",
       "    }\n",
       "\n",
       "    .dataframe thead th {\n",
       "        text-align: right;\n",
       "    }\n",
       "</style>\n",
       "<table border=\"1\" class=\"dataframe\">\n",
       "  <thead>\n",
       "    <tr style=\"text-align: right;\">\n",
       "      <th></th>\n",
       "      <th>MITNet-Adam</th>\n",
       "      <th>MITNet-AdamW</th>\n",
       "      <th>BioMITNet-Adam</th>\n",
       "      <th>BioMITNet-AdamW</th>\n",
       "    </tr>\n",
       "  </thead>\n",
       "  <tbody>\n",
       "    <tr>\n",
       "      <th>Accuracy</th>\n",
       "      <td>0.856494</td>\n",
       "      <td>0.858311</td>\n",
       "      <td>0.950045</td>\n",
       "      <td>0.963669</td>\n",
       "    </tr>\n",
       "    <tr>\n",
       "      <th>ROC-AUC Score</th>\n",
       "      <td>0.784896</td>\n",
       "      <td>0.787169</td>\n",
       "      <td>0.965496</td>\n",
       "      <td>0.974906</td>\n",
       "    </tr>\n",
       "    <tr>\n",
       "      <th>F1 Score</th>\n",
       "      <td>0.706320</td>\n",
       "      <td>0.710037</td>\n",
       "      <td>0.917044</td>\n",
       "      <td>0.938272</td>\n",
       "    </tr>\n",
       "  </tbody>\n",
       "</table>\n",
       "</div>"
      ],
      "text/plain": [
       "               MITNet-Adam  MITNet-AdamW  BioMITNet-Adam  BioMITNet-AdamW\n",
       "Accuracy          0.856494      0.858311        0.950045         0.963669\n",
       "ROC-AUC Score     0.784896      0.787169        0.965496         0.974906\n",
       "F1 Score          0.706320      0.710037        0.917044         0.938272"
      ]
     },
     "execution_count": 86,
     "metadata": {},
     "output_type": "execute_result"
    }
   ],
   "source": [
    "concatenated_df = pd.concat([performance_df, performance_df_bio], axis=1)\n",
    "concatenated_df"
   ]
  },
  {
   "cell_type": "code",
   "execution_count": 87,
   "id": "2736c0f1-39e8-4388-959f-da18bad2e74f",
   "metadata": {},
   "outputs": [],
   "source": [
    "concatenated_df.to_csv(\"performance_mitnet_all.csv\")"
   ]
  },
  {
   "cell_type": "code",
   "execution_count": null,
   "id": "22e07cde-499f-4dc3-9c73-1a65e8073767",
   "metadata": {},
   "outputs": [],
   "source": []
  }
 ],
 "metadata": {
  "kernelspec": {
   "display_name": "cpsc552",
   "language": "python",
   "name": "cpsc552"
  },
  "language_info": {
   "codemirror_mode": {
    "name": "ipython",
    "version": 3
   },
   "file_extension": ".py",
   "mimetype": "text/x-python",
   "name": "python",
   "nbconvert_exporter": "python",
   "pygments_lexer": "ipython3",
   "version": "3.12.2"
  }
 },
 "nbformat": 4,
 "nbformat_minor": 5
}

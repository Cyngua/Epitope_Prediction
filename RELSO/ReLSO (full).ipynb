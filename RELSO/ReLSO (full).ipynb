{
 "cells": [
  {
   "cell_type": "code",
   "execution_count": 1,
   "id": "e0b8b1aa-7343-4a63-b01a-29d8ad35ae64",
   "metadata": {},
   "outputs": [],
   "source": [
    "## load required libraries\n",
    "import pathlib\n",
    "import matplotlib.pyplot as plt\n",
    "from tqdm import tqdm\n",
    "import numpy as np\n",
    "\n",
    "from sklearn.decomposition import PCA\n",
    "import matplotlib.pyplot as plt\n",
    "\n",
    "import torch \n",
    "\n",
    "import relso\n",
    "from relso import data as hdata\n",
    "from relso.utils import model_utils\n",
    "from relso.nn.models import relso1\n",
    "\n",
    "\n",
    "%matplotlib inline"
   ]
  },
  {
   "cell_type": "code",
   "execution_count": 2,
   "id": "6dfc7441-5baa-481c-958a-a9e564b9bc26",
   "metadata": {},
   "outputs": [],
   "source": [
    "import pandas as pd"
   ]
  },
  {
   "cell_type": "markdown",
   "id": "323afb32-7bd3-4e3f-b99c-e1ac21d493d6",
   "metadata": {},
   "source": [
    "### Load the data"
   ]
  },
  {
   "cell_type": "code",
   "execution_count": 3,
   "id": "7b9ff01e-8b3a-4083-a9d8-d094d78633e5",
   "metadata": {},
   "outputs": [
    {
     "data": {
      "text/plain": [
       "(5503, 24)"
      ]
     },
     "execution_count": 3,
     "metadata": {},
     "output_type": "execute_result"
    }
   ],
   "source": [
    "data = pd.read_csv('clean_data.csv')\n",
    "data.shape"
   ]
  },
  {
   "cell_type": "code",
   "execution_count": 4,
   "id": "da21dc1a-dd54-4de0-87f8-cc75c42daa49",
   "metadata": {},
   "outputs": [
    {
     "data": {
      "text/plain": [
       "4451"
      ]
     },
     "execution_count": 4,
     "metadata": {},
     "output_type": "execute_result"
    }
   ],
   "source": [
    "unique_values = data['Epitope - Name'].unique()\n",
    "len(unique_values)"
   ]
  },
  {
   "cell_type": "code",
   "execution_count": 5,
   "id": "17be76c2-75f7-4c55-b691-26a0a78e91ec",
   "metadata": {},
   "outputs": [],
   "source": [
    "sequences = list(unique_values)"
   ]
  },
  {
   "cell_type": "code",
   "execution_count": 6,
   "id": "296ef910-553c-4644-b94b-bc21006392f0",
   "metadata": {},
   "outputs": [
    {
     "data": {
      "text/plain": [
       "(4451, 24)"
      ]
     },
     "execution_count": 6,
     "metadata": {},
     "output_type": "execute_result"
    }
   ],
   "source": [
    "data = data.drop_duplicates(subset=['Epitope - Name'])\n",
    "data.shape"
   ]
  },
  {
   "cell_type": "code",
   "execution_count": 7,
   "id": "6dfd537c-5c06-4396-8a43-903f3f7fb5d7",
   "metadata": {},
   "outputs": [],
   "source": [
    "assay_values = torch.tensor(data['Assay - Qualitative Measure'].values, dtype=torch.float32)"
   ]
  },
  {
   "cell_type": "markdown",
   "id": "e3f59589-30f5-41be-8973-2c718f4e9c1b",
   "metadata": {},
   "source": [
    "### Load model"
   ]
  },
  {
   "cell_type": "code",
   "execution_count": 8,
   "id": "53323ef4-09eb-47b9-8121-71968e43a436",
   "metadata": {},
   "outputs": [
    {
     "name": "stdout",
     "output_type": "stream",
     "text": [
      "../hws/ReLSO-Guided-Generative-Protein-Design-using-Regularized-Transformers/relso_model_weights/trained_models/2021-06-22-16-59-23_model_weights.ckpt\n"
     ]
    }
   ],
   "source": [
    "# path to weights\n",
    "relso_weight_path = model_utils.weight_path_from_json(json_path='../hws/ReLSO-Guided-Generative-Protein-Design-using-Regularized-Transformers/relso_model_weights/trained_models.json',\n",
    "                           weight_dir='../hws/ReLSO-Guided-Generative-Protein-Design-using-Regularized-Transformers/relso_model_weights/trained_models',\n",
    "                          dataset='gifford',\n",
    "                          model='all')\n",
    "print(relso_weight_path)"
   ]
  },
  {
   "cell_type": "code",
   "execution_count": 9,
   "id": "7ac608a1-5b41-442d-8dc8-a48adcb21758",
   "metadata": {},
   "outputs": [
    {
     "name": "stderr",
     "output_type": "stream",
     "text": [
      "/home/cpsc477_nb752/.conda/envs/cpsc552/lib/python3.12/site-packages/pytorch_lightning/utilities/migration/migration.py:195: PossibleUserWarning: You have multiple `ModelCheckpoint` callback states in this checkpoint, but we found state keys that would end up colliding with each other after an upgrade, which means we can't differentiate which of your checkpoint callbacks needs which states. At least one of your `ModelCheckpoint` callbacks will not be able to reload the state.\n",
      "  rank_zero_warn(\n",
      "Lightning automatically upgraded your loaded checkpoint from v1.0.3 to v1.9.0. To apply the upgrade to your files permanently, run `python -m pytorch_lightning.utilities.upgrade_checkpoint --file ReLSO-Guided-Generative-Protein-Design-using-Regularized-Transformers/relso_model_weights/trained_models/2021-06-22-16-59-23_model_weights.ckpt`\n"
     ]
    },
    {
     "name": "stdout",
     "output_type": "stream",
     "text": [
      "[Linear(in_features=30, out_features=4000, bias=True), Block(\n",
      "  (skip): Sequential(\n",
      "    (0): Conv1d(200, 400, kernel_size=(1,), stride=(1,), bias=False)\n",
      "    (1): BatchNorm1d(400, eps=1e-05, momentum=0.1, affine=True, track_running_stats=True)\n",
      "  )\n",
      "  (block): Sequential(\n",
      "    (0): Conv1d(200, 400, kernel_size=(3,), stride=(1,), padding=(1,), bias=False)\n",
      "    (1): BatchNorm1d(400, eps=1e-05, momentum=0.1, affine=True, track_running_stats=True)\n",
      "    (2): ReLU()\n",
      "    (3): Conv1d(400, 400, kernel_size=(3,), stride=(1,), padding=(1,), bias=False)\n",
      "    (4): BatchNorm1d(400, eps=1e-05, momentum=0.1, affine=True, track_running_stats=True)\n",
      "  )\n",
      "), Conv1d(400, 22, kernel_size=(3,), stride=(1,), padding=(1,))]\n"
     ]
    }
   ],
   "source": [
    "relso_model = relso1.load_from_checkpoint(relso_weight_path)\n",
    "relso_model = relso_model.eval()"
   ]
  },
  {
   "cell_type": "markdown",
   "id": "a0eefee0-712e-4643-911b-31ea70ed8e39",
   "metadata": {},
   "source": [
    "### Generate embeddings"
   ]
  },
  {
   "cell_type": "code",
   "execution_count": 10,
   "id": "175767ba-322b-4e39-8e23-13f62e0e849b",
   "metadata": {},
   "outputs": [
    {
     "name": "stdout",
     "output_type": "stream",
     "text": [
      "tensor([[13, 17, 15,  ...,  9,  8,  4],\n",
      "        [ 4, 15,  9,  ...,  0,  0,  0],\n",
      "        [ 1,  4,  4,  ...,  0,  0,  0],\n",
      "        ...,\n",
      "        [ 6, 10, 20,  ...,  0,  0,  0],\n",
      "        [10, 17, 12,  ...,  0,  0,  0],\n",
      "        [16,  2, 20,  ...,  0,  0,  0]])\n"
     ]
    },
    {
     "data": {
      "text/plain": [
       "torch.Size([4451, 20])"
      ]
     },
     "execution_count": 10,
     "metadata": {},
     "output_type": "execute_result"
    }
   ],
   "source": [
    "def encode_amino_acids(sequence, max_length=20):\n",
    "    mapping = {aa: idx for idx, aa in enumerate('ACDEFGHIKLMNPQRSTVWY', 1)}\n",
    "    encoded_sequence = [mapping.get(aa, 0) for aa in sequence]\n",
    "    padded_sequence = encoded_sequence + [0] * (max_length - len(encoded_sequence))\n",
    "    return padded_sequence[:max_length]\n",
    "\n",
    "# Apply encoding and padding to each sequence\n",
    "max_length = 20\n",
    "encoded_sequences = [encode_amino_acids(seq, max_length) for seq in sequences]\n",
    "\n",
    "# Convert list of amino acid indices to tensor\n",
    "sequence_tensors = torch.tensor(encoded_sequences, dtype=torch.long)\n",
    "print(sequence_tensors)\n",
    "sequence_tensors.shape"
   ]
  },
  {
   "cell_type": "code",
   "execution_count": 11,
   "id": "f60d1640-d3bb-4bd1-a0b7-d59d3256374c",
   "metadata": {},
   "outputs": [
    {
     "name": "stderr",
     "output_type": "stream",
     "text": [
      "Generating Embeddings: 100%|██████████| 4451/4451 [00:34<00:00, 127.94it/s]"
     ]
    },
    {
     "name": "stdout",
     "output_type": "stream",
     "text": [
      "torch.Size([4451, 440])\n"
     ]
    },
    {
     "name": "stderr",
     "output_type": "stream",
     "text": [
      "\n"
     ]
    }
   ],
   "source": [
    "import torch\n",
    "import tqdm\n",
    "\n",
    "# Assuming sequence_tensors and relso_model are defined\n",
    "embeddings = []\n",
    "for sequence_tensor in tqdm.tqdm(sequence_tensors, desc=\"Generating Embeddings\"):\n",
    "    with torch.no_grad():\n",
    "        output = relso_model(sequence_tensor.unsqueeze(0))  # Add batch dimension\n",
    "\n",
    "    # Handle different types of outputs\n",
    "    if isinstance(output, tuple):\n",
    "        main_output = output[0][0]  # Remove batch dimension\n",
    "    elif isinstance(output, torch.Tensor):\n",
    "        main_output = output.squeeze(0)  # Remove batch dimension if not done yet\n",
    "    else:\n",
    "        raise TypeError(\"Output is not a tensor\")\n",
    "\n",
    "    # Flatten or average the output to 1D per sequence\n",
    "    if len(main_output.shape) > 1:  # Check if there are multiple dimensions to reduce\n",
    "        flattened_output = main_output.flatten()\n",
    "\n",
    "    embeddings.append(flattened_output)\n",
    "\n",
    "# Concatenate all embeddings to form a 2D tensor\n",
    "embeddings_tensor = torch.stack(embeddings, dim=0)\n",
    "print(embeddings_tensor.shape)"
   ]
  },
  {
   "cell_type": "code",
   "execution_count": 12,
   "id": "6fb0bea3-a03e-49e0-b4da-900c6e1416a4",
   "metadata": {},
   "outputs": [
    {
     "data": {
      "text/plain": [
       "tensor([[ -7.4464, -10.9072, -12.6201,  ..., -47.9110,  -4.9777,   9.0472],\n",
       "        [ -7.0585,  -7.5537,  -5.3427,  ..., -51.4940,   5.3583,  13.5966],\n",
       "        [ -4.7640,  -6.5036,  -4.4864,  ..., -48.4916,   2.5750,  12.2470],\n",
       "        ...,\n",
       "        [ -7.0047,  -7.0775,  -7.8137,  ..., -51.0694,   6.1859,  13.8618],\n",
       "        [ -7.4029,  -7.2875,  -7.2530,  ..., -52.6248,   7.0108,  14.7933],\n",
       "        [ -7.5529,  -7.3469,  -8.2677,  ..., -51.7463,   4.6596,  13.0522]])"
      ]
     },
     "execution_count": 12,
     "metadata": {},
     "output_type": "execute_result"
    }
   ],
   "source": [
    "embeddings_tensor"
   ]
  },
  {
   "cell_type": "markdown",
   "id": "a7236344-8f09-423b-a0ae-0e317e4ac80e",
   "metadata": {},
   "source": [
    "### Classification architecture"
   ]
  },
  {
   "cell_type": "code",
   "execution_count": 13,
   "id": "4630e925-1aeb-4791-ae97-2d9527218eb6",
   "metadata": {},
   "outputs": [],
   "source": [
    "import torch\n",
    "import torch.nn as nn\n",
    "import torch.optim as optim"
   ]
  },
  {
   "cell_type": "code",
   "execution_count": 14,
   "id": "093f8224-c489-4f56-bdf7-88dad47ea337",
   "metadata": {},
   "outputs": [],
   "source": [
    "class BinaryPredictionModel(nn.Module):\n",
    "    def __init__(self, embedding_dim, sequence_length):\n",
    "        super(BinaryPredictionModel, self).__init__()\n",
    "        \n",
    "        # Parameters\n",
    "        self.embedding_dim = embedding_dim\n",
    "        self.sequence_length = sequence_length\n",
    "        \n",
    "        # Convolutional layers\n",
    "        self.conv1 = nn.Conv1d(embedding_dim, 64, kernel_size=3, padding=1)\n",
    "        self.conv2 = nn.Conv1d(64, 128, kernel_size=3, padding=1)\n",
    "        self.relu = nn.ReLU()\n",
    "        self.pool = nn.MaxPool1d(kernel_size=2)\n",
    "        \n",
    "        # Calculate the size after pooling\n",
    "        reduced_length = sequence_length // 4\n",
    "        \n",
    "        # Fully connected layers\n",
    "        self.fc1 = nn.Linear(128 * reduced_length, 256)\n",
    "        self.fc2 = nn.Linear(256, 1)\n",
    "        self.sigmoid = nn.Sigmoid()\n",
    "\n",
    "    def forward(self, embeddings):\n",
    "        # Assume embeddings are of shape (batch_size, 440)\n",
    "        # Reshape to (batch_size, embedding_dim, sequence_length)\n",
    "        embeddings = embeddings.view(-1, self.embedding_dim, self.sequence_length).permute(0, 1, 2)\n",
    "        \n",
    "        # Convolutional layers\n",
    "        conv_out1 = self.conv1(embeddings)\n",
    "        conv_out1 = self.relu(conv_out1)\n",
    "        conv_out1 = self.pool(conv_out1)\n",
    "        \n",
    "        conv_out2 = self.conv2(conv_out1)\n",
    "        conv_out2 = self.relu(conv_out2)\n",
    "        conv_out2 = self.pool(conv_out2)\n",
    "        \n",
    "        # Flatten convolutional output\n",
    "        conv_out2 = conv_out2.view(-1, 128 * (self.sequence_length // 4))\n",
    "        \n",
    "        # Fully connected layers\n",
    "        fc_out1 = self.fc1(conv_out2)\n",
    "        fc_out1 = self.relu(fc_out1)\n",
    "        fc_out2 = self.fc2(fc_out1)\n",
    "        output = self.sigmoid(fc_out2)\n",
    "        \n",
    "        return output"
   ]
  },
  {
   "cell_type": "code",
   "execution_count": 15,
   "id": "e167f43f-38e0-431b-b33b-a19125890c33",
   "metadata": {},
   "outputs": [],
   "source": [
    "# Instantiate the model\n",
    "embedding_dim = 20  # the embedding dimension is 20\n",
    "max_length = 22     # Maximum length of the sequences\n",
    "model = BinaryPredictionModel(embedding_dim, max_length)"
   ]
  },
  {
   "cell_type": "markdown",
   "id": "872d48be-c4a6-401c-92bd-2e72204b7d3f",
   "metadata": {},
   "source": [
    "### Training and Evaluation"
   ]
  },
  {
   "cell_type": "code",
   "execution_count": 16,
   "id": "9ee38c07-2b86-456c-8256-bea984653d40",
   "metadata": {},
   "outputs": [],
   "source": [
    "from sklearn.metrics import roc_auc_score, f1_score\n",
    "from torch.utils.data import DataLoader, TensorDataset\n",
    "from sklearn.model_selection import train_test_split\n",
    "import tqdm"
   ]
  },
  {
   "cell_type": "code",
   "execution_count": 17,
   "id": "d0c75db6-e966-48c0-9bdd-0767eb45c19f",
   "metadata": {},
   "outputs": [],
   "source": [
    "# Define your loss function and optimizer\n",
    "criterion = nn.BCELoss()\n",
    "optimizer = optim.Adam(model.parameters(), lr=0.001)"
   ]
  },
  {
   "cell_type": "code",
   "execution_count": 18,
   "id": "7ebd8d16-32ea-4cf6-a1c7-0b04b32029be",
   "metadata": {},
   "outputs": [],
   "source": [
    "# Convert embeddings tensor to float32\n",
    "embeddings_tensor = embeddings_tensor.float()\n",
    "\n",
    "dataset = TensorDataset(embeddings_tensor, assay_values)\n",
    "# Split dataset into training and validation sets\n",
    "train_indices, val_indices = train_test_split(range(len(dataset)), test_size=0.2, random_state=42)\n",
    "\n",
    "batch_size = 8\n",
    "\n",
    "# Create DataLoader for training set\n",
    "train_sampler = torch.utils.data.SubsetRandomSampler(train_indices)\n",
    "train_loader = DataLoader(dataset, batch_size=batch_size, sampler=train_sampler)\n",
    "# Create DataLoader for validation set\n",
    "val_sampler = torch.utils.data.SubsetRandomSampler(val_indices)\n",
    "val_loader = DataLoader(dataset, batch_size=batch_size, sampler=val_sampler)"
   ]
  },
  {
   "cell_type": "code",
   "execution_count": 19,
   "id": "16c4dcd5-3519-4dcd-8a0a-6204eda9c2e2",
   "metadata": {},
   "outputs": [
    {
     "name": "stdout",
     "output_type": "stream",
     "text": [
      "Epoch 1, Loss: 0.5231, Accuracy: 0.7761\n",
      "Epoch 6, Loss: 0.4735, Accuracy: 0.7921\n",
      "Epoch 11, Loss: 0.4508, Accuracy: 0.8093\n",
      "Epoch 16, Loss: 0.4343, Accuracy: 0.8233\n",
      "Epoch 21, Loss: 0.4199, Accuracy: 0.8177\n",
      "Epoch 26, Loss: 0.3961, Accuracy: 0.8407\n",
      "Epoch 31, Loss: 0.3742, Accuracy: 0.8500\n",
      "Epoch 36, Loss: 0.3477, Accuracy: 0.8629\n",
      "Epoch 41, Loss: 0.3117, Accuracy: 0.8795\n",
      "Epoch 46, Loss: 0.2891, Accuracy: 0.8896\n",
      "Epoch 51, Loss: 0.2851, Accuracy: 0.8969\n",
      "Epoch 56, Loss: 0.2326, Accuracy: 0.9157\n",
      "Epoch 61, Loss: 0.2239, Accuracy: 0.9185\n",
      "Epoch 66, Loss: 0.1873, Accuracy: 0.9385\n",
      "Epoch 71, Loss: 0.2282, Accuracy: 0.9194\n",
      "Epoch 76, Loss: 0.2075, Accuracy: 0.9261\n",
      "Epoch 81, Loss: 0.1767, Accuracy: 0.9419\n",
      "Epoch 86, Loss: 0.1703, Accuracy: 0.9416\n",
      "Epoch 91, Loss: 0.1704, Accuracy: 0.9368\n",
      "Epoch 96, Loss: 0.2081, Accuracy: 0.9317\n",
      "Training finished\n"
     ]
    }
   ],
   "source": [
    "# Training loop\n",
    "num_epochs = 100\n",
    "training_loss_list = []\n",
    "training_acc_list = []\n",
    "\n",
    "for epoch in range(num_epochs):\n",
    "    running_loss = 0.0\n",
    "    correct_predictions = 0\n",
    "    total_samples = 0\n",
    "    \n",
    "    for inputs, labels in train_loader:\n",
    "        # Zero the parameter gradients\n",
    "        optimizer.zero_grad()\n",
    "\n",
    "        # Forward pass\n",
    "        outputs = model(inputs)\n",
    "\n",
    "        # Compute the loss\n",
    "        labels = labels.unsqueeze(1).float()  # Ensure labels are float and match output shape\n",
    "        loss = criterion(outputs, labels)\n",
    "\n",
    "        # Backward pass and optimization\n",
    "        loss.backward()\n",
    "        optimizer.step()\n",
    "\n",
    "        # Update running loss\n",
    "        running_loss += loss.item()\n",
    "\n",
    "        # Calculate training accuracy (appropriate for binary classification)\n",
    "        predicted = (outputs > 0.5).float()  # Using a threshold of 0.5\n",
    "        correct_predictions += (predicted == labels).sum().item()\n",
    "        total_samples += labels.size(0)\n",
    "    \n",
    "    epoch_loss = running_loss / len(train_loader)\n",
    "    epoch_accuracy = correct_predictions / total_samples\n",
    "    training_loss_list.append(epoch_loss)\n",
    "    training_acc_list.append(epoch_accuracy)\n",
    "    \n",
    "    if epoch % 5 == 0:\n",
    "        print(f'Epoch {epoch+1}, Loss: {epoch_loss:.4f}, Accuracy: {epoch_accuracy:.4f}')\n",
    "\n",
    "print('Training finished')"
   ]
  },
  {
   "cell_type": "code",
   "execution_count": 20,
   "id": "faba1273-4a2a-4595-b1ad-645d0b87703b",
   "metadata": {},
   "outputs": [
    {
     "data": {
      "text/plain": [
       "Text(0.5, 0, 'Epochs')"
      ]
     },
     "execution_count": 20,
     "metadata": {},
     "output_type": "execute_result"
    },
    {
     "data": {
      "image/png": "[encoded data removed]",
      "text/plain": [
       "<Figure size 1000x400 with 2 Axes>"
      ]
     },
     "metadata": {},
     "output_type": "display_data"
    }
   ],
   "source": [
    "# plot loss vs epochs\n",
    "fig = plt.figure(figsize = (10, 4))\n",
    "ax = fig.add_subplot(1, 2, 1)\n",
    "ax.plot(range(num_epochs), training_loss_list)\n",
    "ax.set_ylabel('Loss')\n",
    "ax.set_xlabel('Epochs')\n",
    "\n",
    "ax = fig.add_subplot(1, 2, 2)\n",
    "ax.plot(range(num_epochs), training_acc_list)\n",
    "ax.set_ylabel('Accuracy')\n",
    "ax.set_xlabel('Epochs')"
   ]
  },
  {
   "cell_type": "code",
   "execution_count": 21,
   "id": "8ad88c6f-9f54-4708-8c93-2ebad187e6c3",
   "metadata": {},
   "outputs": [
    {
     "name": "stdout",
     "output_type": "stream",
     "text": [
      "Validation Accuracy: 0.7980\n",
      "ROC AUC Score: 0.6532\n",
      "F1 Score: 0.4972\n"
     ]
    }
   ],
   "source": [
    "from sklearn.metrics import roc_auc_score, f1_score\n",
    "\n",
    "# Evaluation function\n",
    "def evaluate(model, dataloader):\n",
    "    model.eval()  # Set model to evaluation mode\n",
    "    correct_predictions = 0\n",
    "    total_samples = 0\n",
    "    all_labels = []\n",
    "    all_preds = []  # This will store the probabilities for ROC AUC calculation\n",
    "\n",
    "    with torch.no_grad():\n",
    "        for inputs, labels in dataloader:\n",
    "            outputs = model(inputs)\n",
    "            predicted_probs = outputs.squeeze(1)  # Get probabilities from model output\n",
    "            predicted_labels = (predicted_probs > 0.5).float()  # Convert probabilities to 0 or 1 based on threshold\n",
    "\n",
    "            # Calculate correct predictions for accuracy\n",
    "            correct_predictions += (predicted_labels == labels).sum().item()\n",
    "            total_samples += labels.size(0)\n",
    "\n",
    "            # Store labels and predictions for computing ROC AUC and F1 Score\n",
    "            all_labels.extend(labels.tolist())\n",
    "            all_preds.extend(predicted_probs.tolist())  # Use probabilities for ROC AUC\n",
    "\n",
    "    accuracy = correct_predictions / total_samples\n",
    "    roc_auc = roc_auc_score(all_labels, all_preds)  # Use probabilities for ROC AUC calculation\n",
    "    f1 = f1_score(all_labels, [1 if x > 0.5 else 0 for x in all_preds])  # Convert probabilities to labels for F1\n",
    "\n",
    "    return accuracy, roc_auc, f1\n",
    "\n",
    "# Perform validation\n",
    "val_accuracy, val_roc_auc, val_f1 = evaluate(model, val_loader)\n",
    "\n",
    "print(f'Validation Accuracy: {val_accuracy:.4f}')\n",
    "print(f'ROC AUC Score: {val_roc_auc:.4f}')\n",
    "print(f'F1 Score: {val_f1:.4f}')"
   ]
  },
  {
   "cell_type": "markdown",
   "id": "5c8fb044-8ddc-4d20-a7f9-e8513a77b319",
   "metadata": {},
   "source": [
    "### With Biological Information"
   ]
  },
  {
   "cell_type": "code",
   "execution_count": 22,
   "id": "9d32d70e-7d52-4f1f-93c5-ef8bd5150d0a",
   "metadata": {},
   "outputs": [
    {
     "data": {
      "text/html": [
       "<div>\n",
       "<style scoped>\n",
       "    .dataframe tbody tr th:only-of-type {\n",
       "        vertical-align: middle;\n",
       "    }\n",
       "\n",
       "    .dataframe tbody tr th {\n",
       "        vertical-align: top;\n",
       "    }\n",
       "\n",
       "    .dataframe thead th {\n",
       "        text-align: right;\n",
       "    }\n",
       "</style>\n",
       "<table border=\"1\" class=\"dataframe\">\n",
       "  <thead>\n",
       "    <tr style=\"text-align: right;\">\n",
       "      <th></th>\n",
       "      <th>Epitope - Starting Position</th>\n",
       "      <th>Epitope - Ending Position</th>\n",
       "      <th>Epitope - Source Molecule</th>\n",
       "      <th>Epitope - Source Organism</th>\n",
       "      <th>Host - Name</th>\n",
       "      <th>Host - Age</th>\n",
       "      <th>1st in vivo Process - Process Type</th>\n",
       "      <th>1st in vivo Process - Disease</th>\n",
       "      <th>1st in vivo Process - Disease Stage</th>\n",
       "      <th>Adoptive Transfer - Flag</th>\n",
       "      <th>...</th>\n",
       "      <th>Assay - Response measured</th>\n",
       "      <th>Assay - Response Frequency (%)</th>\n",
       "      <th>Assay Antibody - Antibody Source Material</th>\n",
       "      <th>Assay Antibody - Immunoglobulin Domain</th>\n",
       "      <th>Assay Antibody - Purification Status</th>\n",
       "      <th>Assay Antibody - Heavy chain isotype</th>\n",
       "      <th>Assay Antigen - Epitope Relation</th>\n",
       "      <th>Assay Antigen - Object Type</th>\n",
       "      <th>Assay Antigen - Source Organism</th>\n",
       "      <th>Assay Antigen - Species</th>\n",
       "    </tr>\n",
       "  </thead>\n",
       "  <tbody>\n",
       "    <tr>\n",
       "      <th>0</th>\n",
       "      <td>57.0</td>\n",
       "      <td>76.0</td>\n",
       "      <td>U1 small nuclear ribonucleoprotein 70 kDa</td>\n",
       "      <td>Homo sapiens</td>\n",
       "      <td>Homo sapiens</td>\n",
       "      <td>Seniors (65+ years)</td>\n",
       "      <td>Occurrence of autoimmune disease</td>\n",
       "      <td>systemic lupus erythematosus</td>\n",
       "      <td>Chronic</td>\n",
       "      <td>0</td>\n",
       "      <td>...</td>\n",
       "      <td>qualitative binding</td>\n",
       "      <td>NaN</td>\n",
       "      <td>Serum</td>\n",
       "      <td>NaN</td>\n",
       "      <td>Polyclonal</td>\n",
       "      <td>NaN</td>\n",
       "      <td>Epitope</td>\n",
       "      <td>Linear peptide</td>\n",
       "      <td>Homo sapiens</td>\n",
       "      <td>Homo sapiens</td>\n",
       "    </tr>\n",
       "    <tr>\n",
       "      <th>1</th>\n",
       "      <td>68.0</td>\n",
       "      <td>72.0</td>\n",
       "      <td>U1 small nuclear ribonucleoprotein 70 kDa</td>\n",
       "      <td>Homo sapiens</td>\n",
       "      <td>Homo sapiens</td>\n",
       "      <td>Seniors (65+ years)</td>\n",
       "      <td>Occurrence of autoimmune disease</td>\n",
       "      <td>systemic lupus erythematosus</td>\n",
       "      <td>Chronic</td>\n",
       "      <td>0</td>\n",
       "      <td>...</td>\n",
       "      <td>qualitative binding</td>\n",
       "      <td>NaN</td>\n",
       "      <td>Serum</td>\n",
       "      <td>NaN</td>\n",
       "      <td>Polyclonal</td>\n",
       "      <td>NaN</td>\n",
       "      <td>Epitope</td>\n",
       "      <td>Linear peptide</td>\n",
       "      <td>Homo sapiens</td>\n",
       "      <td>Homo sapiens</td>\n",
       "    </tr>\n",
       "    <tr>\n",
       "      <th>3</th>\n",
       "      <td>93.0</td>\n",
       "      <td>107.0</td>\n",
       "      <td>ribosomal protein P-JL5</td>\n",
       "      <td>Trypanosoma cruzi</td>\n",
       "      <td>Homo sapiens</td>\n",
       "      <td>Seniors (65+ years)</td>\n",
       "      <td>Occurrence of autoimmune disease</td>\n",
       "      <td>systemic lupus erythematosus</td>\n",
       "      <td>Unknown</td>\n",
       "      <td>0</td>\n",
       "      <td>...</td>\n",
       "      <td>qualitative binding</td>\n",
       "      <td>100.0</td>\n",
       "      <td>Serum</td>\n",
       "      <td>Entire Antibody</td>\n",
       "      <td>Polyclonal</td>\n",
       "      <td>IgG</td>\n",
       "      <td>Epitope</td>\n",
       "      <td>Linear peptide</td>\n",
       "      <td>Trypanosoma cruzi</td>\n",
       "      <td>Trypanosoma cruzi</td>\n",
       "    </tr>\n",
       "    <tr>\n",
       "      <th>4</th>\n",
       "      <td>73.0</td>\n",
       "      <td>91.0</td>\n",
       "      <td>ribosomal protein P-JL5</td>\n",
       "      <td>Trypanosoma cruzi</td>\n",
       "      <td>Homo sapiens</td>\n",
       "      <td>Seniors (65+ years)</td>\n",
       "      <td>Occurrence of autoimmune disease</td>\n",
       "      <td>systemic lupus erythematosus</td>\n",
       "      <td>Unknown</td>\n",
       "      <td>0</td>\n",
       "      <td>...</td>\n",
       "      <td>qualitative binding</td>\n",
       "      <td>0.0</td>\n",
       "      <td>Serum</td>\n",
       "      <td>Entire Antibody</td>\n",
       "      <td>Polyclonal</td>\n",
       "      <td>IgG</td>\n",
       "      <td>Epitope</td>\n",
       "      <td>Linear peptide</td>\n",
       "      <td>Trypanosoma cruzi</td>\n",
       "      <td>Trypanosoma cruzi</td>\n",
       "    </tr>\n",
       "    <tr>\n",
       "      <th>5</th>\n",
       "      <td>95.0</td>\n",
       "      <td>107.0</td>\n",
       "      <td>ribosomal protein P-JL5</td>\n",
       "      <td>Trypanosoma cruzi</td>\n",
       "      <td>Homo sapiens</td>\n",
       "      <td>Seniors (65+ years)</td>\n",
       "      <td>Occurrence of autoimmune disease</td>\n",
       "      <td>systemic lupus erythematosus</td>\n",
       "      <td>Unknown</td>\n",
       "      <td>0</td>\n",
       "      <td>...</td>\n",
       "      <td>qualitative binding</td>\n",
       "      <td>NaN</td>\n",
       "      <td>Serum</td>\n",
       "      <td>Entire Antibody</td>\n",
       "      <td>Polyclonal</td>\n",
       "      <td>NaN</td>\n",
       "      <td>Epitope</td>\n",
       "      <td>Linear peptide</td>\n",
       "      <td>Trypanosoma cruzi</td>\n",
       "      <td>Trypanosoma cruzi</td>\n",
       "    </tr>\n",
       "  </tbody>\n",
       "</table>\n",
       "<p>5 rows × 21 columns</p>\n",
       "</div>"
      ],
      "text/plain": [
       "   Epitope - Starting Position  Epitope - Ending Position  \\\n",
       "0                         57.0                       76.0   \n",
       "1                         68.0                       72.0   \n",
       "3                         93.0                      107.0   \n",
       "4                         73.0                       91.0   \n",
       "5                         95.0                      107.0   \n",
       "\n",
       "                   Epitope - Source Molecule Epitope - Source Organism  \\\n",
       "0  U1 small nuclear ribonucleoprotein 70 kDa              Homo sapiens   \n",
       "1  U1 small nuclear ribonucleoprotein 70 kDa              Homo sapiens   \n",
       "3                    ribosomal protein P-JL5         Trypanosoma cruzi   \n",
       "4                    ribosomal protein P-JL5         Trypanosoma cruzi   \n",
       "5                    ribosomal protein P-JL5         Trypanosoma cruzi   \n",
       "\n",
       "    Host - Name           Host - Age 1st in vivo Process - Process Type  \\\n",
       "0  Homo sapiens  Seniors (65+ years)   Occurrence of autoimmune disease   \n",
       "1  Homo sapiens  Seniors (65+ years)   Occurrence of autoimmune disease   \n",
       "3  Homo sapiens  Seniors (65+ years)   Occurrence of autoimmune disease   \n",
       "4  Homo sapiens  Seniors (65+ years)   Occurrence of autoimmune disease   \n",
       "5  Homo sapiens  Seniors (65+ years)   Occurrence of autoimmune disease   \n",
       "\n",
       "  1st in vivo Process - Disease 1st in vivo Process - Disease Stage  \\\n",
       "0  systemic lupus erythematosus                             Chronic   \n",
       "1  systemic lupus erythematosus                             Chronic   \n",
       "3  systemic lupus erythematosus                             Unknown   \n",
       "4  systemic lupus erythematosus                             Unknown   \n",
       "5  systemic lupus erythematosus                             Unknown   \n",
       "\n",
       "   Adoptive Transfer - Flag  ... Assay - Response measured  \\\n",
       "0                         0  ...       qualitative binding   \n",
       "1                         0  ...       qualitative binding   \n",
       "3                         0  ...       qualitative binding   \n",
       "4                         0  ...       qualitative binding   \n",
       "5                         0  ...       qualitative binding   \n",
       "\n",
       "  Assay - Response Frequency (%)  Assay Antibody - Antibody Source Material  \\\n",
       "0                            NaN                                      Serum   \n",
       "1                            NaN                                      Serum   \n",
       "3                          100.0                                      Serum   \n",
       "4                            0.0                                      Serum   \n",
       "5                            NaN                                      Serum   \n",
       "\n",
       "  Assay Antibody - Immunoglobulin Domain Assay Antibody - Purification Status  \\\n",
       "0                                    NaN                           Polyclonal   \n",
       "1                                    NaN                           Polyclonal   \n",
       "3                        Entire Antibody                           Polyclonal   \n",
       "4                        Entire Antibody                           Polyclonal   \n",
       "5                        Entire Antibody                           Polyclonal   \n",
       "\n",
       "  Assay Antibody - Heavy chain isotype Assay Antigen - Epitope Relation  \\\n",
       "0                                  NaN                          Epitope   \n",
       "1                                  NaN                          Epitope   \n",
       "3                                  IgG                          Epitope   \n",
       "4                                  IgG                          Epitope   \n",
       "5                                  NaN                          Epitope   \n",
       "\n",
       "  Assay Antigen - Object Type Assay Antigen - Source Organism  \\\n",
       "0              Linear peptide                    Homo sapiens   \n",
       "1              Linear peptide                    Homo sapiens   \n",
       "3              Linear peptide               Trypanosoma cruzi   \n",
       "4              Linear peptide               Trypanosoma cruzi   \n",
       "5              Linear peptide               Trypanosoma cruzi   \n",
       "\n",
       "  Assay Antigen - Species  \n",
       "0            Homo sapiens  \n",
       "1            Homo sapiens  \n",
       "3       Trypanosoma cruzi  \n",
       "4       Trypanosoma cruzi  \n",
       "5       Trypanosoma cruzi  \n",
       "\n",
       "[5 rows x 21 columns]"
      ]
     },
     "execution_count": 22,
     "metadata": {},
     "output_type": "execute_result"
    }
   ],
   "source": [
    "columns_to_drop = ['Epitope - Name', 'Assay - Qualitative Measure', 'Epitope - Object Type']\n",
    "data2 = data.drop(columns=columns_to_drop)\n",
    "data2.head()"
   ]
  },
  {
   "cell_type": "code",
   "execution_count": 23,
   "id": "ec3550ef-5998-4580-b249-3a191d2bcca9",
   "metadata": {},
   "outputs": [
    {
     "name": "stdout",
     "output_type": "stream",
     "text": [
      "Categorical columns: ['Epitope - Source Molecule', 'Epitope - Source Organism', 'Host - Name', 'Host - Age', '1st in vivo Process - Process Type', '1st in vivo Process - Disease', '1st in vivo Process - Disease Stage', 'Assay - Method', 'Assay - Response measured', 'Assay Antibody - Antibody Source Material', 'Assay Antibody - Immunoglobulin Domain', 'Assay Antibody - Purification Status', 'Assay Antibody - Heavy chain isotype', 'Assay Antigen - Epitope Relation', 'Assay Antigen - Object Type', 'Assay Antigen - Source Organism', 'Assay Antigen - Species']\n",
      "\n",
      "Continuous columns: ['Epitope - Starting Position', 'Epitope - Ending Position', 'Adoptive Transfer - Flag', 'Assay - Response Frequency (%)']\n"
     ]
    }
   ],
   "source": [
    "# Separating categorical and continuous variables\n",
    "categorical_cols = [col for col in data2.columns if data2[col].dtype == 'object' or data2[col].dtype.name == 'category']\n",
    "numerical_cols = [col for col in data2.columns if data2[col].dtype in ['int64', 'float64'] and col not in categorical_cols]\n",
    "\n",
    "# Print out the lists\n",
    "print(\"Categorical columns:\", categorical_cols)\n",
    "print()\n",
    "print(\"Continuous columns:\", numerical_cols)"
   ]
  },
  {
   "cell_type": "code",
   "execution_count": 24,
   "id": "4c10dc92-081c-48c6-9885-aec392cdacc4",
   "metadata": {},
   "outputs": [],
   "source": [
    "from sklearn.preprocessing import OneHotEncoder\n",
    "from sklearn.impute import SimpleImputer\n",
    "\n",
    "# Impute missing values for numerical data\n",
    "imputer = SimpleImputer(strategy='mean')\n",
    "data[numerical_cols] = imputer.fit_transform(data[numerical_cols])\n",
    "\n",
    "# One-hot encode categorical data\n",
    "encoder = OneHotEncoder(sparse_output=False)\n",
    "encoded_categorical = encoder.fit_transform(data[categorical_cols])\n",
    "encoded_categorical_df = pd.DataFrame(encoded_categorical, columns=encoder.get_feature_names_out(categorical_cols))\n",
    "\n",
    "# Combine encoded categorical data with original DataFrame\n",
    "data2 = pd.concat([data2, encoded_categorical_df], axis=1)"
   ]
  },
  {
   "cell_type": "code",
   "execution_count": 25,
   "id": "b20efe34-b80d-4e01-a0a9-a997d5f9dcff",
   "metadata": {},
   "outputs": [],
   "source": [
    "class ExtendedBinaryPredictionModel(nn.Module):\n",
    "    def __init__(self, embedding_dim, sequence_length, additional_features_dim):\n",
    "        super(ExtendedBinaryPredictionModel, self).__init__()\n",
    "        self.embedding_dim = embedding_dim\n",
    "        self.sequence_length = sequence_length\n",
    "        self.additional_features_dim = additional_features_dim\n",
    "        \n",
    "        # Convolutional layers\n",
    "        self.conv1 = nn.Conv1d(embedding_dim, 64, kernel_size=3, padding=1)\n",
    "        self.conv2 = nn.Conv1d(64, 128, kernel_size=3, padding=1)\n",
    "        self.relu = nn.ReLU()\n",
    "        self.pool = nn.MaxPool1d(kernel_size=2)\n",
    "        \n",
    "        # Calculate reduced length after pooling\n",
    "        reduced_length = sequence_length // 4\n",
    "        \n",
    "        # Fully connected layers\n",
    "        self.fc1 = nn.Linear(128 * reduced_length + additional_features_dim, 256)\n",
    "        self.fc2 = nn.Linear(256, 1)\n",
    "        self.sigmoid = nn.Sigmoid()\n",
    "\n",
    "    def forward(self, embeddings, additional_features):\n",
    "        # Convolutional layers\n",
    "        embeddings = embeddings.view(-1, self.embedding_dim, self.sequence_length).permute(0, 1, 2)\n",
    "        conv_out1 = self.pool(self.relu(self.conv1(embeddings)))\n",
    "        conv_out2 = self.pool(self.relu(self.conv2(conv_out1)))\n",
    "        \n",
    "        # Flatten convolutional output\n",
    "        conv_out_flat = conv_out2.view(-1, 128 * (self.sequence_length // 4))\n",
    "        \n",
    "        # Concatenate additional features\n",
    "        combined_input = torch.cat([conv_out_flat, additional_features], dim=1)\n",
    "        \n",
    "        # Fully connected layers\n",
    "        fc_out1 = self.relu(self.fc1(combined_input))\n",
    "        output = self.sigmoid(self.fc2(fc_out1))\n",
    "        \n",
    "        return output"
   ]
  },
  {
   "cell_type": "code",
   "execution_count": 26,
   "id": "ad621ee8-5ef5-4484-a2a0-cd01d6d3a300",
   "metadata": {},
   "outputs": [],
   "source": [
    "import torch\n",
    "from torch.utils.data import DataLoader, TensorDataset, SubsetRandomSampler\n",
    "from sklearn.model_selection import train_test_split\n",
    "\n",
    "# Convert additional features DataFrame to a tensor\n",
    "additional_features_tensor = torch.tensor(encoded_categorical_df.values, dtype=torch.float32)\n",
    "\n",
    "# Assume assay_values and embeddings_tensor are defined as before\n",
    "dataset = TensorDataset(embeddings_tensor, additional_features_tensor, assay_values)\n",
    "\n",
    "# Split dataset into training and validation sets\n",
    "train_indices, val_indices = train_test_split(range(len(dataset)), test_size=0.2, random_state=42)\n",
    "\n",
    "batch_size = 8\n",
    "\n",
    "# Create DataLoaders for training and validation sets\n",
    "train_sampler = SubsetRandomSampler(train_indices)\n",
    "train_loader = DataLoader(dataset, batch_size=batch_size, sampler=train_sampler)\n",
    "\n",
    "val_sampler = SubsetRandomSampler(val_indices)\n",
    "val_loader = DataLoader(dataset, batch_size=batch_size, sampler=val_sampler)"
   ]
  },
  {
   "cell_type": "code",
   "execution_count": 27,
   "id": "4127ee32-be2e-4004-9bed-dab062ec779a",
   "metadata": {},
   "outputs": [],
   "source": [
    "import torch.nn as nn\n",
    "import torch.optim as optim\n",
    "\n",
    "# The additional_features_dim should match the number of columns in encoded_categorical_df\n",
    "additional_features_dim = encoded_categorical_df.shape[1]\n",
    "embedding_dim = 20  # Placeholder for the dimension of each embedding\n",
    "sequence_length = 22  # Placeholder for the length of sequences considered by conv layers\n",
    "\n",
    "# Instantiate the model\n",
    "model = ExtendedBinaryPredictionModel(embedding_dim, sequence_length, additional_features_dim)\n",
    "\n",
    "# Loss function and optimizer\n",
    "criterion = nn.BCELoss()\n",
    "optimizer = optim.Adam(model.parameters(), lr=0.001)"
   ]
  },
  {
   "cell_type": "code",
   "execution_count": 28,
   "id": "ae393754-0f46-4e04-bb32-652263b7bca1",
   "metadata": {},
   "outputs": [
    {
     "name": "stdout",
     "output_type": "stream",
     "text": [
      "Epoch 1, Loss: 0.3964, Accuracy: 0.8346\n",
      "Epoch 6, Loss: 0.2431, Accuracy: 0.9011\n",
      "Epoch 11, Loss: 0.2212, Accuracy: 0.9101\n",
      "Epoch 16, Loss: 0.2164, Accuracy: 0.9098\n",
      "Epoch 21, Loss: 0.2064, Accuracy: 0.9104\n",
      "Epoch 26, Loss: 0.2051, Accuracy: 0.9129\n",
      "Epoch 31, Loss: 0.1976, Accuracy: 0.9199\n",
      "Epoch 36, Loss: 0.1904, Accuracy: 0.9180\n",
      "Epoch 41, Loss: 0.1885, Accuracy: 0.9202\n",
      "Epoch 46, Loss: 0.1855, Accuracy: 0.9244\n",
      "Epoch 51, Loss: 0.1798, Accuracy: 0.9275\n",
      "Epoch 56, Loss: 0.1750, Accuracy: 0.9301\n",
      "Epoch 61, Loss: 0.1708, Accuracy: 0.9329\n",
      "Epoch 66, Loss: 0.1656, Accuracy: 0.9315\n",
      "Epoch 71, Loss: 0.1648, Accuracy: 0.9357\n",
      "Epoch 76, Loss: 0.1589, Accuracy: 0.9388\n",
      "Epoch 81, Loss: 0.2192, Accuracy: 0.9427\n",
      "Epoch 86, Loss: 0.1522, Accuracy: 0.9430\n",
      "Epoch 91, Loss: 0.1459, Accuracy: 0.9441\n",
      "Epoch 96, Loss: 0.1470, Accuracy: 0.9452\n",
      "Training finished\n"
     ]
    }
   ],
   "source": [
    "num_epochs = 100\n",
    "for epoch in range(num_epochs):\n",
    "    running_loss = 0.0\n",
    "    correct_predictions = 0\n",
    "    total_samples = 0\n",
    "\n",
    "    for batch in train_loader:\n",
    "        inputs, features, labels = batch\n",
    "\n",
    "        # Zero the parameter gradients\n",
    "        optimizer.zero_grad()\n",
    "\n",
    "        # Forward pass\n",
    "        outputs = model(inputs, features)\n",
    "\n",
    "        # Compute the loss\n",
    "        labels = labels.unsqueeze(1).float()  # Ensure labels are float and match output shape\n",
    "        loss = criterion(outputs, labels)\n",
    "\n",
    "        # Backward pass and optimization\n",
    "        loss.backward()\n",
    "        optimizer.step()\n",
    "\n",
    "        # Update running loss\n",
    "        running_loss += loss.item()\n",
    "\n",
    "        # Calculate accuracy\n",
    "        predicted = (outputs > 0.5).float()\n",
    "        correct_predictions += (predicted == labels).sum().item()\n",
    "        total_samples += labels.size(0)\n",
    "\n",
    "    epoch_loss = running_loss / len(train_loader)\n",
    "    epoch_accuracy = correct_predictions / total_samples\n",
    "\n",
    "    if epoch % 5 == 0:\n",
    "        print(f'Epoch {epoch+1}, Loss: {epoch_loss:.4f}, Accuracy: {epoch_accuracy:.4f}')\n",
    "\n",
    "print('Training finished')"
   ]
  },
  {
   "cell_type": "code",
   "execution_count": 29,
   "id": "db495073-620e-4815-b37f-05299db2201b",
   "metadata": {},
   "outputs": [
    {
     "data": {
      "text/plain": [
       "Text(0.5, 0, 'Epochs')"
      ]
     },
     "execution_count": 29,
     "metadata": {},
     "output_type": "execute_result"
    },
    {
     "data": {
      "image/png": "[encoded data removed]",
      "text/plain": [
       "<Figure size 1000x400 with 2 Axes>"
      ]
     },
     "metadata": {},
     "output_type": "display_data"
    }
   ],
   "source": [
    "# plot loss vs epochs\n",
    "fig = plt.figure(figsize = (10, 4))\n",
    "ax = fig.add_subplot(1, 2, 1)\n",
    "ax.plot(range(num_epochs), training_loss_list)\n",
    "ax.set_ylabel('Loss')\n",
    "ax.set_xlabel('Epochs')\n",
    "\n",
    "ax = fig.add_subplot(1, 2, 2)\n",
    "ax.plot(range(num_epochs), training_acc_list)\n",
    "ax.set_ylabel('Accuracy')\n",
    "ax.set_xlabel('Epochs')"
   ]
  },
  {
   "cell_type": "code",
   "execution_count": 31,
   "id": "b5d6d28b-677c-4667-80d7-2bc2953d4223",
   "metadata": {},
   "outputs": [
    {
     "name": "stdout",
     "output_type": "stream",
     "text": [
      "Validation Accuracy: 0.8934\n",
      "ROC AUC Score: 0.9252\n",
      "F1 Score: 0.7619\n"
     ]
    }
   ],
   "source": [
    "from sklearn.metrics import roc_auc_score, f1_score\n",
    "\n",
    "def evaluate(model, dataloader):\n",
    "    model.eval()  # Set model to evaluation mode\n",
    "    correct_predictions = 0\n",
    "    total_samples = 0\n",
    "    all_labels = []\n",
    "    all_preds = []  # This will store the probabilities for ROC AUC calculation\n",
    "\n",
    "    with torch.no_grad():\n",
    "        for batch in dataloader:\n",
    "            inputs, features, labels = batch\n",
    "            outputs = model(inputs, features).squeeze(1)  # Adjust for the model's forward method\n",
    "            predicted_probs = outputs  # Directly use outputs as probabilities\n",
    "            predicted_labels = (predicted_probs > 0.5).float()  # Convert probabilities to 0 or 1 based on threshold\n",
    "\n",
    "            # Calculate correct predictions for accuracy\n",
    "            correct_predictions += (predicted_labels == labels).sum().item()\n",
    "            total_samples += labels.size(0)\n",
    "\n",
    "            # Store labels and predictions for computing ROC AUC and F1 Score\n",
    "            all_labels.extend(labels.tolist())\n",
    "            all_preds.extend(predicted_probs.tolist())  # Use probabilities for ROC AUC\n",
    "\n",
    "    accuracy = correct_predictions / total_samples\n",
    "    roc_auc = roc_auc_score(all_labels, all_preds)  # Use probabilities for ROC AUC calculation\n",
    "    f1 = f1_score(all_labels, [1 if x > 0.5 else 0 for x in all_preds])  # Convert probabilities to labels for F1\n",
    "\n",
    "    return accuracy, roc_auc, f1\n",
    "\n",
    "# Perform validation\n",
    "val_accuracy, val_roc_auc, val_f1 = evaluate(model, val_loader)\n",
    "\n",
    "print(f'Validation Accuracy: {val_accuracy:.4f}')\n",
    "print(f'ROC AUC Score: {val_roc_auc:.4f}')\n",
    "print(f'F1 Score: {val_f1:.4f}')"
   ]
  },
  {
   "cell_type": "code",
   "execution_count": null,
   "id": "dd1a284f-3722-445b-b309-6f40cfb03cd2",
   "metadata": {},
   "outputs": [],
   "source": []
  }
 ],
 "metadata": {
  "kernelspec": {
   "display_name": "Python 3 (ipykernel)",
   "language": "python",
   "name": "python3"
  },
  "language_info": {
   "codemirror_mode": {
    "name": "ipython",
    "version": 3
   },
   "file_extension": ".py",
   "mimetype": "text/x-python",
   "name": "python",
   "nbconvert_exporter": "python",
   "pygments_lexer": "ipython3",
   "version": "3.12.3"
  }
 },
 "nbformat": 4,
 "nbformat_minor": 5
}
